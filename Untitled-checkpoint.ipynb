{
 "cells": [
  {
   "cell_type": "code",
   "execution_count": 8,
   "id": "2c82328c-2f6f-4a87-ad26-bbcc34d3b6bb",
   "metadata": {},
   "outputs": [
    {
     "ename": "ModuleNotFoundError",
     "evalue": "No module named 'pymongo'",
     "output_type": "error",
     "traceback": [
      "\u001b[1;31m---------------------------------------------------------------------------\u001b[0m",
      "\u001b[1;31mModuleNotFoundError\u001b[0m                       Traceback (most recent call last)",
      "Cell \u001b[1;32mIn[8], line 2\u001b[0m\n\u001b[0;32m      1\u001b[0m \u001b[38;5;28;01mimport\u001b[39;00m \u001b[38;5;21;01mpandas\u001b[39;00m \u001b[38;5;28;01mas\u001b[39;00m \u001b[38;5;21;01mpd\u001b[39;00m\n\u001b[1;32m----> 2\u001b[0m \u001b[38;5;28;01mfrom\u001b[39;00m \u001b[38;5;21;01mpymongo\u001b[39;00m \u001b[38;5;28;01mimport\u001b[39;00m MongoClient\n",
      "\u001b[1;31mModuleNotFoundError\u001b[0m: No module named 'pymongo'"
     ]
    }
   ],
   "source": [
    "import pandas as pd\n",
    "from pymongo import MongoClient\n"
   ]
  },
  {
   "cell_type": "code",
   "execution_count": 6,
   "id": "a963a53c-0d55-416d-81aa-0418356c44b1",
   "metadata": {},
   "outputs": [
    {
     "ename": "SyntaxError",
     "evalue": "invalid syntax (1515353738.py, line 1)",
     "output_type": "error",
     "traceback": [
      "\u001b[1;36m  Cell \u001b[1;32mIn[6], line 1\u001b[1;36m\u001b[0m\n\u001b[1;33m    Connect to MongoDB (make sure MongoDB is running locally on the default port 27017)\u001b[0m\n\u001b[1;37m            ^\u001b[0m\n\u001b[1;31mSyntaxError\u001b[0m\u001b[1;31m:\u001b[0m invalid syntax\n"
     ]
    }
   ],
   "source": [
    "Connect to MongoDB (make sure MongoDB is running locally on the default port 27017)\n",
    "client = MongoClient(\"mongodb://localhost:27017/\")"
   ]
  },
  {
   "cell_type": "code",
   "execution_count": 10,
   "id": "8cc11995-96fe-4ac6-bbb5-a772db4df481",
   "metadata": {},
   "outputs": [
    {
     "ename": "ModuleNotFoundError",
     "evalue": "No module named 'pymongo'",
     "output_type": "error",
     "traceback": [
      "\u001b[1;31m---------------------------------------------------------------------------\u001b[0m",
      "\u001b[1;31mModuleNotFoundError\u001b[0m                       Traceback (most recent call last)",
      "Cell \u001b[1;32mIn[10], line 1\u001b[0m\n\u001b[1;32m----> 1\u001b[0m \u001b[38;5;28;01mimport\u001b[39;00m \u001b[38;5;21;01mpymongo\u001b[39;00m\n\u001b[0;32m      2\u001b[0m \u001b[38;5;28;01mfrom\u001b[39;00m \u001b[38;5;21;01mpymongo\u001b[39;00m \u001b[38;5;28;01mimport\u001b[39;00m MongoClient\n\u001b[0;32m      4\u001b[0m \u001b[38;5;66;03m# Connect to MongoDB (use your connection string here)\u001b[39;00m\n",
      "\u001b[1;31mModuleNotFoundError\u001b[0m: No module named 'pymongo'"
     ]
    }
   ],
   "source": [
    "import pymongo\n",
    "from pymongo import MongoClient\n",
    "\n",
    "# Connect to MongoDB (use your connection string here)\n",
    "client = MongoClient(\"mongodb://localhost:27017/\")\n",
    "\n",
    "# Create or connect to the database\n",
    "db = client['employee_database']\n",
    "\n",
    "# Function to create a collection\n",
    "def createCollection(p_collection_name):\n",
    "    collection = db[p_collection_name]\n",
    "    print(f\"Collection '{p_collection_name}' created or accessed.\")\n",
    "    return collection\n",
    "\n",
    "# Function to index data, excluding a column\n",
    "def indexData(p_collection_name, p_exclude_column):\n",
    "    collection = db[p_collection_name]\n",
    "    # Sample employee data\n",
    "    employees = [\n",
    "        {'_id': 'E02001', 'Name': 'Alice', 'Gender': 'Female', 'Department': 'HR'},\n",
    "        {'_id': 'E02002', 'Name': 'Bob', 'Gender': 'Male', 'Department': 'IT'},\n",
    "        {'_id': 'E02003', 'Name': 'Charlie', 'Gender': 'Male', 'Department': 'Finance'},\n",
    "        {'_id': 'E02004', 'Name': 'David', 'Gender': 'Male', 'Department': 'IT'}\n",
    "    ]\n",
    "    # Exclude the specified column\n",
    "    for emp in employees:\n",
    "        emp.pop(p_exclude_column, None)\n",
    "        collection.insert_one(emp)\n",
    "    print(f\"Data indexed into '{p_collection_name}' excluding column '{p_exclude_column}'.\")\n",
    "\n",
    "# Function to search by a column\n",
    "def searchByColumn(p_collection_name, p_column_name, p_column_value):\n",
    "    collection = db[p_collection_name]\n",
    "    results = collection.find({p_column_name: p_column_value})\n",
    "    for result in results:\n",
    "        print(result)\n",
    "\n",
    "# Function to get the employee count\n",
    "def getEmpCount(p_collection_name):\n",
    "    collection = db[p_collection_name]\n",
    "    count = collection.count_documents({})\n",
    "    print(f\"Employee count in '{p_collection_name}': {count}\")\n",
    "    return count\n",
    "\n",
    "# Function to delete an employee by ID\n",
    "def delEmpById(p_collection_name, p_employee_id):\n",
    "    collection = db[p_collection_name]\n",
    "    result = collection.delete_one({'_id': p_employee_id})\n",
    "    if result.deleted_count > 0:\n",
    "        print(f\"Employee with ID '{p_employee_id}' deleted.\")\n",
    "    else:\n",
    "        print(f\"No employee found with ID '{p_employee_id}'.\")\n",
    "\n",
    "# Function to get department facet\n",
    "def getDepFacet(p_collection_name):\n",
    "    collection = db[p_collection_name]\n",
    "    pipeline = [\n",
    "        {\"$group\": {\"_id\": \"$Department\", \"count\": {\"$sum\": 1}}}\n",
    "    ]\n",
    "    results = collection.aggregate(pipeline)\n",
    "    for result in results:\n",
    "        print(f\"Department: {result['_id']}, Count: {result['count']}\")\n",
    "\n",
    "# Function executions as per the instructions\n",
    "v_nameCollection = 'Hash_YourName'\n",
    "v_phoneCollection = 'Hash_1234'\n",
    "\n",
    "# Execute the functions in order\n",
    "createCollection(v_nameCollection)\n",
    "createCollection(v_phoneCollection)\n",
    "\n",
    "# Get employee count before indexing\n",
    "getEmpCount(v_nameCollection)\n",
    "\n",
    "# Index data excluding specified columns\n",
    "indexData(v_nameCollection, 'Department')\n",
    "indexData(v_phoneCollection, 'Gender')\n",
    "\n",
    "# Delete an employee by ID\n",
    "delEmpById(v_nameCollection, 'E02003')\n",
    "\n",
    "# Get employee count after deletion\n",
    "getEmpCount(v_nameCollection)\n",
    "\n",
    "# Search by column\n",
    "searchByColumn(v_nameCollection, 'Department', 'IT')\n",
    "searchByColumn(v_nameCollection, 'Gender', 'Male')\n",
    "searchByColumn(v_phoneCollection, 'Department', 'IT')\n",
    "\n",
    "# Get department facet\n",
    "getDepFacet(v_nameCollection)\n",
    "getDepFacet(v_phoneCollection)\n"
   ]
  },
  {
   "cell_type": "code",
   "execution_count": 12,
   "id": "b17b2088-d678-4de7-86c9-dd8eda1c560c",
   "metadata": {},
   "outputs": [
    {
     "name": "stdout",
     "output_type": "stream",
     "text": [
      "Collecting pymongo\n",
      "  Downloading pymongo-4.10.1-cp312-cp312-win_amd64.whl.metadata (22 kB)\n",
      "Collecting dnspython<3.0.0,>=1.16.0 (from pymongo)\n",
      "  Downloading dnspython-2.7.0-py3-none-any.whl.metadata (5.8 kB)\n",
      "Downloading pymongo-4.10.1-cp312-cp312-win_amd64.whl (926 kB)\n",
      "   ---------------------------------------- 0.0/926.7 kB ? eta -:--:--\n",
      "   - -------------------------------------- 30.7/926.7 kB 1.3 MB/s eta 0:00:01\n",
      "   -------- ------------------------------- 194.6/926.7 kB 2.4 MB/s eta 0:00:01\n",
      "   -------- ------------------------------- 204.8/926.7 kB 2.5 MB/s eta 0:00:01\n",
      "   ------------------- -------------------- 440.3/926.7 kB 2.7 MB/s eta 0:00:01\n",
      "   --------------------- ------------------ 491.5/926.7 kB 2.8 MB/s eta 0:00:01\n",
      "   -------------------------- ------------- 604.2/926.7 kB 2.5 MB/s eta 0:00:01\n",
      "   ----------------------------- ---------- 686.1/926.7 kB 2.3 MB/s eta 0:00:01\n",
      "   ------------------------------ --------- 716.8/926.7 kB 2.1 MB/s eta 0:00:01\n",
      "   ----------------------------------- ---- 829.4/926.7 kB 2.1 MB/s eta 0:00:01\n",
      "   ---------------------------------------  911.4/926.7 kB 2.1 MB/s eta 0:00:01\n",
      "   ---------------------------------------  921.6/926.7 kB 2.0 MB/s eta 0:00:01\n",
      "   ---------------------------------------  921.6/926.7 kB 2.0 MB/s eta 0:00:01\n",
      "   ---------------------------------------  921.6/926.7 kB 2.0 MB/s eta 0:00:01\n",
      "   ---------------------------------------  921.6/926.7 kB 2.0 MB/s eta 0:00:01\n",
      "   ---------------------------------------  921.6/926.7 kB 2.0 MB/s eta 0:00:01\n",
      "   ---------------------------------------  921.6/926.7 kB 2.0 MB/s eta 0:00:01\n",
      "   ---------------------------------------  921.6/926.7 kB 2.0 MB/s eta 0:00:01\n",
      "   ---------------------------------------  921.6/926.7 kB 2.0 MB/s eta 0:00:01\n",
      "   ---------------------------------------  921.6/926.7 kB 2.0 MB/s eta 0:00:01\n",
      "   ---------------------------------------  921.6/926.7 kB 2.0 MB/s eta 0:00:01\n",
      "   ---------------------------------------  921.6/926.7 kB 2.0 MB/s eta 0:00:01\n",
      "   ---------------------------------------  921.6/926.7 kB 2.0 MB/s eta 0:00:01\n",
      "   ---------------------------------------  921.6/926.7 kB 2.0 MB/s eta 0:00:01\n",
      "   -------------------------------------- 926.7/926.7 kB 837.7 kB/s eta 0:00:00\n",
      "Downloading dnspython-2.7.0-py3-none-any.whl (313 kB)\n",
      "   ---------------------------------------- 0.0/313.6 kB ? eta -:--:--\n",
      "   --------- ------------------------------ 71.7/313.6 kB 2.0 MB/s eta 0:00:01\n",
      "   ---------- ----------------------------- 81.9/313.6 kB 1.2 MB/s eta 0:00:01\n",
      "   -------------------------- ------------- 204.8/313.6 kB 1.8 MB/s eta 0:00:01\n",
      "   ------------------------------ --------- 235.5/313.6 kB 1.4 MB/s eta 0:00:01\n",
      "   ------------------------------------ --- 286.7/313.6 kB 1.3 MB/s eta 0:00:01\n",
      "   ---------------------------------------  307.2/313.6 kB 1.4 MB/s eta 0:00:01\n",
      "   ---------------------------------------  307.2/313.6 kB 1.4 MB/s eta 0:00:01\n",
      "   ---------------------------------------  307.2/313.6 kB 1.4 MB/s eta 0:00:01\n",
      "   ---------------------------------------  307.2/313.6 kB 1.4 MB/s eta 0:00:01\n",
      "   -------------------------------------- 313.6/313.6 kB 747.3 kB/s eta 0:00:00\n",
      "Installing collected packages: dnspython, pymongo\n",
      "Successfully installed dnspython-2.7.0 pymongo-4.10.1\n"
     ]
    }
   ],
   "source": [
    "!pip install pymongo\n"
   ]
  },
  {
   "cell_type": "code",
   "execution_count": 13,
   "id": "8e809fb1-9016-4a9b-a07c-e4f1501c2dd3",
   "metadata": {},
   "outputs": [],
   "source": [
    "import pymongo\n",
    "from pymongo import MongoClient"
   ]
  },
  {
   "cell_type": "code",
   "execution_count": 14,
   "id": "961d67ce-0fc9-4db8-ac72-254c054032fe",
   "metadata": {},
   "outputs": [],
   "source": [
    "client = MongoClient(\"mongodb://localhost:27017/\")"
   ]
  },
  {
   "cell_type": "code",
   "execution_count": 15,
   "id": "2d2b95be-f4af-4663-b1ef-44a0867b92ef",
   "metadata": {},
   "outputs": [],
   "source": [
    "db = client['employee_database']"
   ]
  },
  {
   "cell_type": "code",
   "execution_count": 53,
   "id": "71fdc881-8e60-4eb8-9a26-bca5c0c5e649",
   "metadata": {},
   "outputs": [],
   "source": [
    "file_path = r\"C:\\Employee Sample Data 1.csv\"\n",
    "\n",
    "\n",
    "\n",
    "\n"
   ]
  },
  {
   "cell_type": "code",
   "execution_count": 55,
   "id": "3db5abd6-a0a3-4b8b-ac8f-b4ee096446a5",
   "metadata": {},
   "outputs": [],
   "source": [
    "def createCollection(p_collection_name):\n",
    "    \"\"\"Create a new collection with the specified name.\"\"\"\n",
    "    if p_collection_name not in db.list_collection_names():\n",
    "        collection = db[p_collection_name]\n",
    "        print(f\"Collection '{p_collection_name}' created.\")\n",
    "    else:\n",
    "        print(f\"Collection '{p_collection_name}' already exists.\")\n",
    "    return db[p_collection_name]"
   ]
  },
  {
   "cell_type": "code",
   "execution_count": 38,
   "id": "6d032f4a-7ecf-4f64-9f0d-faec63d377fd",
   "metadata": {},
   "outputs": [],
   "source": [
    "def indexData(p_collection_name, p_exclude_column):\n",
    "    \"\"\"Index data into collection, excluding the specified column.\"\"\"\n",
    "    collection = db[p_collection_name]\n",
    "    data_to_insert = df.drop(columns=[p_exclude_column]).to_dict('records')\n",
    "    collection.insert_many(data_to_insert)\n",
    "    print(f\"Data indexed into '{p_collection_name}', excluding '{p_exclude_column}'.\")"
   ]
  },
  {
   "cell_type": "code",
   "execution_count": 40,
   "id": "e2e671bc-ccf7-49da-b1c0-c92787bb8347",
   "metadata": {},
   "outputs": [],
   "source": [
    "def searchByColumn(p_collection_name, p_column_name, p_column_value):\n",
    "    \"\"\"Search the collection by the given column name and value.\"\"\"\n",
    "    collection = db[p_collection_name]\n",
    "    query = {p_column_name: p_column_value}\n",
    "    result = collection.find(query)\n",
    "    return list(result)"
   ]
  },
  {
   "cell_type": "code",
   "execution_count": 42,
   "id": "66e2eef1-858d-4081-a1a3-e405d8669652",
   "metadata": {},
   "outputs": [],
   "source": [
    "def getEmpCount(p_collection_name):\n",
    "    \"\"\"Get the count of employees in the specified collection.\"\"\"\n",
    "    collection = db[p_collection_name]\n",
    "    return collection.count_documents({})"
   ]
  },
  {
   "cell_type": "code",
   "execution_count": 44,
   "id": "dc69039b-28e8-47a3-b7f7-c3a7bfb6db54",
   "metadata": {},
   "outputs": [],
   "source": [
    "def delEmpById(p_collection_name, p_employee_id):\n",
    "    \"\"\"Delete an employee by ID.\"\"\"\n",
    "    collection = db[p_collection_name]\n",
    "    result = collection.delete_one({'Employee ID': p_employee_id})\n",
    "    if result.deleted_count > 0:\n",
    "        print(f\"Employee with ID '{p_employee_id}' deleted from '{p_collection_name}'.\")\n",
    "    else:\n",
    "        print(f\"Employee with ID '{p_employee_id}' not found in '{p_collection_name}'.\")"
   ]
  },
  {
   "cell_type": "code",
   "execution_count": 46,
   "id": "e0b302e6-23ef-43b5-94dd-b17798b8416c",
   "metadata": {},
   "outputs": [],
   "source": [
    "def getDepFacet(p_collection_name):\n",
    "    \"\"\"Get the count of employees grouped by department.\"\"\"\n",
    "    collection = db[p_collection_name]\n",
    "    pipeline = [\n",
    "        {\"$group\": {\"_id\": \"$Department\", \"count\": {\"$sum\": 1}}}\n",
    "    ]\n",
    "    result = collection.aggregate(pipeline)\n",
    "    return list(result)"
   ]
  },
  {
   "cell_type": "code",
   "execution_count": 85,
   "id": "43209586-0e1f-46ec-84a1-35c2f9ce2a23",
   "metadata": {},
   "outputs": [
    {
     "name": "stdout",
     "output_type": "stream",
     "text": [
      "Collection 'Cameron Lo' created or accessed.\n",
      "Collection '1234' created or accessed.\n"
     ]
    },
    {
     "data": {
      "text/plain": [
       "Collection(Database(MongoClient(host=['localhost:27017'], document_class=dict, tz_aware=False, connect=True), 'employee_database'), '1234')"
      ]
     },
     "execution_count": 85,
     "metadata": {},
     "output_type": "execute_result"
    }
   ],
   "source": [
    "import pymongo\n",
    "from pymongo import MongoClient\n",
    "\n",
    "# Connect to MongoDB (use your connection string here)\n",
    "client = MongoClient(\"mongodb://localhost:27017/\")\n",
    "\n",
    "# Create or connect to the database\n",
    "db = client['employee_database']\n",
    "\n",
    "# Function to create a collection\n",
    "def createCollection(p_collection_name):\n",
    "    collection = db[p_collection_name]\n",
    "    print(f\"Collection '{p_collection_name}' created or accessed.\")\n",
    "    return collection\n",
    "\n",
    "# Function to index data, excluding a column\n",
    "def indexData(p_collection_name, p_exclude_column):\n",
    "    collection = db[p_collection_name]\n",
    "    # Sample employee data\n",
    "    employees = [\n",
    "        {'_id': 'E02001', 'Name': 'Alice', 'Gender': 'Female', 'Department': 'HR'},\n",
    "        {'_id': 'E02002', 'Name': 'Bob', 'Gender': 'Male', 'Department': 'IT'},\n",
    "        {'_id': 'E02003', 'Name': 'Charlie', 'Gender': 'Male', 'Department': 'Finance'},\n",
    "        {'_id': 'E02004', 'Name': 'David', 'Gender': 'Male', 'Department': 'IT'}\n",
    "    ]\n",
    "    # Exclude the specified column\n",
    "    for emp in employees:\n",
    "        emp.pop(p_exclude_column, None)\n",
    "        collection.insert_one(emp)\n",
    "    print(f\"Data indexed into '{p_collection_name}' excluding column '{p_exclude_column}'.\")\n",
    "\n",
    "# Function to search by a column\n",
    "def searchByColumn(p_collection_name, p_column_name, p_column_value):\n",
    "    collection = db[p_collection_name]\n",
    "    results = collection.find({p_column_name: p_column_value})\n",
    "    for result in results:\n",
    "        print(result)\n",
    "\n",
    "# Function to get the employee count\n",
    "def getEmpCount(p_collection_name):\n",
    "    \"\"\"Get the count of employees in the specified collection.\"\"\"\n",
    "    collection = db[p_collection_name]\n",
    "    return collection.count_documents({})\n",
    "\n",
    "# Function to delete an employee by ID\n",
    "def delEmpById(p_collection_name, p_employee_id):\n",
    "    collection = db[p_collection_name]\n",
    "    result = collection.delete_one({'_id': p_employee_id})\n",
    "    if result.deleted_count > 0:\n",
    "        print(f\"Employee with ID '{p_employee_id}' deleted.\")\n",
    "    else:\n",
    "        print(f\"No employee found with ID '{p_employee_id}'.\")\n",
    "\n",
    "# Function to get department facet\n",
    "def getDepFacet(p_collection_name):\n",
    "    collection = db[p_collection_name]\n",
    "    pipeline = [\n",
    "        {\"$group\": {\"_id\": \"$Department\", \"count\": {\"$sum\": 1}}}\n",
    "    ]\n",
    "    results = collection.aggregate(pipeline)\n",
    "    for result in results:\n",
    "        print(f\"Department: {result['_id']}, Count: {result['count']}\")\n",
    "\n",
    "# Function executions as per the instructions\n",
    "v_nameCollection = 'Cameron Lo'\n",
    "v_phoneCollection = '1234'\n",
    "\n",
    "# Execute the functions in order\n",
    "createCollection(v_nameCollection)\n",
    "createCollection(v_phoneCollection)\n",
    "\n"
   ]
  },
  {
   "cell_type": "code",
   "execution_count": 87,
   "id": "1f9497ae-b8ea-43ff-af5d-858317b76d85",
   "metadata": {},
   "outputs": [
    {
     "ename": "ServerSelectionTimeoutError",
     "evalue": "localhost:27017: [WinError 10061] No connection could be made because the target machine actively refused it (configured timeouts: socketTimeoutMS: 20000.0ms, connectTimeoutMS: 20000.0ms), Timeout: 30s, Topology Description: <TopologyDescription id: 67164ed7c5400d1fc682245a, topology_type: Unknown, servers: [<ServerDescription ('localhost', 27017) server_type: Unknown, rtt: None, error=AutoReconnect('localhost:27017: [WinError 10061] No connection could be made because the target machine actively refused it (configured timeouts: socketTimeoutMS: 20000.0ms, connectTimeoutMS: 20000.0ms)')>]>",
     "output_type": "error",
     "traceback": [
      "\u001b[1;31m---------------------------------------------------------------------------\u001b[0m",
      "\u001b[1;31mServerSelectionTimeoutError\u001b[0m               Traceback (most recent call last)",
      "Cell \u001b[1;32mIn[87], line 1\u001b[0m\n\u001b[1;32m----> 1\u001b[0m \u001b[38;5;28mprint\u001b[39m(\u001b[38;5;124mf\u001b[39m\u001b[38;5;124m\"\u001b[39m\u001b[38;5;124mEmployee count in \u001b[39m\u001b[38;5;132;01m{\u001b[39;00mv_nameCollection\u001b[38;5;132;01m}\u001b[39;00m\u001b[38;5;124m: \u001b[39m\u001b[38;5;132;01m{\u001b[39;00mgetEmpCount(v_nameCollection)\u001b[38;5;132;01m}\u001b[39;00m\u001b[38;5;124m\"\u001b[39m)\n",
      "Cell \u001b[1;32mIn[85], line 43\u001b[0m, in \u001b[0;36mgetEmpCount\u001b[1;34m(p_collection_name)\u001b[0m\n\u001b[0;32m     41\u001b[0m \u001b[38;5;250m\u001b[39m\u001b[38;5;124;03m\"\"\"Get the count of employees in the specified collection.\"\"\"\u001b[39;00m\n\u001b[0;32m     42\u001b[0m collection \u001b[38;5;241m=\u001b[39m db[p_collection_name]\n\u001b[1;32m---> 43\u001b[0m \u001b[38;5;28;01mreturn\u001b[39;00m collection\u001b[38;5;241m.\u001b[39mcount_documents({})\n",
      "File \u001b[1;32m~\\anaconda3\\Lib\\site-packages\\pymongo\\synchronous\\collection.py:2134\u001b[0m, in \u001b[0;36mCollection.count_documents\u001b[1;34m(self, filter, session, comment, **kwargs)\u001b[0m\n\u001b[0;32m   2131\u001b[0m         \u001b[38;5;28;01mreturn\u001b[39;00m \u001b[38;5;241m0\u001b[39m\n\u001b[0;32m   2132\u001b[0m     \u001b[38;5;28;01mreturn\u001b[39;00m result[\u001b[38;5;124m\"\u001b[39m\u001b[38;5;124mn\u001b[39m\u001b[38;5;124m\"\u001b[39m]\n\u001b[1;32m-> 2134\u001b[0m \u001b[38;5;28;01mreturn\u001b[39;00m \u001b[38;5;28mself\u001b[39m\u001b[38;5;241m.\u001b[39m_retryable_non_cursor_read(_cmd, session, _Op\u001b[38;5;241m.\u001b[39mCOUNT)\n",
      "File \u001b[1;32m~\\anaconda3\\Lib\\site-packages\\pymongo\\synchronous\\collection.py:2148\u001b[0m, in \u001b[0;36mCollection._retryable_non_cursor_read\u001b[1;34m(self, func, session, operation)\u001b[0m\n\u001b[0;32m   2146\u001b[0m client \u001b[38;5;241m=\u001b[39m \u001b[38;5;28mself\u001b[39m\u001b[38;5;241m.\u001b[39m_database\u001b[38;5;241m.\u001b[39mclient\n\u001b[0;32m   2147\u001b[0m \u001b[38;5;28;01mwith\u001b[39;00m client\u001b[38;5;241m.\u001b[39m_tmp_session(session) \u001b[38;5;28;01mas\u001b[39;00m s:\n\u001b[1;32m-> 2148\u001b[0m     \u001b[38;5;28;01mreturn\u001b[39;00m client\u001b[38;5;241m.\u001b[39m_retryable_read(func, \u001b[38;5;28mself\u001b[39m\u001b[38;5;241m.\u001b[39m_read_preference_for(s), s, operation)\n",
      "File \u001b[1;32m~\\anaconda3\\Lib\\site-packages\\pymongo\\synchronous\\mongo_client.py:1863\u001b[0m, in \u001b[0;36mMongoClient._retryable_read\u001b[1;34m(self, func, read_pref, session, operation, address, retryable, operation_id)\u001b[0m\n\u001b[0;32m   1858\u001b[0m \u001b[38;5;66;03m# Ensure that the client supports retrying on reads and there is no session in\u001b[39;00m\n\u001b[0;32m   1859\u001b[0m \u001b[38;5;66;03m# transaction, otherwise, we will not support retry behavior for this call.\u001b[39;00m\n\u001b[0;32m   1860\u001b[0m retryable \u001b[38;5;241m=\u001b[39m \u001b[38;5;28mbool\u001b[39m(\n\u001b[0;32m   1861\u001b[0m     retryable \u001b[38;5;129;01mand\u001b[39;00m \u001b[38;5;28mself\u001b[39m\u001b[38;5;241m.\u001b[39moptions\u001b[38;5;241m.\u001b[39mretry_reads \u001b[38;5;129;01mand\u001b[39;00m \u001b[38;5;129;01mnot\u001b[39;00m (session \u001b[38;5;129;01mand\u001b[39;00m session\u001b[38;5;241m.\u001b[39min_transaction)\n\u001b[0;32m   1862\u001b[0m )\n\u001b[1;32m-> 1863\u001b[0m \u001b[38;5;28;01mreturn\u001b[39;00m \u001b[38;5;28mself\u001b[39m\u001b[38;5;241m.\u001b[39m_retry_internal(\n\u001b[0;32m   1864\u001b[0m     func,\n\u001b[0;32m   1865\u001b[0m     session,\n\u001b[0;32m   1866\u001b[0m     \u001b[38;5;28;01mNone\u001b[39;00m,\n\u001b[0;32m   1867\u001b[0m     operation,\n\u001b[0;32m   1868\u001b[0m     is_read\u001b[38;5;241m=\u001b[39m\u001b[38;5;28;01mTrue\u001b[39;00m,\n\u001b[0;32m   1869\u001b[0m     address\u001b[38;5;241m=\u001b[39maddress,\n\u001b[0;32m   1870\u001b[0m     read_pref\u001b[38;5;241m=\u001b[39mread_pref,\n\u001b[0;32m   1871\u001b[0m     retryable\u001b[38;5;241m=\u001b[39mretryable,\n\u001b[0;32m   1872\u001b[0m     operation_id\u001b[38;5;241m=\u001b[39moperation_id,\n\u001b[0;32m   1873\u001b[0m )\n",
      "File \u001b[1;32m~\\anaconda3\\Lib\\site-packages\\pymongo\\_csot.py:119\u001b[0m, in \u001b[0;36mapply.<locals>.csot_wrapper\u001b[1;34m(self, *args, **kwargs)\u001b[0m\n\u001b[0;32m    117\u001b[0m         \u001b[38;5;28;01mwith\u001b[39;00m _TimeoutContext(timeout):\n\u001b[0;32m    118\u001b[0m             \u001b[38;5;28;01mreturn\u001b[39;00m func(\u001b[38;5;28mself\u001b[39m, \u001b[38;5;241m*\u001b[39margs, \u001b[38;5;241m*\u001b[39m\u001b[38;5;241m*\u001b[39mkwargs)\n\u001b[1;32m--> 119\u001b[0m \u001b[38;5;28;01mreturn\u001b[39;00m func(\u001b[38;5;28mself\u001b[39m, \u001b[38;5;241m*\u001b[39margs, \u001b[38;5;241m*\u001b[39m\u001b[38;5;241m*\u001b[39mkwargs)\n",
      "File \u001b[1;32m~\\anaconda3\\Lib\\site-packages\\pymongo\\synchronous\\mongo_client.py:1830\u001b[0m, in \u001b[0;36mMongoClient._retry_internal\u001b[1;34m(self, func, session, bulk, operation, is_read, address, read_pref, retryable, operation_id)\u001b[0m\n\u001b[0;32m   1793\u001b[0m \u001b[38;5;129m@_csot\u001b[39m\u001b[38;5;241m.\u001b[39mapply\n\u001b[0;32m   1794\u001b[0m \u001b[38;5;28;01mdef\u001b[39;00m \u001b[38;5;21m_retry_internal\u001b[39m(\n\u001b[0;32m   1795\u001b[0m     \u001b[38;5;28mself\u001b[39m,\n\u001b[1;32m   (...)\u001b[0m\n\u001b[0;32m   1804\u001b[0m     operation_id: Optional[\u001b[38;5;28mint\u001b[39m] \u001b[38;5;241m=\u001b[39m \u001b[38;5;28;01mNone\u001b[39;00m,\n\u001b[0;32m   1805\u001b[0m ) \u001b[38;5;241m-\u001b[39m\u001b[38;5;241m>\u001b[39m T:\n\u001b[0;32m   1806\u001b[0m \u001b[38;5;250m    \u001b[39m\u001b[38;5;124;03m\"\"\"Internal retryable helper for all client transactions.\u001b[39;00m\n\u001b[0;32m   1807\u001b[0m \n\u001b[0;32m   1808\u001b[0m \u001b[38;5;124;03m    :param func: Callback function we want to retry\u001b[39;00m\n\u001b[1;32m   (...)\u001b[0m\n\u001b[0;32m   1817\u001b[0m \u001b[38;5;124;03m    :return: Output of the calling func()\u001b[39;00m\n\u001b[0;32m   1818\u001b[0m \u001b[38;5;124;03m    \"\"\"\u001b[39;00m\n\u001b[0;32m   1819\u001b[0m     \u001b[38;5;28;01mreturn\u001b[39;00m _ClientConnectionRetryable(\n\u001b[0;32m   1820\u001b[0m         mongo_client\u001b[38;5;241m=\u001b[39m\u001b[38;5;28mself\u001b[39m,\n\u001b[0;32m   1821\u001b[0m         func\u001b[38;5;241m=\u001b[39mfunc,\n\u001b[0;32m   1822\u001b[0m         bulk\u001b[38;5;241m=\u001b[39mbulk,\n\u001b[0;32m   1823\u001b[0m         operation\u001b[38;5;241m=\u001b[39moperation,\n\u001b[0;32m   1824\u001b[0m         is_read\u001b[38;5;241m=\u001b[39mis_read,\n\u001b[0;32m   1825\u001b[0m         session\u001b[38;5;241m=\u001b[39msession,\n\u001b[0;32m   1826\u001b[0m         read_pref\u001b[38;5;241m=\u001b[39mread_pref,\n\u001b[0;32m   1827\u001b[0m         address\u001b[38;5;241m=\u001b[39maddress,\n\u001b[0;32m   1828\u001b[0m         retryable\u001b[38;5;241m=\u001b[39mretryable,\n\u001b[0;32m   1829\u001b[0m         operation_id\u001b[38;5;241m=\u001b[39moperation_id,\n\u001b[1;32m-> 1830\u001b[0m     )\u001b[38;5;241m.\u001b[39mrun()\n",
      "File \u001b[1;32m~\\anaconda3\\Lib\\site-packages\\pymongo\\synchronous\\mongo_client.py:2554\u001b[0m, in \u001b[0;36m_ClientConnectionRetryable.run\u001b[1;34m(self)\u001b[0m\n\u001b[0;32m   2552\u001b[0m \u001b[38;5;28mself\u001b[39m\u001b[38;5;241m.\u001b[39m_check_last_error(check_csot\u001b[38;5;241m=\u001b[39m\u001b[38;5;28;01mTrue\u001b[39;00m)\n\u001b[0;32m   2553\u001b[0m \u001b[38;5;28;01mtry\u001b[39;00m:\n\u001b[1;32m-> 2554\u001b[0m     \u001b[38;5;28;01mreturn\u001b[39;00m \u001b[38;5;28mself\u001b[39m\u001b[38;5;241m.\u001b[39m_read() \u001b[38;5;28;01mif\u001b[39;00m \u001b[38;5;28mself\u001b[39m\u001b[38;5;241m.\u001b[39m_is_read \u001b[38;5;28;01melse\u001b[39;00m \u001b[38;5;28mself\u001b[39m\u001b[38;5;241m.\u001b[39m_write()\n\u001b[0;32m   2555\u001b[0m \u001b[38;5;28;01mexcept\u001b[39;00m ServerSelectionTimeoutError:\n\u001b[0;32m   2556\u001b[0m     \u001b[38;5;66;03m# The application may think the write was never attempted\u001b[39;00m\n\u001b[0;32m   2557\u001b[0m     \u001b[38;5;66;03m# if we raise ServerSelectionTimeoutError on the retry\u001b[39;00m\n\u001b[0;32m   2558\u001b[0m     \u001b[38;5;66;03m# attempt. Raise the original exception instead.\u001b[39;00m\n\u001b[0;32m   2559\u001b[0m     \u001b[38;5;28mself\u001b[39m\u001b[38;5;241m.\u001b[39m_check_last_error()\n",
      "File \u001b[1;32m~\\anaconda3\\Lib\\site-packages\\pymongo\\synchronous\\mongo_client.py:2689\u001b[0m, in \u001b[0;36m_ClientConnectionRetryable._read\u001b[1;34m(self)\u001b[0m\n\u001b[0;32m   2684\u001b[0m \u001b[38;5;28;01mdef\u001b[39;00m \u001b[38;5;21m_read\u001b[39m(\u001b[38;5;28mself\u001b[39m) \u001b[38;5;241m-\u001b[39m\u001b[38;5;241m>\u001b[39m T:\n\u001b[0;32m   2685\u001b[0m \u001b[38;5;250m    \u001b[39m\u001b[38;5;124;03m\"\"\"Wrapper method for read-type retryable client executions\u001b[39;00m\n\u001b[0;32m   2686\u001b[0m \n\u001b[0;32m   2687\u001b[0m \u001b[38;5;124;03m    :return: Output for func()'s call\u001b[39;00m\n\u001b[0;32m   2688\u001b[0m \u001b[38;5;124;03m    \"\"\"\u001b[39;00m\n\u001b[1;32m-> 2689\u001b[0m     \u001b[38;5;28mself\u001b[39m\u001b[38;5;241m.\u001b[39m_server \u001b[38;5;241m=\u001b[39m \u001b[38;5;28mself\u001b[39m\u001b[38;5;241m.\u001b[39m_get_server()\n\u001b[0;32m   2690\u001b[0m     \u001b[38;5;28;01massert\u001b[39;00m \u001b[38;5;28mself\u001b[39m\u001b[38;5;241m.\u001b[39m_read_pref \u001b[38;5;129;01mis\u001b[39;00m \u001b[38;5;129;01mnot\u001b[39;00m \u001b[38;5;28;01mNone\u001b[39;00m, \u001b[38;5;124m\"\u001b[39m\u001b[38;5;124mRead Preference required on read calls\u001b[39m\u001b[38;5;124m\"\u001b[39m\n\u001b[0;32m   2691\u001b[0m     \u001b[38;5;28;01mwith\u001b[39;00m \u001b[38;5;28mself\u001b[39m\u001b[38;5;241m.\u001b[39m_client\u001b[38;5;241m.\u001b[39m_conn_from_server(\u001b[38;5;28mself\u001b[39m\u001b[38;5;241m.\u001b[39m_read_pref, \u001b[38;5;28mself\u001b[39m\u001b[38;5;241m.\u001b[39m_server, \u001b[38;5;28mself\u001b[39m\u001b[38;5;241m.\u001b[39m_session) \u001b[38;5;28;01mas\u001b[39;00m (\n\u001b[0;32m   2692\u001b[0m         conn,\n\u001b[0;32m   2693\u001b[0m         read_pref,\n\u001b[0;32m   2694\u001b[0m     ):\n",
      "File \u001b[1;32m~\\anaconda3\\Lib\\site-packages\\pymongo\\synchronous\\mongo_client.py:2645\u001b[0m, in \u001b[0;36m_ClientConnectionRetryable._get_server\u001b[1;34m(self)\u001b[0m\n\u001b[0;32m   2640\u001b[0m \u001b[38;5;28;01mdef\u001b[39;00m \u001b[38;5;21m_get_server\u001b[39m(\u001b[38;5;28mself\u001b[39m) \u001b[38;5;241m-\u001b[39m\u001b[38;5;241m>\u001b[39m Server:\n\u001b[0;32m   2641\u001b[0m \u001b[38;5;250m    \u001b[39m\u001b[38;5;124;03m\"\"\"Retrieves a server object based on provided object context\u001b[39;00m\n\u001b[0;32m   2642\u001b[0m \n\u001b[0;32m   2643\u001b[0m \u001b[38;5;124;03m    :return: Abstraction to connect to server\u001b[39;00m\n\u001b[0;32m   2644\u001b[0m \u001b[38;5;124;03m    \"\"\"\u001b[39;00m\n\u001b[1;32m-> 2645\u001b[0m     \u001b[38;5;28;01mreturn\u001b[39;00m \u001b[38;5;28mself\u001b[39m\u001b[38;5;241m.\u001b[39m_client\u001b[38;5;241m.\u001b[39m_select_server(\n\u001b[0;32m   2646\u001b[0m         \u001b[38;5;28mself\u001b[39m\u001b[38;5;241m.\u001b[39m_server_selector,\n\u001b[0;32m   2647\u001b[0m         \u001b[38;5;28mself\u001b[39m\u001b[38;5;241m.\u001b[39m_session,\n\u001b[0;32m   2648\u001b[0m         \u001b[38;5;28mself\u001b[39m\u001b[38;5;241m.\u001b[39m_operation,\n\u001b[0;32m   2649\u001b[0m         address\u001b[38;5;241m=\u001b[39m\u001b[38;5;28mself\u001b[39m\u001b[38;5;241m.\u001b[39m_address,\n\u001b[0;32m   2650\u001b[0m         deprioritized_servers\u001b[38;5;241m=\u001b[39m\u001b[38;5;28mself\u001b[39m\u001b[38;5;241m.\u001b[39m_deprioritized_servers,\n\u001b[0;32m   2651\u001b[0m         operation_id\u001b[38;5;241m=\u001b[39m\u001b[38;5;28mself\u001b[39m\u001b[38;5;241m.\u001b[39m_operation_id,\n\u001b[0;32m   2652\u001b[0m     )\n",
      "File \u001b[1;32m~\\anaconda3\\Lib\\site-packages\\pymongo\\synchronous\\mongo_client.py:1649\u001b[0m, in \u001b[0;36mMongoClient._select_server\u001b[1;34m(self, server_selector, session, operation, address, deprioritized_servers, operation_id)\u001b[0m\n\u001b[0;32m   1647\u001b[0m             \u001b[38;5;28;01mraise\u001b[39;00m AutoReconnect(\u001b[38;5;124m\"\u001b[39m\u001b[38;5;124mserver \u001b[39m\u001b[38;5;132;01m%s\u001b[39;00m\u001b[38;5;124m:\u001b[39m\u001b[38;5;132;01m%s\u001b[39;00m\u001b[38;5;124m no longer available\u001b[39m\u001b[38;5;124m\"\u001b[39m \u001b[38;5;241m%\u001b[39m address)  \u001b[38;5;66;03m# noqa: UP031\u001b[39;00m\n\u001b[0;32m   1648\u001b[0m     \u001b[38;5;28;01melse\u001b[39;00m:\n\u001b[1;32m-> 1649\u001b[0m         server \u001b[38;5;241m=\u001b[39m topology\u001b[38;5;241m.\u001b[39mselect_server(\n\u001b[0;32m   1650\u001b[0m             server_selector,\n\u001b[0;32m   1651\u001b[0m             operation,\n\u001b[0;32m   1652\u001b[0m             deprioritized_servers\u001b[38;5;241m=\u001b[39mdeprioritized_servers,\n\u001b[0;32m   1653\u001b[0m             operation_id\u001b[38;5;241m=\u001b[39moperation_id,\n\u001b[0;32m   1654\u001b[0m         )\n\u001b[0;32m   1655\u001b[0m     \u001b[38;5;28;01mreturn\u001b[39;00m server\n\u001b[0;32m   1656\u001b[0m \u001b[38;5;28;01mexcept\u001b[39;00m PyMongoError \u001b[38;5;28;01mas\u001b[39;00m exc:\n\u001b[0;32m   1657\u001b[0m     \u001b[38;5;66;03m# Server selection errors in a transaction are transient.\u001b[39;00m\n",
      "File \u001b[1;32m~\\anaconda3\\Lib\\site-packages\\pymongo\\synchronous\\topology.py:398\u001b[0m, in \u001b[0;36mTopology.select_server\u001b[1;34m(self, selector, operation, server_selection_timeout, address, deprioritized_servers, operation_id)\u001b[0m\n\u001b[0;32m    388\u001b[0m \u001b[38;5;28;01mdef\u001b[39;00m \u001b[38;5;21mselect_server\u001b[39m(\n\u001b[0;32m    389\u001b[0m     \u001b[38;5;28mself\u001b[39m,\n\u001b[0;32m    390\u001b[0m     selector: Callable[[Selection], Selection],\n\u001b[1;32m   (...)\u001b[0m\n\u001b[0;32m    395\u001b[0m     operation_id: Optional[\u001b[38;5;28mint\u001b[39m] \u001b[38;5;241m=\u001b[39m \u001b[38;5;28;01mNone\u001b[39;00m,\n\u001b[0;32m    396\u001b[0m ) \u001b[38;5;241m-\u001b[39m\u001b[38;5;241m>\u001b[39m Server:\n\u001b[0;32m    397\u001b[0m \u001b[38;5;250m    \u001b[39m\u001b[38;5;124;03m\"\"\"Like select_servers, but choose a random server if several match.\"\"\"\u001b[39;00m\n\u001b[1;32m--> 398\u001b[0m     server \u001b[38;5;241m=\u001b[39m \u001b[38;5;28mself\u001b[39m\u001b[38;5;241m.\u001b[39m_select_server(\n\u001b[0;32m    399\u001b[0m         selector,\n\u001b[0;32m    400\u001b[0m         operation,\n\u001b[0;32m    401\u001b[0m         server_selection_timeout,\n\u001b[0;32m    402\u001b[0m         address,\n\u001b[0;32m    403\u001b[0m         deprioritized_servers,\n\u001b[0;32m    404\u001b[0m         operation_id\u001b[38;5;241m=\u001b[39moperation_id,\n\u001b[0;32m    405\u001b[0m     )\n\u001b[0;32m    406\u001b[0m     \u001b[38;5;28;01mif\u001b[39;00m _csot\u001b[38;5;241m.\u001b[39mget_timeout():\n\u001b[0;32m    407\u001b[0m         _csot\u001b[38;5;241m.\u001b[39mset_rtt(server\u001b[38;5;241m.\u001b[39mdescription\u001b[38;5;241m.\u001b[39mmin_round_trip_time)\n",
      "File \u001b[1;32m~\\anaconda3\\Lib\\site-packages\\pymongo\\synchronous\\topology.py:376\u001b[0m, in \u001b[0;36mTopology._select_server\u001b[1;34m(self, selector, operation, server_selection_timeout, address, deprioritized_servers, operation_id)\u001b[0m\n\u001b[0;32m    367\u001b[0m \u001b[38;5;28;01mdef\u001b[39;00m \u001b[38;5;21m_select_server\u001b[39m(\n\u001b[0;32m    368\u001b[0m     \u001b[38;5;28mself\u001b[39m,\n\u001b[0;32m    369\u001b[0m     selector: Callable[[Selection], Selection],\n\u001b[1;32m   (...)\u001b[0m\n\u001b[0;32m    374\u001b[0m     operation_id: Optional[\u001b[38;5;28mint\u001b[39m] \u001b[38;5;241m=\u001b[39m \u001b[38;5;28;01mNone\u001b[39;00m,\n\u001b[0;32m    375\u001b[0m ) \u001b[38;5;241m-\u001b[39m\u001b[38;5;241m>\u001b[39m Server:\n\u001b[1;32m--> 376\u001b[0m     servers \u001b[38;5;241m=\u001b[39m \u001b[38;5;28mself\u001b[39m\u001b[38;5;241m.\u001b[39mselect_servers(\n\u001b[0;32m    377\u001b[0m         selector, operation, server_selection_timeout, address, operation_id\n\u001b[0;32m    378\u001b[0m     )\n\u001b[0;32m    379\u001b[0m     servers \u001b[38;5;241m=\u001b[39m _filter_servers(servers, deprioritized_servers)\n\u001b[0;32m    380\u001b[0m     \u001b[38;5;28;01mif\u001b[39;00m \u001b[38;5;28mlen\u001b[39m(servers) \u001b[38;5;241m==\u001b[39m \u001b[38;5;241m1\u001b[39m:\n",
      "File \u001b[1;32m~\\anaconda3\\Lib\\site-packages\\pymongo\\synchronous\\topology.py:283\u001b[0m, in \u001b[0;36mTopology.select_servers\u001b[1;34m(self, selector, operation, server_selection_timeout, address, operation_id)\u001b[0m\n\u001b[0;32m    280\u001b[0m     server_timeout \u001b[38;5;241m=\u001b[39m server_selection_timeout\n\u001b[0;32m    282\u001b[0m \u001b[38;5;28;01mwith\u001b[39;00m \u001b[38;5;28mself\u001b[39m\u001b[38;5;241m.\u001b[39m_lock:\n\u001b[1;32m--> 283\u001b[0m     server_descriptions \u001b[38;5;241m=\u001b[39m \u001b[38;5;28mself\u001b[39m\u001b[38;5;241m.\u001b[39m_select_servers_loop(\n\u001b[0;32m    284\u001b[0m         selector, server_timeout, operation, operation_id, address\n\u001b[0;32m    285\u001b[0m     )\n\u001b[0;32m    287\u001b[0m     \u001b[38;5;28;01mreturn\u001b[39;00m [\n\u001b[0;32m    288\u001b[0m         cast(Server, \u001b[38;5;28mself\u001b[39m\u001b[38;5;241m.\u001b[39mget_server_by_address(sd\u001b[38;5;241m.\u001b[39maddress)) \u001b[38;5;28;01mfor\u001b[39;00m sd \u001b[38;5;129;01min\u001b[39;00m server_descriptions\n\u001b[0;32m    289\u001b[0m     ]\n",
      "File \u001b[1;32m~\\anaconda3\\Lib\\site-packages\\pymongo\\synchronous\\topology.py:333\u001b[0m, in \u001b[0;36mTopology._select_servers_loop\u001b[1;34m(self, selector, timeout, operation, operation_id, address)\u001b[0m\n\u001b[0;32m    322\u001b[0m     \u001b[38;5;28;01mif\u001b[39;00m _SERVER_SELECTION_LOGGER\u001b[38;5;241m.\u001b[39misEnabledFor(logging\u001b[38;5;241m.\u001b[39mDEBUG):\n\u001b[0;32m    323\u001b[0m         _debug_log(\n\u001b[0;32m    324\u001b[0m             _SERVER_SELECTION_LOGGER,\n\u001b[0;32m    325\u001b[0m             message\u001b[38;5;241m=\u001b[39m_ServerSelectionStatusMessage\u001b[38;5;241m.\u001b[39mFAILED,\n\u001b[1;32m   (...)\u001b[0m\n\u001b[0;32m    331\u001b[0m             failure\u001b[38;5;241m=\u001b[39m\u001b[38;5;28mself\u001b[39m\u001b[38;5;241m.\u001b[39m_error_message(selector),\n\u001b[0;32m    332\u001b[0m         )\n\u001b[1;32m--> 333\u001b[0m     \u001b[38;5;28;01mraise\u001b[39;00m ServerSelectionTimeoutError(\n\u001b[0;32m    334\u001b[0m         \u001b[38;5;124mf\u001b[39m\u001b[38;5;124m\"\u001b[39m\u001b[38;5;132;01m{\u001b[39;00m\u001b[38;5;28mself\u001b[39m\u001b[38;5;241m.\u001b[39m_error_message(selector)\u001b[38;5;132;01m}\u001b[39;00m\u001b[38;5;124m, Timeout: \u001b[39m\u001b[38;5;132;01m{\u001b[39;00mtimeout\u001b[38;5;132;01m}\u001b[39;00m\u001b[38;5;124ms, Topology Description: \u001b[39m\u001b[38;5;132;01m{\u001b[39;00m\u001b[38;5;28mself\u001b[39m\u001b[38;5;241m.\u001b[39mdescription\u001b[38;5;132;01m!r}\u001b[39;00m\u001b[38;5;124m\"\u001b[39m\n\u001b[0;32m    335\u001b[0m     )\n\u001b[0;32m    337\u001b[0m \u001b[38;5;28;01mif\u001b[39;00m \u001b[38;5;129;01mnot\u001b[39;00m logged_waiting:\n\u001b[0;32m    338\u001b[0m     _debug_log(\n\u001b[0;32m    339\u001b[0m         _SERVER_SELECTION_LOGGER,\n\u001b[0;32m    340\u001b[0m         message\u001b[38;5;241m=\u001b[39m_ServerSelectionStatusMessage\u001b[38;5;241m.\u001b[39mWAITING,\n\u001b[1;32m   (...)\u001b[0m\n\u001b[0;32m    346\u001b[0m         remainingTimeMS\u001b[38;5;241m=\u001b[39m\u001b[38;5;28mint\u001b[39m(end_time \u001b[38;5;241m-\u001b[39m time\u001b[38;5;241m.\u001b[39mmonotonic()),\n\u001b[0;32m    347\u001b[0m     )\n",
      "\u001b[1;31mServerSelectionTimeoutError\u001b[0m: localhost:27017: [WinError 10061] No connection could be made because the target machine actively refused it (configured timeouts: socketTimeoutMS: 20000.0ms, connectTimeoutMS: 20000.0ms), Timeout: 30s, Topology Description: <TopologyDescription id: 67164ed7c5400d1fc682245a, topology_type: Unknown, servers: [<ServerDescription ('localhost', 27017) server_type: Unknown, rtt: None, error=AutoReconnect('localhost:27017: [WinError 10061] No connection could be made because the target machine actively refused it (configured timeouts: socketTimeoutMS: 20000.0ms, connectTimeoutMS: 20000.0ms)')>]>"
     ]
    }
   ],
   "source": [
    "print(f\"Employee count in {v_nameCollection}: {getEmpCount(v_nameCollection)}\")"
   ]
  },
  {
   "cell_type": "code",
   "execution_count": null,
   "id": "e59f8559-86c7-486e-9aae-a04cce1a861c",
   "metadata": {},
   "outputs": [],
   "source": [
    "indexData(v_nameCollection, 'Department')\n",
    "indexData(v_phoneCollection, 'Gender')"
   ]
  },
  {
   "cell_type": "code",
   "execution_count": 77,
   "id": "3df0d706-f9fb-49b0-926f-77ac84aae3d3",
   "metadata": {},
   "outputs": [
    {
     "ename": "ServerSelectionTimeoutError",
     "evalue": "localhost:27017: [WinError 10061] No connection could be made because the target machine actively refused it (configured timeouts: socketTimeoutMS: 20000.0ms, connectTimeoutMS: 20000.0ms), Timeout: 30s, Topology Description: <TopologyDescription id: 67164b38c5400d1fc6822458, topology_type: Unknown, servers: [<ServerDescription ('localhost', 27017) server_type: Unknown, rtt: None, error=AutoReconnect('localhost:27017: [WinError 10061] No connection could be made because the target machine actively refused it (configured timeouts: socketTimeoutMS: 20000.0ms, connectTimeoutMS: 20000.0ms)')>]>",
     "output_type": "error",
     "traceback": [
      "\u001b[1;31m---------------------------------------------------------------------------\u001b[0m",
      "\u001b[1;31mServerSelectionTimeoutError\u001b[0m               Traceback (most recent call last)",
      "Cell \u001b[1;32mIn[77], line 1\u001b[0m\n\u001b[1;32m----> 1\u001b[0m delEmpById(v_nameCollection, \u001b[38;5;124m'\u001b[39m\u001b[38;5;124mE02003\u001b[39m\u001b[38;5;124m'\u001b[39m)\n",
      "Cell \u001b[1;32mIn[68], line 49\u001b[0m, in \u001b[0;36mdelEmpById\u001b[1;34m(p_collection_name, p_employee_id)\u001b[0m\n\u001b[0;32m     47\u001b[0m \u001b[38;5;28;01mdef\u001b[39;00m \u001b[38;5;21mdelEmpById\u001b[39m(p_collection_name, p_employee_id):\n\u001b[0;32m     48\u001b[0m     collection \u001b[38;5;241m=\u001b[39m db[p_collection_name]\n\u001b[1;32m---> 49\u001b[0m     result \u001b[38;5;241m=\u001b[39m collection\u001b[38;5;241m.\u001b[39mdelete_one({\u001b[38;5;124m'\u001b[39m\u001b[38;5;124m_id\u001b[39m\u001b[38;5;124m'\u001b[39m: p_employee_id})\n\u001b[0;32m     50\u001b[0m     \u001b[38;5;28;01mif\u001b[39;00m result\u001b[38;5;241m.\u001b[39mdeleted_count \u001b[38;5;241m>\u001b[39m \u001b[38;5;241m0\u001b[39m:\n\u001b[0;32m     51\u001b[0m         \u001b[38;5;28mprint\u001b[39m(\u001b[38;5;124mf\u001b[39m\u001b[38;5;124m\"\u001b[39m\u001b[38;5;124mEmployee with ID \u001b[39m\u001b[38;5;124m'\u001b[39m\u001b[38;5;132;01m{\u001b[39;00mp_employee_id\u001b[38;5;132;01m}\u001b[39;00m\u001b[38;5;124m'\u001b[39m\u001b[38;5;124m deleted.\u001b[39m\u001b[38;5;124m\"\u001b[39m)\n",
      "File \u001b[1;32m~\\anaconda3\\Lib\\site-packages\\pymongo\\synchronous\\collection.py:1621\u001b[0m, in \u001b[0;36mCollection.delete_one\u001b[1;34m(self, filter, collation, hint, session, let, comment)\u001b[0m\n\u001b[0;32m   1578\u001b[0m \u001b[38;5;250m\u001b[39m\u001b[38;5;124;03m\"\"\"Delete a single document matching the filter.\u001b[39;00m\n\u001b[0;32m   1579\u001b[0m \n\u001b[0;32m   1580\u001b[0m \u001b[38;5;124;03m  >>> db.test.count_documents({'x': 1})\u001b[39;00m\n\u001b[1;32m   (...)\u001b[0m\n\u001b[0;32m   1617\u001b[0m \u001b[38;5;124;03m.. versionadded:: 3.0\u001b[39;00m\n\u001b[0;32m   1618\u001b[0m \u001b[38;5;124;03m\"\"\"\u001b[39;00m\n\u001b[0;32m   1619\u001b[0m write_concern \u001b[38;5;241m=\u001b[39m \u001b[38;5;28mself\u001b[39m\u001b[38;5;241m.\u001b[39m_write_concern_for(session)\n\u001b[0;32m   1620\u001b[0m \u001b[38;5;28;01mreturn\u001b[39;00m DeleteResult(\n\u001b[1;32m-> 1621\u001b[0m     \u001b[38;5;28mself\u001b[39m\u001b[38;5;241m.\u001b[39m_delete_retryable(\n\u001b[0;32m   1622\u001b[0m         \u001b[38;5;28mfilter\u001b[39m,\n\u001b[0;32m   1623\u001b[0m         \u001b[38;5;28;01mFalse\u001b[39;00m,\n\u001b[0;32m   1624\u001b[0m         write_concern\u001b[38;5;241m=\u001b[39mwrite_concern,\n\u001b[0;32m   1625\u001b[0m         collation\u001b[38;5;241m=\u001b[39mcollation,\n\u001b[0;32m   1626\u001b[0m         hint\u001b[38;5;241m=\u001b[39mhint,\n\u001b[0;32m   1627\u001b[0m         session\u001b[38;5;241m=\u001b[39msession,\n\u001b[0;32m   1628\u001b[0m         let\u001b[38;5;241m=\u001b[39mlet,\n\u001b[0;32m   1629\u001b[0m         comment\u001b[38;5;241m=\u001b[39mcomment,\n\u001b[0;32m   1630\u001b[0m     ),\n\u001b[0;32m   1631\u001b[0m     write_concern\u001b[38;5;241m.\u001b[39macknowledged,\n\u001b[0;32m   1632\u001b[0m )\n",
      "File \u001b[1;32m~\\anaconda3\\Lib\\site-packages\\pymongo\\synchronous\\collection.py:1562\u001b[0m, in \u001b[0;36mCollection._delete_retryable\u001b[1;34m(self, criteria, multi, write_concern, op_id, ordered, collation, hint, session, let, comment)\u001b[0m\n\u001b[0;32m   1544\u001b[0m \u001b[38;5;28;01mdef\u001b[39;00m \u001b[38;5;21m_delete\u001b[39m(\n\u001b[0;32m   1545\u001b[0m     session: Optional[ClientSession], conn: Connection, retryable_write: \u001b[38;5;28mbool\u001b[39m\n\u001b[0;32m   1546\u001b[0m ) \u001b[38;5;241m-\u001b[39m\u001b[38;5;241m>\u001b[39m Mapping[\u001b[38;5;28mstr\u001b[39m, Any]:\n\u001b[0;32m   1547\u001b[0m     \u001b[38;5;28;01mreturn\u001b[39;00m \u001b[38;5;28mself\u001b[39m\u001b[38;5;241m.\u001b[39m_delete(\n\u001b[0;32m   1548\u001b[0m         conn,\n\u001b[0;32m   1549\u001b[0m         criteria,\n\u001b[1;32m   (...)\u001b[0m\n\u001b[0;32m   1559\u001b[0m         comment\u001b[38;5;241m=\u001b[39mcomment,\n\u001b[0;32m   1560\u001b[0m     )\n\u001b[1;32m-> 1562\u001b[0m \u001b[38;5;28;01mreturn\u001b[39;00m \u001b[38;5;28mself\u001b[39m\u001b[38;5;241m.\u001b[39m_database\u001b[38;5;241m.\u001b[39mclient\u001b[38;5;241m.\u001b[39m_retryable_write(\n\u001b[0;32m   1563\u001b[0m     (write_concern \u001b[38;5;129;01mor\u001b[39;00m \u001b[38;5;28mself\u001b[39m\u001b[38;5;241m.\u001b[39mwrite_concern)\u001b[38;5;241m.\u001b[39macknowledged \u001b[38;5;129;01mand\u001b[39;00m \u001b[38;5;129;01mnot\u001b[39;00m multi,\n\u001b[0;32m   1564\u001b[0m     _delete,\n\u001b[0;32m   1565\u001b[0m     session,\n\u001b[0;32m   1566\u001b[0m     operation\u001b[38;5;241m=\u001b[39m_Op\u001b[38;5;241m.\u001b[39mDELETE,\n\u001b[0;32m   1567\u001b[0m )\n",
      "File \u001b[1;32m~\\anaconda3\\Lib\\site-packages\\pymongo\\synchronous\\mongo_client.py:1898\u001b[0m, in \u001b[0;36mMongoClient._retryable_write\u001b[1;34m(self, retryable, func, session, operation, bulk, operation_id)\u001b[0m\n\u001b[0;32m   1884\u001b[0m \u001b[38;5;250m\u001b[39m\u001b[38;5;124;03m\"\"\"Execute an operation with consecutive retries if possible\u001b[39;00m\n\u001b[0;32m   1885\u001b[0m \n\u001b[0;32m   1886\u001b[0m \u001b[38;5;124;03mReturns func()'s return value on success. On error retries the same\u001b[39;00m\n\u001b[1;32m   (...)\u001b[0m\n\u001b[0;32m   1895\u001b[0m \u001b[38;5;124;03m:param bulk: bulk abstraction to execute operations in bulk, defaults to None\u001b[39;00m\n\u001b[0;32m   1896\u001b[0m \u001b[38;5;124;03m\"\"\"\u001b[39;00m\n\u001b[0;32m   1897\u001b[0m \u001b[38;5;28;01mwith\u001b[39;00m \u001b[38;5;28mself\u001b[39m\u001b[38;5;241m.\u001b[39m_tmp_session(session) \u001b[38;5;28;01mas\u001b[39;00m s:\n\u001b[1;32m-> 1898\u001b[0m     \u001b[38;5;28;01mreturn\u001b[39;00m \u001b[38;5;28mself\u001b[39m\u001b[38;5;241m.\u001b[39m_retry_with_session(retryable, func, s, bulk, operation, operation_id)\n",
      "File \u001b[1;32m~\\anaconda3\\Lib\\site-packages\\pymongo\\synchronous\\mongo_client.py:1784\u001b[0m, in \u001b[0;36mMongoClient._retry_with_session\u001b[1;34m(self, retryable, func, session, bulk, operation, operation_id)\u001b[0m\n\u001b[0;32m   1779\u001b[0m \u001b[38;5;66;03m# Ensure that the options supports retry_writes and there is a valid session not in\u001b[39;00m\n\u001b[0;32m   1780\u001b[0m \u001b[38;5;66;03m# transaction, otherwise, we will not support retry behavior for this txn.\u001b[39;00m\n\u001b[0;32m   1781\u001b[0m retryable \u001b[38;5;241m=\u001b[39m \u001b[38;5;28mbool\u001b[39m(\n\u001b[0;32m   1782\u001b[0m     retryable \u001b[38;5;129;01mand\u001b[39;00m \u001b[38;5;28mself\u001b[39m\u001b[38;5;241m.\u001b[39moptions\u001b[38;5;241m.\u001b[39mretry_writes \u001b[38;5;129;01mand\u001b[39;00m session \u001b[38;5;129;01mand\u001b[39;00m \u001b[38;5;129;01mnot\u001b[39;00m session\u001b[38;5;241m.\u001b[39min_transaction\n\u001b[0;32m   1783\u001b[0m )\n\u001b[1;32m-> 1784\u001b[0m \u001b[38;5;28;01mreturn\u001b[39;00m \u001b[38;5;28mself\u001b[39m\u001b[38;5;241m.\u001b[39m_retry_internal(\n\u001b[0;32m   1785\u001b[0m     func\u001b[38;5;241m=\u001b[39mfunc,\n\u001b[0;32m   1786\u001b[0m     session\u001b[38;5;241m=\u001b[39msession,\n\u001b[0;32m   1787\u001b[0m     bulk\u001b[38;5;241m=\u001b[39mbulk,\n\u001b[0;32m   1788\u001b[0m     operation\u001b[38;5;241m=\u001b[39moperation,\n\u001b[0;32m   1789\u001b[0m     retryable\u001b[38;5;241m=\u001b[39mretryable,\n\u001b[0;32m   1790\u001b[0m     operation_id\u001b[38;5;241m=\u001b[39moperation_id,\n\u001b[0;32m   1791\u001b[0m )\n",
      "File \u001b[1;32m~\\anaconda3\\Lib\\site-packages\\pymongo\\_csot.py:119\u001b[0m, in \u001b[0;36mapply.<locals>.csot_wrapper\u001b[1;34m(self, *args, **kwargs)\u001b[0m\n\u001b[0;32m    117\u001b[0m         \u001b[38;5;28;01mwith\u001b[39;00m _TimeoutContext(timeout):\n\u001b[0;32m    118\u001b[0m             \u001b[38;5;28;01mreturn\u001b[39;00m func(\u001b[38;5;28mself\u001b[39m, \u001b[38;5;241m*\u001b[39margs, \u001b[38;5;241m*\u001b[39m\u001b[38;5;241m*\u001b[39mkwargs)\n\u001b[1;32m--> 119\u001b[0m \u001b[38;5;28;01mreturn\u001b[39;00m func(\u001b[38;5;28mself\u001b[39m, \u001b[38;5;241m*\u001b[39margs, \u001b[38;5;241m*\u001b[39m\u001b[38;5;241m*\u001b[39mkwargs)\n",
      "File \u001b[1;32m~\\anaconda3\\Lib\\site-packages\\pymongo\\synchronous\\mongo_client.py:1830\u001b[0m, in \u001b[0;36mMongoClient._retry_internal\u001b[1;34m(self, func, session, bulk, operation, is_read, address, read_pref, retryable, operation_id)\u001b[0m\n\u001b[0;32m   1793\u001b[0m \u001b[38;5;129m@_csot\u001b[39m\u001b[38;5;241m.\u001b[39mapply\n\u001b[0;32m   1794\u001b[0m \u001b[38;5;28;01mdef\u001b[39;00m \u001b[38;5;21m_retry_internal\u001b[39m(\n\u001b[0;32m   1795\u001b[0m     \u001b[38;5;28mself\u001b[39m,\n\u001b[1;32m   (...)\u001b[0m\n\u001b[0;32m   1804\u001b[0m     operation_id: Optional[\u001b[38;5;28mint\u001b[39m] \u001b[38;5;241m=\u001b[39m \u001b[38;5;28;01mNone\u001b[39;00m,\n\u001b[0;32m   1805\u001b[0m ) \u001b[38;5;241m-\u001b[39m\u001b[38;5;241m>\u001b[39m T:\n\u001b[0;32m   1806\u001b[0m \u001b[38;5;250m    \u001b[39m\u001b[38;5;124;03m\"\"\"Internal retryable helper for all client transactions.\u001b[39;00m\n\u001b[0;32m   1807\u001b[0m \n\u001b[0;32m   1808\u001b[0m \u001b[38;5;124;03m    :param func: Callback function we want to retry\u001b[39;00m\n\u001b[1;32m   (...)\u001b[0m\n\u001b[0;32m   1817\u001b[0m \u001b[38;5;124;03m    :return: Output of the calling func()\u001b[39;00m\n\u001b[0;32m   1818\u001b[0m \u001b[38;5;124;03m    \"\"\"\u001b[39;00m\n\u001b[0;32m   1819\u001b[0m     \u001b[38;5;28;01mreturn\u001b[39;00m _ClientConnectionRetryable(\n\u001b[0;32m   1820\u001b[0m         mongo_client\u001b[38;5;241m=\u001b[39m\u001b[38;5;28mself\u001b[39m,\n\u001b[0;32m   1821\u001b[0m         func\u001b[38;5;241m=\u001b[39mfunc,\n\u001b[0;32m   1822\u001b[0m         bulk\u001b[38;5;241m=\u001b[39mbulk,\n\u001b[0;32m   1823\u001b[0m         operation\u001b[38;5;241m=\u001b[39moperation,\n\u001b[0;32m   1824\u001b[0m         is_read\u001b[38;5;241m=\u001b[39mis_read,\n\u001b[0;32m   1825\u001b[0m         session\u001b[38;5;241m=\u001b[39msession,\n\u001b[0;32m   1826\u001b[0m         read_pref\u001b[38;5;241m=\u001b[39mread_pref,\n\u001b[0;32m   1827\u001b[0m         address\u001b[38;5;241m=\u001b[39maddress,\n\u001b[0;32m   1828\u001b[0m         retryable\u001b[38;5;241m=\u001b[39mretryable,\n\u001b[0;32m   1829\u001b[0m         operation_id\u001b[38;5;241m=\u001b[39moperation_id,\n\u001b[1;32m-> 1830\u001b[0m     )\u001b[38;5;241m.\u001b[39mrun()\n",
      "File \u001b[1;32m~\\anaconda3\\Lib\\site-packages\\pymongo\\synchronous\\mongo_client.py:2554\u001b[0m, in \u001b[0;36m_ClientConnectionRetryable.run\u001b[1;34m(self)\u001b[0m\n\u001b[0;32m   2552\u001b[0m \u001b[38;5;28mself\u001b[39m\u001b[38;5;241m.\u001b[39m_check_last_error(check_csot\u001b[38;5;241m=\u001b[39m\u001b[38;5;28;01mTrue\u001b[39;00m)\n\u001b[0;32m   2553\u001b[0m \u001b[38;5;28;01mtry\u001b[39;00m:\n\u001b[1;32m-> 2554\u001b[0m     \u001b[38;5;28;01mreturn\u001b[39;00m \u001b[38;5;28mself\u001b[39m\u001b[38;5;241m.\u001b[39m_read() \u001b[38;5;28;01mif\u001b[39;00m \u001b[38;5;28mself\u001b[39m\u001b[38;5;241m.\u001b[39m_is_read \u001b[38;5;28;01melse\u001b[39;00m \u001b[38;5;28mself\u001b[39m\u001b[38;5;241m.\u001b[39m_write()\n\u001b[0;32m   2555\u001b[0m \u001b[38;5;28;01mexcept\u001b[39;00m ServerSelectionTimeoutError:\n\u001b[0;32m   2556\u001b[0m     \u001b[38;5;66;03m# The application may think the write was never attempted\u001b[39;00m\n\u001b[0;32m   2557\u001b[0m     \u001b[38;5;66;03m# if we raise ServerSelectionTimeoutError on the retry\u001b[39;00m\n\u001b[0;32m   2558\u001b[0m     \u001b[38;5;66;03m# attempt. Raise the original exception instead.\u001b[39;00m\n\u001b[0;32m   2559\u001b[0m     \u001b[38;5;28mself\u001b[39m\u001b[38;5;241m.\u001b[39m_check_last_error()\n",
      "File \u001b[1;32m~\\anaconda3\\Lib\\site-packages\\pymongo\\synchronous\\mongo_client.py:2662\u001b[0m, in \u001b[0;36m_ClientConnectionRetryable._write\u001b[1;34m(self)\u001b[0m\n\u001b[0;32m   2660\u001b[0m max_wire_version \u001b[38;5;241m=\u001b[39m \u001b[38;5;241m0\u001b[39m\n\u001b[0;32m   2661\u001b[0m is_mongos \u001b[38;5;241m=\u001b[39m \u001b[38;5;28;01mFalse\u001b[39;00m\n\u001b[1;32m-> 2662\u001b[0m \u001b[38;5;28mself\u001b[39m\u001b[38;5;241m.\u001b[39m_server \u001b[38;5;241m=\u001b[39m \u001b[38;5;28mself\u001b[39m\u001b[38;5;241m.\u001b[39m_get_server()\n\u001b[0;32m   2663\u001b[0m \u001b[38;5;28;01mwith\u001b[39;00m \u001b[38;5;28mself\u001b[39m\u001b[38;5;241m.\u001b[39m_client\u001b[38;5;241m.\u001b[39m_checkout(\u001b[38;5;28mself\u001b[39m\u001b[38;5;241m.\u001b[39m_server, \u001b[38;5;28mself\u001b[39m\u001b[38;5;241m.\u001b[39m_session) \u001b[38;5;28;01mas\u001b[39;00m conn:\n\u001b[0;32m   2664\u001b[0m     max_wire_version \u001b[38;5;241m=\u001b[39m conn\u001b[38;5;241m.\u001b[39mmax_wire_version\n",
      "File \u001b[1;32m~\\anaconda3\\Lib\\site-packages\\pymongo\\synchronous\\mongo_client.py:2645\u001b[0m, in \u001b[0;36m_ClientConnectionRetryable._get_server\u001b[1;34m(self)\u001b[0m\n\u001b[0;32m   2640\u001b[0m \u001b[38;5;28;01mdef\u001b[39;00m \u001b[38;5;21m_get_server\u001b[39m(\u001b[38;5;28mself\u001b[39m) \u001b[38;5;241m-\u001b[39m\u001b[38;5;241m>\u001b[39m Server:\n\u001b[0;32m   2641\u001b[0m \u001b[38;5;250m    \u001b[39m\u001b[38;5;124;03m\"\"\"Retrieves a server object based on provided object context\u001b[39;00m\n\u001b[0;32m   2642\u001b[0m \n\u001b[0;32m   2643\u001b[0m \u001b[38;5;124;03m    :return: Abstraction to connect to server\u001b[39;00m\n\u001b[0;32m   2644\u001b[0m \u001b[38;5;124;03m    \"\"\"\u001b[39;00m\n\u001b[1;32m-> 2645\u001b[0m     \u001b[38;5;28;01mreturn\u001b[39;00m \u001b[38;5;28mself\u001b[39m\u001b[38;5;241m.\u001b[39m_client\u001b[38;5;241m.\u001b[39m_select_server(\n\u001b[0;32m   2646\u001b[0m         \u001b[38;5;28mself\u001b[39m\u001b[38;5;241m.\u001b[39m_server_selector,\n\u001b[0;32m   2647\u001b[0m         \u001b[38;5;28mself\u001b[39m\u001b[38;5;241m.\u001b[39m_session,\n\u001b[0;32m   2648\u001b[0m         \u001b[38;5;28mself\u001b[39m\u001b[38;5;241m.\u001b[39m_operation,\n\u001b[0;32m   2649\u001b[0m         address\u001b[38;5;241m=\u001b[39m\u001b[38;5;28mself\u001b[39m\u001b[38;5;241m.\u001b[39m_address,\n\u001b[0;32m   2650\u001b[0m         deprioritized_servers\u001b[38;5;241m=\u001b[39m\u001b[38;5;28mself\u001b[39m\u001b[38;5;241m.\u001b[39m_deprioritized_servers,\n\u001b[0;32m   2651\u001b[0m         operation_id\u001b[38;5;241m=\u001b[39m\u001b[38;5;28mself\u001b[39m\u001b[38;5;241m.\u001b[39m_operation_id,\n\u001b[0;32m   2652\u001b[0m     )\n",
      "File \u001b[1;32m~\\anaconda3\\Lib\\site-packages\\pymongo\\synchronous\\mongo_client.py:1649\u001b[0m, in \u001b[0;36mMongoClient._select_server\u001b[1;34m(self, server_selector, session, operation, address, deprioritized_servers, operation_id)\u001b[0m\n\u001b[0;32m   1647\u001b[0m             \u001b[38;5;28;01mraise\u001b[39;00m AutoReconnect(\u001b[38;5;124m\"\u001b[39m\u001b[38;5;124mserver \u001b[39m\u001b[38;5;132;01m%s\u001b[39;00m\u001b[38;5;124m:\u001b[39m\u001b[38;5;132;01m%s\u001b[39;00m\u001b[38;5;124m no longer available\u001b[39m\u001b[38;5;124m\"\u001b[39m \u001b[38;5;241m%\u001b[39m address)  \u001b[38;5;66;03m# noqa: UP031\u001b[39;00m\n\u001b[0;32m   1648\u001b[0m     \u001b[38;5;28;01melse\u001b[39;00m:\n\u001b[1;32m-> 1649\u001b[0m         server \u001b[38;5;241m=\u001b[39m topology\u001b[38;5;241m.\u001b[39mselect_server(\n\u001b[0;32m   1650\u001b[0m             server_selector,\n\u001b[0;32m   1651\u001b[0m             operation,\n\u001b[0;32m   1652\u001b[0m             deprioritized_servers\u001b[38;5;241m=\u001b[39mdeprioritized_servers,\n\u001b[0;32m   1653\u001b[0m             operation_id\u001b[38;5;241m=\u001b[39moperation_id,\n\u001b[0;32m   1654\u001b[0m         )\n\u001b[0;32m   1655\u001b[0m     \u001b[38;5;28;01mreturn\u001b[39;00m server\n\u001b[0;32m   1656\u001b[0m \u001b[38;5;28;01mexcept\u001b[39;00m PyMongoError \u001b[38;5;28;01mas\u001b[39;00m exc:\n\u001b[0;32m   1657\u001b[0m     \u001b[38;5;66;03m# Server selection errors in a transaction are transient.\u001b[39;00m\n",
      "File \u001b[1;32m~\\anaconda3\\Lib\\site-packages\\pymongo\\synchronous\\topology.py:398\u001b[0m, in \u001b[0;36mTopology.select_server\u001b[1;34m(self, selector, operation, server_selection_timeout, address, deprioritized_servers, operation_id)\u001b[0m\n\u001b[0;32m    388\u001b[0m \u001b[38;5;28;01mdef\u001b[39;00m \u001b[38;5;21mselect_server\u001b[39m(\n\u001b[0;32m    389\u001b[0m     \u001b[38;5;28mself\u001b[39m,\n\u001b[0;32m    390\u001b[0m     selector: Callable[[Selection], Selection],\n\u001b[1;32m   (...)\u001b[0m\n\u001b[0;32m    395\u001b[0m     operation_id: Optional[\u001b[38;5;28mint\u001b[39m] \u001b[38;5;241m=\u001b[39m \u001b[38;5;28;01mNone\u001b[39;00m,\n\u001b[0;32m    396\u001b[0m ) \u001b[38;5;241m-\u001b[39m\u001b[38;5;241m>\u001b[39m Server:\n\u001b[0;32m    397\u001b[0m \u001b[38;5;250m    \u001b[39m\u001b[38;5;124;03m\"\"\"Like select_servers, but choose a random server if several match.\"\"\"\u001b[39;00m\n\u001b[1;32m--> 398\u001b[0m     server \u001b[38;5;241m=\u001b[39m \u001b[38;5;28mself\u001b[39m\u001b[38;5;241m.\u001b[39m_select_server(\n\u001b[0;32m    399\u001b[0m         selector,\n\u001b[0;32m    400\u001b[0m         operation,\n\u001b[0;32m    401\u001b[0m         server_selection_timeout,\n\u001b[0;32m    402\u001b[0m         address,\n\u001b[0;32m    403\u001b[0m         deprioritized_servers,\n\u001b[0;32m    404\u001b[0m         operation_id\u001b[38;5;241m=\u001b[39moperation_id,\n\u001b[0;32m    405\u001b[0m     )\n\u001b[0;32m    406\u001b[0m     \u001b[38;5;28;01mif\u001b[39;00m _csot\u001b[38;5;241m.\u001b[39mget_timeout():\n\u001b[0;32m    407\u001b[0m         _csot\u001b[38;5;241m.\u001b[39mset_rtt(server\u001b[38;5;241m.\u001b[39mdescription\u001b[38;5;241m.\u001b[39mmin_round_trip_time)\n",
      "File \u001b[1;32m~\\anaconda3\\Lib\\site-packages\\pymongo\\synchronous\\topology.py:376\u001b[0m, in \u001b[0;36mTopology._select_server\u001b[1;34m(self, selector, operation, server_selection_timeout, address, deprioritized_servers, operation_id)\u001b[0m\n\u001b[0;32m    367\u001b[0m \u001b[38;5;28;01mdef\u001b[39;00m \u001b[38;5;21m_select_server\u001b[39m(\n\u001b[0;32m    368\u001b[0m     \u001b[38;5;28mself\u001b[39m,\n\u001b[0;32m    369\u001b[0m     selector: Callable[[Selection], Selection],\n\u001b[1;32m   (...)\u001b[0m\n\u001b[0;32m    374\u001b[0m     operation_id: Optional[\u001b[38;5;28mint\u001b[39m] \u001b[38;5;241m=\u001b[39m \u001b[38;5;28;01mNone\u001b[39;00m,\n\u001b[0;32m    375\u001b[0m ) \u001b[38;5;241m-\u001b[39m\u001b[38;5;241m>\u001b[39m Server:\n\u001b[1;32m--> 376\u001b[0m     servers \u001b[38;5;241m=\u001b[39m \u001b[38;5;28mself\u001b[39m\u001b[38;5;241m.\u001b[39mselect_servers(\n\u001b[0;32m    377\u001b[0m         selector, operation, server_selection_timeout, address, operation_id\n\u001b[0;32m    378\u001b[0m     )\n\u001b[0;32m    379\u001b[0m     servers \u001b[38;5;241m=\u001b[39m _filter_servers(servers, deprioritized_servers)\n\u001b[0;32m    380\u001b[0m     \u001b[38;5;28;01mif\u001b[39;00m \u001b[38;5;28mlen\u001b[39m(servers) \u001b[38;5;241m==\u001b[39m \u001b[38;5;241m1\u001b[39m:\n",
      "File \u001b[1;32m~\\anaconda3\\Lib\\site-packages\\pymongo\\synchronous\\topology.py:283\u001b[0m, in \u001b[0;36mTopology.select_servers\u001b[1;34m(self, selector, operation, server_selection_timeout, address, operation_id)\u001b[0m\n\u001b[0;32m    280\u001b[0m     server_timeout \u001b[38;5;241m=\u001b[39m server_selection_timeout\n\u001b[0;32m    282\u001b[0m \u001b[38;5;28;01mwith\u001b[39;00m \u001b[38;5;28mself\u001b[39m\u001b[38;5;241m.\u001b[39m_lock:\n\u001b[1;32m--> 283\u001b[0m     server_descriptions \u001b[38;5;241m=\u001b[39m \u001b[38;5;28mself\u001b[39m\u001b[38;5;241m.\u001b[39m_select_servers_loop(\n\u001b[0;32m    284\u001b[0m         selector, server_timeout, operation, operation_id, address\n\u001b[0;32m    285\u001b[0m     )\n\u001b[0;32m    287\u001b[0m     \u001b[38;5;28;01mreturn\u001b[39;00m [\n\u001b[0;32m    288\u001b[0m         cast(Server, \u001b[38;5;28mself\u001b[39m\u001b[38;5;241m.\u001b[39mget_server_by_address(sd\u001b[38;5;241m.\u001b[39maddress)) \u001b[38;5;28;01mfor\u001b[39;00m sd \u001b[38;5;129;01min\u001b[39;00m server_descriptions\n\u001b[0;32m    289\u001b[0m     ]\n",
      "File \u001b[1;32m~\\anaconda3\\Lib\\site-packages\\pymongo\\synchronous\\topology.py:333\u001b[0m, in \u001b[0;36mTopology._select_servers_loop\u001b[1;34m(self, selector, timeout, operation, operation_id, address)\u001b[0m\n\u001b[0;32m    322\u001b[0m     \u001b[38;5;28;01mif\u001b[39;00m _SERVER_SELECTION_LOGGER\u001b[38;5;241m.\u001b[39misEnabledFor(logging\u001b[38;5;241m.\u001b[39mDEBUG):\n\u001b[0;32m    323\u001b[0m         _debug_log(\n\u001b[0;32m    324\u001b[0m             _SERVER_SELECTION_LOGGER,\n\u001b[0;32m    325\u001b[0m             message\u001b[38;5;241m=\u001b[39m_ServerSelectionStatusMessage\u001b[38;5;241m.\u001b[39mFAILED,\n\u001b[1;32m   (...)\u001b[0m\n\u001b[0;32m    331\u001b[0m             failure\u001b[38;5;241m=\u001b[39m\u001b[38;5;28mself\u001b[39m\u001b[38;5;241m.\u001b[39m_error_message(selector),\n\u001b[0;32m    332\u001b[0m         )\n\u001b[1;32m--> 333\u001b[0m     \u001b[38;5;28;01mraise\u001b[39;00m ServerSelectionTimeoutError(\n\u001b[0;32m    334\u001b[0m         \u001b[38;5;124mf\u001b[39m\u001b[38;5;124m\"\u001b[39m\u001b[38;5;132;01m{\u001b[39;00m\u001b[38;5;28mself\u001b[39m\u001b[38;5;241m.\u001b[39m_error_message(selector)\u001b[38;5;132;01m}\u001b[39;00m\u001b[38;5;124m, Timeout: \u001b[39m\u001b[38;5;132;01m{\u001b[39;00mtimeout\u001b[38;5;132;01m}\u001b[39;00m\u001b[38;5;124ms, Topology Description: \u001b[39m\u001b[38;5;132;01m{\u001b[39;00m\u001b[38;5;28mself\u001b[39m\u001b[38;5;241m.\u001b[39mdescription\u001b[38;5;132;01m!r}\u001b[39;00m\u001b[38;5;124m\"\u001b[39m\n\u001b[0;32m    335\u001b[0m     )\n\u001b[0;32m    337\u001b[0m \u001b[38;5;28;01mif\u001b[39;00m \u001b[38;5;129;01mnot\u001b[39;00m logged_waiting:\n\u001b[0;32m    338\u001b[0m     _debug_log(\n\u001b[0;32m    339\u001b[0m         _SERVER_SELECTION_LOGGER,\n\u001b[0;32m    340\u001b[0m         message\u001b[38;5;241m=\u001b[39m_ServerSelectionStatusMessage\u001b[38;5;241m.\u001b[39mWAITING,\n\u001b[1;32m   (...)\u001b[0m\n\u001b[0;32m    346\u001b[0m         remainingTimeMS\u001b[38;5;241m=\u001b[39m\u001b[38;5;28mint\u001b[39m(end_time \u001b[38;5;241m-\u001b[39m time\u001b[38;5;241m.\u001b[39mmonotonic()),\n\u001b[0;32m    347\u001b[0m     )\n",
      "\u001b[1;31mServerSelectionTimeoutError\u001b[0m: localhost:27017: [WinError 10061] No connection could be made because the target machine actively refused it (configured timeouts: socketTimeoutMS: 20000.0ms, connectTimeoutMS: 20000.0ms), Timeout: 30s, Topology Description: <TopologyDescription id: 67164b38c5400d1fc6822458, topology_type: Unknown, servers: [<ServerDescription ('localhost', 27017) server_type: Unknown, rtt: None, error=AutoReconnect('localhost:27017: [WinError 10061] No connection could be made because the target machine actively refused it (configured timeouts: socketTimeoutMS: 20000.0ms, connectTimeoutMS: 20000.0ms)')>]>"
     ]
    }
   ],
   "source": [
    "delEmpById(v_nameCollection, 'E02003')"
   ]
  },
  {
   "cell_type": "code",
   "execution_count": 100,
   "id": "d184935d-b784-4f1c-9f88-e96d05add9dd",
   "metadata": {},
   "outputs": [
    {
     "ename": "ServerSelectionTimeoutError",
     "evalue": "localhost:27017: [WinError 10061] No connection could be made because the target machine actively refused it (configured timeouts: socketTimeoutMS: 20000.0ms, connectTimeoutMS: 20000.0ms), Timeout: 30s, Topology Description: <TopologyDescription id: 67165000c5400d1fc6822460, topology_type: Unknown, servers: [<ServerDescription ('localhost', 27017) server_type: Unknown, rtt: None, error=AutoReconnect('localhost:27017: [WinError 10061] No connection could be made because the target machine actively refused it (configured timeouts: socketTimeoutMS: 20000.0ms, connectTimeoutMS: 20000.0ms)')>]>",
     "output_type": "error",
     "traceback": [
      "\u001b[1;31m---------------------------------------------------------------------------\u001b[0m",
      "\u001b[1;31mServerSelectionTimeoutError\u001b[0m               Traceback (most recent call last)",
      "Cell \u001b[1;32mIn[100], line 66\u001b[0m\n\u001b[0;32m     63\u001b[0m v_phoneCollection \u001b[38;5;241m=\u001b[39m \u001b[38;5;124m'\u001b[39m\u001b[38;5;124mHash_1234\u001b[39m\u001b[38;5;124m'\u001b[39m  \u001b[38;5;66;03m# Replace 1234 with the last 4 digits of your phone number\u001b[39;00m\n\u001b[0;32m     65\u001b[0m \u001b[38;5;66;03m# Create collections\u001b[39;00m\n\u001b[1;32m---> 66\u001b[0m createCollection(v_nameCollection)\n\u001b[0;32m     67\u001b[0m createCollection(v_phoneCollection)\n\u001b[0;32m     69\u001b[0m \u001b[38;5;66;03m# Get employee count\u001b[39;00m\n",
      "Cell \u001b[1;32mIn[100], line 17\u001b[0m, in \u001b[0;36mcreateCollection\u001b[1;34m(p_collection_name)\u001b[0m\n\u001b[0;32m     15\u001b[0m \u001b[38;5;28;01mdef\u001b[39;00m \u001b[38;5;21mcreateCollection\u001b[39m(p_collection_name):\n\u001b[0;32m     16\u001b[0m \u001b[38;5;250m    \u001b[39m\u001b[38;5;124;03m\"\"\"Create a new collection with the specified name.\"\"\"\u001b[39;00m\n\u001b[1;32m---> 17\u001b[0m     \u001b[38;5;28;01mif\u001b[39;00m p_collection_name \u001b[38;5;129;01mnot\u001b[39;00m \u001b[38;5;129;01min\u001b[39;00m db\u001b[38;5;241m.\u001b[39mlist_collection_names():\n\u001b[0;32m     18\u001b[0m         collection \u001b[38;5;241m=\u001b[39m db[p_collection_name]\n\u001b[0;32m     19\u001b[0m         \u001b[38;5;28mprint\u001b[39m(\u001b[38;5;124mf\u001b[39m\u001b[38;5;124m\"\u001b[39m\u001b[38;5;124mCollection \u001b[39m\u001b[38;5;124m'\u001b[39m\u001b[38;5;132;01m{\u001b[39;00mp_collection_name\u001b[38;5;132;01m}\u001b[39;00m\u001b[38;5;124m'\u001b[39m\u001b[38;5;124m created.\u001b[39m\u001b[38;5;124m\"\u001b[39m)\n",
      "File \u001b[1;32m~\\anaconda3\\Lib\\site-packages\\pymongo\\synchronous\\database.py:1226\u001b[0m, in \u001b[0;36mDatabase.list_collection_names\u001b[1;34m(self, session, filter, comment, **kwargs)\u001b[0m\n\u001b[0;32m   1194\u001b[0m \u001b[38;5;28;01mdef\u001b[39;00m \u001b[38;5;21mlist_collection_names\u001b[39m(\n\u001b[0;32m   1195\u001b[0m     \u001b[38;5;28mself\u001b[39m,\n\u001b[0;32m   1196\u001b[0m     session: Optional[ClientSession] \u001b[38;5;241m=\u001b[39m \u001b[38;5;28;01mNone\u001b[39;00m,\n\u001b[1;32m   (...)\u001b[0m\n\u001b[0;32m   1199\u001b[0m     \u001b[38;5;241m*\u001b[39m\u001b[38;5;241m*\u001b[39mkwargs: Any,\n\u001b[0;32m   1200\u001b[0m ) \u001b[38;5;241m-\u001b[39m\u001b[38;5;241m>\u001b[39m \u001b[38;5;28mlist\u001b[39m[\u001b[38;5;28mstr\u001b[39m]:\n\u001b[0;32m   1201\u001b[0m \u001b[38;5;250m    \u001b[39m\u001b[38;5;124;03m\"\"\"Get a list of all the collection names in this database.\u001b[39;00m\n\u001b[0;32m   1202\u001b[0m \n\u001b[0;32m   1203\u001b[0m \u001b[38;5;124;03m    For example, to list all non-system collections::\u001b[39;00m\n\u001b[1;32m   (...)\u001b[0m\n\u001b[0;32m   1224\u001b[0m \u001b[38;5;124;03m    .. versionadded:: 3.6\u001b[39;00m\n\u001b[0;32m   1225\u001b[0m \u001b[38;5;124;03m    \"\"\"\u001b[39;00m\n\u001b[1;32m-> 1226\u001b[0m     \u001b[38;5;28;01mreturn\u001b[39;00m \u001b[38;5;28mself\u001b[39m\u001b[38;5;241m.\u001b[39m_list_collection_names(session, \u001b[38;5;28mfilter\u001b[39m, comment, \u001b[38;5;241m*\u001b[39m\u001b[38;5;241m*\u001b[39mkwargs)\n",
      "File \u001b[1;32m~\\anaconda3\\Lib\\site-packages\\pymongo\\synchronous\\database.py:1191\u001b[0m, in \u001b[0;36mDatabase._list_collection_names\u001b[1;34m(self, session, filter, comment, **kwargs)\u001b[0m\n\u001b[0;32m   1187\u001b[0m     \u001b[38;5;28;01mif\u001b[39;00m \u001b[38;5;129;01mnot\u001b[39;00m \u001b[38;5;28mfilter\u001b[39m \u001b[38;5;129;01mor\u001b[39;00m (\u001b[38;5;28mlen\u001b[39m(\u001b[38;5;28mfilter\u001b[39m) \u001b[38;5;241m==\u001b[39m \u001b[38;5;241m1\u001b[39m \u001b[38;5;129;01mand\u001b[39;00m \u001b[38;5;124m\"\u001b[39m\u001b[38;5;124mname\u001b[39m\u001b[38;5;124m\"\u001b[39m \u001b[38;5;129;01min\u001b[39;00m \u001b[38;5;28mfilter\u001b[39m):\n\u001b[0;32m   1188\u001b[0m         kwargs[\u001b[38;5;124m\"\u001b[39m\u001b[38;5;124mnameOnly\u001b[39m\u001b[38;5;124m\"\u001b[39m] \u001b[38;5;241m=\u001b[39m \u001b[38;5;28;01mTrue\u001b[39;00m\n\u001b[0;32m   1190\u001b[0m \u001b[38;5;28;01mreturn\u001b[39;00m [\n\u001b[1;32m-> 1191\u001b[0m     result[\u001b[38;5;124m\"\u001b[39m\u001b[38;5;124mname\u001b[39m\u001b[38;5;124m\"\u001b[39m] \u001b[38;5;28;01mfor\u001b[39;00m result \u001b[38;5;129;01min\u001b[39;00m \u001b[38;5;28mself\u001b[39m\u001b[38;5;241m.\u001b[39m_list_collections_helper(session\u001b[38;5;241m=\u001b[39msession, \u001b[38;5;241m*\u001b[39m\u001b[38;5;241m*\u001b[39mkwargs)\n\u001b[0;32m   1192\u001b[0m ]\n",
      "File \u001b[1;32m~\\anaconda3\\Lib\\site-packages\\pymongo\\synchronous\\database.py:1138\u001b[0m, in \u001b[0;36mDatabase._list_collections_helper\u001b[1;34m(self, session, filter, comment, **kwargs)\u001b[0m\n\u001b[0;32m   1130\u001b[0m \u001b[38;5;28;01mdef\u001b[39;00m \u001b[38;5;21m_cmd\u001b[39m(\n\u001b[0;32m   1131\u001b[0m     session: Optional[ClientSession],\n\u001b[0;32m   1132\u001b[0m     _server: Server,\n\u001b[0;32m   1133\u001b[0m     conn: Connection,\n\u001b[0;32m   1134\u001b[0m     read_preference: _ServerMode,\n\u001b[0;32m   1135\u001b[0m ) \u001b[38;5;241m-\u001b[39m\u001b[38;5;241m>\u001b[39m CommandCursor[MutableMapping[\u001b[38;5;28mstr\u001b[39m, Any]]:\n\u001b[0;32m   1136\u001b[0m     \u001b[38;5;28;01mreturn\u001b[39;00m \u001b[38;5;28mself\u001b[39m\u001b[38;5;241m.\u001b[39m_list_collections(conn, session, read_preference\u001b[38;5;241m=\u001b[39mread_preference, \u001b[38;5;241m*\u001b[39m\u001b[38;5;241m*\u001b[39mkwargs)\n\u001b[1;32m-> 1138\u001b[0m \u001b[38;5;28;01mreturn\u001b[39;00m \u001b[38;5;28mself\u001b[39m\u001b[38;5;241m.\u001b[39m_client\u001b[38;5;241m.\u001b[39m_retryable_read(\n\u001b[0;32m   1139\u001b[0m     _cmd, read_pref, session, operation\u001b[38;5;241m=\u001b[39m_Op\u001b[38;5;241m.\u001b[39mLIST_COLLECTIONS\n\u001b[0;32m   1140\u001b[0m )\n",
      "File \u001b[1;32m~\\anaconda3\\Lib\\site-packages\\pymongo\\synchronous\\mongo_client.py:1863\u001b[0m, in \u001b[0;36mMongoClient._retryable_read\u001b[1;34m(self, func, read_pref, session, operation, address, retryable, operation_id)\u001b[0m\n\u001b[0;32m   1858\u001b[0m \u001b[38;5;66;03m# Ensure that the client supports retrying on reads and there is no session in\u001b[39;00m\n\u001b[0;32m   1859\u001b[0m \u001b[38;5;66;03m# transaction, otherwise, we will not support retry behavior for this call.\u001b[39;00m\n\u001b[0;32m   1860\u001b[0m retryable \u001b[38;5;241m=\u001b[39m \u001b[38;5;28mbool\u001b[39m(\n\u001b[0;32m   1861\u001b[0m     retryable \u001b[38;5;129;01mand\u001b[39;00m \u001b[38;5;28mself\u001b[39m\u001b[38;5;241m.\u001b[39moptions\u001b[38;5;241m.\u001b[39mretry_reads \u001b[38;5;129;01mand\u001b[39;00m \u001b[38;5;129;01mnot\u001b[39;00m (session \u001b[38;5;129;01mand\u001b[39;00m session\u001b[38;5;241m.\u001b[39min_transaction)\n\u001b[0;32m   1862\u001b[0m )\n\u001b[1;32m-> 1863\u001b[0m \u001b[38;5;28;01mreturn\u001b[39;00m \u001b[38;5;28mself\u001b[39m\u001b[38;5;241m.\u001b[39m_retry_internal(\n\u001b[0;32m   1864\u001b[0m     func,\n\u001b[0;32m   1865\u001b[0m     session,\n\u001b[0;32m   1866\u001b[0m     \u001b[38;5;28;01mNone\u001b[39;00m,\n\u001b[0;32m   1867\u001b[0m     operation,\n\u001b[0;32m   1868\u001b[0m     is_read\u001b[38;5;241m=\u001b[39m\u001b[38;5;28;01mTrue\u001b[39;00m,\n\u001b[0;32m   1869\u001b[0m     address\u001b[38;5;241m=\u001b[39maddress,\n\u001b[0;32m   1870\u001b[0m     read_pref\u001b[38;5;241m=\u001b[39mread_pref,\n\u001b[0;32m   1871\u001b[0m     retryable\u001b[38;5;241m=\u001b[39mretryable,\n\u001b[0;32m   1872\u001b[0m     operation_id\u001b[38;5;241m=\u001b[39moperation_id,\n\u001b[0;32m   1873\u001b[0m )\n",
      "File \u001b[1;32m~\\anaconda3\\Lib\\site-packages\\pymongo\\_csot.py:119\u001b[0m, in \u001b[0;36mapply.<locals>.csot_wrapper\u001b[1;34m(self, *args, **kwargs)\u001b[0m\n\u001b[0;32m    117\u001b[0m         \u001b[38;5;28;01mwith\u001b[39;00m _TimeoutContext(timeout):\n\u001b[0;32m    118\u001b[0m             \u001b[38;5;28;01mreturn\u001b[39;00m func(\u001b[38;5;28mself\u001b[39m, \u001b[38;5;241m*\u001b[39margs, \u001b[38;5;241m*\u001b[39m\u001b[38;5;241m*\u001b[39mkwargs)\n\u001b[1;32m--> 119\u001b[0m \u001b[38;5;28;01mreturn\u001b[39;00m func(\u001b[38;5;28mself\u001b[39m, \u001b[38;5;241m*\u001b[39margs, \u001b[38;5;241m*\u001b[39m\u001b[38;5;241m*\u001b[39mkwargs)\n",
      "File \u001b[1;32m~\\anaconda3\\Lib\\site-packages\\pymongo\\synchronous\\mongo_client.py:1830\u001b[0m, in \u001b[0;36mMongoClient._retry_internal\u001b[1;34m(self, func, session, bulk, operation, is_read, address, read_pref, retryable, operation_id)\u001b[0m\n\u001b[0;32m   1793\u001b[0m \u001b[38;5;129m@_csot\u001b[39m\u001b[38;5;241m.\u001b[39mapply\n\u001b[0;32m   1794\u001b[0m \u001b[38;5;28;01mdef\u001b[39;00m \u001b[38;5;21m_retry_internal\u001b[39m(\n\u001b[0;32m   1795\u001b[0m     \u001b[38;5;28mself\u001b[39m,\n\u001b[1;32m   (...)\u001b[0m\n\u001b[0;32m   1804\u001b[0m     operation_id: Optional[\u001b[38;5;28mint\u001b[39m] \u001b[38;5;241m=\u001b[39m \u001b[38;5;28;01mNone\u001b[39;00m,\n\u001b[0;32m   1805\u001b[0m ) \u001b[38;5;241m-\u001b[39m\u001b[38;5;241m>\u001b[39m T:\n\u001b[0;32m   1806\u001b[0m \u001b[38;5;250m    \u001b[39m\u001b[38;5;124;03m\"\"\"Internal retryable helper for all client transactions.\u001b[39;00m\n\u001b[0;32m   1807\u001b[0m \n\u001b[0;32m   1808\u001b[0m \u001b[38;5;124;03m    :param func: Callback function we want to retry\u001b[39;00m\n\u001b[1;32m   (...)\u001b[0m\n\u001b[0;32m   1817\u001b[0m \u001b[38;5;124;03m    :return: Output of the calling func()\u001b[39;00m\n\u001b[0;32m   1818\u001b[0m \u001b[38;5;124;03m    \"\"\"\u001b[39;00m\n\u001b[0;32m   1819\u001b[0m     \u001b[38;5;28;01mreturn\u001b[39;00m _ClientConnectionRetryable(\n\u001b[0;32m   1820\u001b[0m         mongo_client\u001b[38;5;241m=\u001b[39m\u001b[38;5;28mself\u001b[39m,\n\u001b[0;32m   1821\u001b[0m         func\u001b[38;5;241m=\u001b[39mfunc,\n\u001b[0;32m   1822\u001b[0m         bulk\u001b[38;5;241m=\u001b[39mbulk,\n\u001b[0;32m   1823\u001b[0m         operation\u001b[38;5;241m=\u001b[39moperation,\n\u001b[0;32m   1824\u001b[0m         is_read\u001b[38;5;241m=\u001b[39mis_read,\n\u001b[0;32m   1825\u001b[0m         session\u001b[38;5;241m=\u001b[39msession,\n\u001b[0;32m   1826\u001b[0m         read_pref\u001b[38;5;241m=\u001b[39mread_pref,\n\u001b[0;32m   1827\u001b[0m         address\u001b[38;5;241m=\u001b[39maddress,\n\u001b[0;32m   1828\u001b[0m         retryable\u001b[38;5;241m=\u001b[39mretryable,\n\u001b[0;32m   1829\u001b[0m         operation_id\u001b[38;5;241m=\u001b[39moperation_id,\n\u001b[1;32m-> 1830\u001b[0m     )\u001b[38;5;241m.\u001b[39mrun()\n",
      "File \u001b[1;32m~\\anaconda3\\Lib\\site-packages\\pymongo\\synchronous\\mongo_client.py:2554\u001b[0m, in \u001b[0;36m_ClientConnectionRetryable.run\u001b[1;34m(self)\u001b[0m\n\u001b[0;32m   2552\u001b[0m \u001b[38;5;28mself\u001b[39m\u001b[38;5;241m.\u001b[39m_check_last_error(check_csot\u001b[38;5;241m=\u001b[39m\u001b[38;5;28;01mTrue\u001b[39;00m)\n\u001b[0;32m   2553\u001b[0m \u001b[38;5;28;01mtry\u001b[39;00m:\n\u001b[1;32m-> 2554\u001b[0m     \u001b[38;5;28;01mreturn\u001b[39;00m \u001b[38;5;28mself\u001b[39m\u001b[38;5;241m.\u001b[39m_read() \u001b[38;5;28;01mif\u001b[39;00m \u001b[38;5;28mself\u001b[39m\u001b[38;5;241m.\u001b[39m_is_read \u001b[38;5;28;01melse\u001b[39;00m \u001b[38;5;28mself\u001b[39m\u001b[38;5;241m.\u001b[39m_write()\n\u001b[0;32m   2555\u001b[0m \u001b[38;5;28;01mexcept\u001b[39;00m ServerSelectionTimeoutError:\n\u001b[0;32m   2556\u001b[0m     \u001b[38;5;66;03m# The application may think the write was never attempted\u001b[39;00m\n\u001b[0;32m   2557\u001b[0m     \u001b[38;5;66;03m# if we raise ServerSelectionTimeoutError on the retry\u001b[39;00m\n\u001b[0;32m   2558\u001b[0m     \u001b[38;5;66;03m# attempt. Raise the original exception instead.\u001b[39;00m\n\u001b[0;32m   2559\u001b[0m     \u001b[38;5;28mself\u001b[39m\u001b[38;5;241m.\u001b[39m_check_last_error()\n",
      "File \u001b[1;32m~\\anaconda3\\Lib\\site-packages\\pymongo\\synchronous\\mongo_client.py:2689\u001b[0m, in \u001b[0;36m_ClientConnectionRetryable._read\u001b[1;34m(self)\u001b[0m\n\u001b[0;32m   2684\u001b[0m \u001b[38;5;28;01mdef\u001b[39;00m \u001b[38;5;21m_read\u001b[39m(\u001b[38;5;28mself\u001b[39m) \u001b[38;5;241m-\u001b[39m\u001b[38;5;241m>\u001b[39m T:\n\u001b[0;32m   2685\u001b[0m \u001b[38;5;250m    \u001b[39m\u001b[38;5;124;03m\"\"\"Wrapper method for read-type retryable client executions\u001b[39;00m\n\u001b[0;32m   2686\u001b[0m \n\u001b[0;32m   2687\u001b[0m \u001b[38;5;124;03m    :return: Output for func()'s call\u001b[39;00m\n\u001b[0;32m   2688\u001b[0m \u001b[38;5;124;03m    \"\"\"\u001b[39;00m\n\u001b[1;32m-> 2689\u001b[0m     \u001b[38;5;28mself\u001b[39m\u001b[38;5;241m.\u001b[39m_server \u001b[38;5;241m=\u001b[39m \u001b[38;5;28mself\u001b[39m\u001b[38;5;241m.\u001b[39m_get_server()\n\u001b[0;32m   2690\u001b[0m     \u001b[38;5;28;01massert\u001b[39;00m \u001b[38;5;28mself\u001b[39m\u001b[38;5;241m.\u001b[39m_read_pref \u001b[38;5;129;01mis\u001b[39;00m \u001b[38;5;129;01mnot\u001b[39;00m \u001b[38;5;28;01mNone\u001b[39;00m, \u001b[38;5;124m\"\u001b[39m\u001b[38;5;124mRead Preference required on read calls\u001b[39m\u001b[38;5;124m\"\u001b[39m\n\u001b[0;32m   2691\u001b[0m     \u001b[38;5;28;01mwith\u001b[39;00m \u001b[38;5;28mself\u001b[39m\u001b[38;5;241m.\u001b[39m_client\u001b[38;5;241m.\u001b[39m_conn_from_server(\u001b[38;5;28mself\u001b[39m\u001b[38;5;241m.\u001b[39m_read_pref, \u001b[38;5;28mself\u001b[39m\u001b[38;5;241m.\u001b[39m_server, \u001b[38;5;28mself\u001b[39m\u001b[38;5;241m.\u001b[39m_session) \u001b[38;5;28;01mas\u001b[39;00m (\n\u001b[0;32m   2692\u001b[0m         conn,\n\u001b[0;32m   2693\u001b[0m         read_pref,\n\u001b[0;32m   2694\u001b[0m     ):\n",
      "File \u001b[1;32m~\\anaconda3\\Lib\\site-packages\\pymongo\\synchronous\\mongo_client.py:2645\u001b[0m, in \u001b[0;36m_ClientConnectionRetryable._get_server\u001b[1;34m(self)\u001b[0m\n\u001b[0;32m   2640\u001b[0m \u001b[38;5;28;01mdef\u001b[39;00m \u001b[38;5;21m_get_server\u001b[39m(\u001b[38;5;28mself\u001b[39m) \u001b[38;5;241m-\u001b[39m\u001b[38;5;241m>\u001b[39m Server:\n\u001b[0;32m   2641\u001b[0m \u001b[38;5;250m    \u001b[39m\u001b[38;5;124;03m\"\"\"Retrieves a server object based on provided object context\u001b[39;00m\n\u001b[0;32m   2642\u001b[0m \n\u001b[0;32m   2643\u001b[0m \u001b[38;5;124;03m    :return: Abstraction to connect to server\u001b[39;00m\n\u001b[0;32m   2644\u001b[0m \u001b[38;5;124;03m    \"\"\"\u001b[39;00m\n\u001b[1;32m-> 2645\u001b[0m     \u001b[38;5;28;01mreturn\u001b[39;00m \u001b[38;5;28mself\u001b[39m\u001b[38;5;241m.\u001b[39m_client\u001b[38;5;241m.\u001b[39m_select_server(\n\u001b[0;32m   2646\u001b[0m         \u001b[38;5;28mself\u001b[39m\u001b[38;5;241m.\u001b[39m_server_selector,\n\u001b[0;32m   2647\u001b[0m         \u001b[38;5;28mself\u001b[39m\u001b[38;5;241m.\u001b[39m_session,\n\u001b[0;32m   2648\u001b[0m         \u001b[38;5;28mself\u001b[39m\u001b[38;5;241m.\u001b[39m_operation,\n\u001b[0;32m   2649\u001b[0m         address\u001b[38;5;241m=\u001b[39m\u001b[38;5;28mself\u001b[39m\u001b[38;5;241m.\u001b[39m_address,\n\u001b[0;32m   2650\u001b[0m         deprioritized_servers\u001b[38;5;241m=\u001b[39m\u001b[38;5;28mself\u001b[39m\u001b[38;5;241m.\u001b[39m_deprioritized_servers,\n\u001b[0;32m   2651\u001b[0m         operation_id\u001b[38;5;241m=\u001b[39m\u001b[38;5;28mself\u001b[39m\u001b[38;5;241m.\u001b[39m_operation_id,\n\u001b[0;32m   2652\u001b[0m     )\n",
      "File \u001b[1;32m~\\anaconda3\\Lib\\site-packages\\pymongo\\synchronous\\mongo_client.py:1649\u001b[0m, in \u001b[0;36mMongoClient._select_server\u001b[1;34m(self, server_selector, session, operation, address, deprioritized_servers, operation_id)\u001b[0m\n\u001b[0;32m   1647\u001b[0m             \u001b[38;5;28;01mraise\u001b[39;00m AutoReconnect(\u001b[38;5;124m\"\u001b[39m\u001b[38;5;124mserver \u001b[39m\u001b[38;5;132;01m%s\u001b[39;00m\u001b[38;5;124m:\u001b[39m\u001b[38;5;132;01m%s\u001b[39;00m\u001b[38;5;124m no longer available\u001b[39m\u001b[38;5;124m\"\u001b[39m \u001b[38;5;241m%\u001b[39m address)  \u001b[38;5;66;03m# noqa: UP031\u001b[39;00m\n\u001b[0;32m   1648\u001b[0m     \u001b[38;5;28;01melse\u001b[39;00m:\n\u001b[1;32m-> 1649\u001b[0m         server \u001b[38;5;241m=\u001b[39m topology\u001b[38;5;241m.\u001b[39mselect_server(\n\u001b[0;32m   1650\u001b[0m             server_selector,\n\u001b[0;32m   1651\u001b[0m             operation,\n\u001b[0;32m   1652\u001b[0m             deprioritized_servers\u001b[38;5;241m=\u001b[39mdeprioritized_servers,\n\u001b[0;32m   1653\u001b[0m             operation_id\u001b[38;5;241m=\u001b[39moperation_id,\n\u001b[0;32m   1654\u001b[0m         )\n\u001b[0;32m   1655\u001b[0m     \u001b[38;5;28;01mreturn\u001b[39;00m server\n\u001b[0;32m   1656\u001b[0m \u001b[38;5;28;01mexcept\u001b[39;00m PyMongoError \u001b[38;5;28;01mas\u001b[39;00m exc:\n\u001b[0;32m   1657\u001b[0m     \u001b[38;5;66;03m# Server selection errors in a transaction are transient.\u001b[39;00m\n",
      "File \u001b[1;32m~\\anaconda3\\Lib\\site-packages\\pymongo\\synchronous\\topology.py:398\u001b[0m, in \u001b[0;36mTopology.select_server\u001b[1;34m(self, selector, operation, server_selection_timeout, address, deprioritized_servers, operation_id)\u001b[0m\n\u001b[0;32m    388\u001b[0m \u001b[38;5;28;01mdef\u001b[39;00m \u001b[38;5;21mselect_server\u001b[39m(\n\u001b[0;32m    389\u001b[0m     \u001b[38;5;28mself\u001b[39m,\n\u001b[0;32m    390\u001b[0m     selector: Callable[[Selection], Selection],\n\u001b[1;32m   (...)\u001b[0m\n\u001b[0;32m    395\u001b[0m     operation_id: Optional[\u001b[38;5;28mint\u001b[39m] \u001b[38;5;241m=\u001b[39m \u001b[38;5;28;01mNone\u001b[39;00m,\n\u001b[0;32m    396\u001b[0m ) \u001b[38;5;241m-\u001b[39m\u001b[38;5;241m>\u001b[39m Server:\n\u001b[0;32m    397\u001b[0m \u001b[38;5;250m    \u001b[39m\u001b[38;5;124;03m\"\"\"Like select_servers, but choose a random server if several match.\"\"\"\u001b[39;00m\n\u001b[1;32m--> 398\u001b[0m     server \u001b[38;5;241m=\u001b[39m \u001b[38;5;28mself\u001b[39m\u001b[38;5;241m.\u001b[39m_select_server(\n\u001b[0;32m    399\u001b[0m         selector,\n\u001b[0;32m    400\u001b[0m         operation,\n\u001b[0;32m    401\u001b[0m         server_selection_timeout,\n\u001b[0;32m    402\u001b[0m         address,\n\u001b[0;32m    403\u001b[0m         deprioritized_servers,\n\u001b[0;32m    404\u001b[0m         operation_id\u001b[38;5;241m=\u001b[39moperation_id,\n\u001b[0;32m    405\u001b[0m     )\n\u001b[0;32m    406\u001b[0m     \u001b[38;5;28;01mif\u001b[39;00m _csot\u001b[38;5;241m.\u001b[39mget_timeout():\n\u001b[0;32m    407\u001b[0m         _csot\u001b[38;5;241m.\u001b[39mset_rtt(server\u001b[38;5;241m.\u001b[39mdescription\u001b[38;5;241m.\u001b[39mmin_round_trip_time)\n",
      "File \u001b[1;32m~\\anaconda3\\Lib\\site-packages\\pymongo\\synchronous\\topology.py:376\u001b[0m, in \u001b[0;36mTopology._select_server\u001b[1;34m(self, selector, operation, server_selection_timeout, address, deprioritized_servers, operation_id)\u001b[0m\n\u001b[0;32m    367\u001b[0m \u001b[38;5;28;01mdef\u001b[39;00m \u001b[38;5;21m_select_server\u001b[39m(\n\u001b[0;32m    368\u001b[0m     \u001b[38;5;28mself\u001b[39m,\n\u001b[0;32m    369\u001b[0m     selector: Callable[[Selection], Selection],\n\u001b[1;32m   (...)\u001b[0m\n\u001b[0;32m    374\u001b[0m     operation_id: Optional[\u001b[38;5;28mint\u001b[39m] \u001b[38;5;241m=\u001b[39m \u001b[38;5;28;01mNone\u001b[39;00m,\n\u001b[0;32m    375\u001b[0m ) \u001b[38;5;241m-\u001b[39m\u001b[38;5;241m>\u001b[39m Server:\n\u001b[1;32m--> 376\u001b[0m     servers \u001b[38;5;241m=\u001b[39m \u001b[38;5;28mself\u001b[39m\u001b[38;5;241m.\u001b[39mselect_servers(\n\u001b[0;32m    377\u001b[0m         selector, operation, server_selection_timeout, address, operation_id\n\u001b[0;32m    378\u001b[0m     )\n\u001b[0;32m    379\u001b[0m     servers \u001b[38;5;241m=\u001b[39m _filter_servers(servers, deprioritized_servers)\n\u001b[0;32m    380\u001b[0m     \u001b[38;5;28;01mif\u001b[39;00m \u001b[38;5;28mlen\u001b[39m(servers) \u001b[38;5;241m==\u001b[39m \u001b[38;5;241m1\u001b[39m:\n",
      "File \u001b[1;32m~\\anaconda3\\Lib\\site-packages\\pymongo\\synchronous\\topology.py:283\u001b[0m, in \u001b[0;36mTopology.select_servers\u001b[1;34m(self, selector, operation, server_selection_timeout, address, operation_id)\u001b[0m\n\u001b[0;32m    280\u001b[0m     server_timeout \u001b[38;5;241m=\u001b[39m server_selection_timeout\n\u001b[0;32m    282\u001b[0m \u001b[38;5;28;01mwith\u001b[39;00m \u001b[38;5;28mself\u001b[39m\u001b[38;5;241m.\u001b[39m_lock:\n\u001b[1;32m--> 283\u001b[0m     server_descriptions \u001b[38;5;241m=\u001b[39m \u001b[38;5;28mself\u001b[39m\u001b[38;5;241m.\u001b[39m_select_servers_loop(\n\u001b[0;32m    284\u001b[0m         selector, server_timeout, operation, operation_id, address\n\u001b[0;32m    285\u001b[0m     )\n\u001b[0;32m    287\u001b[0m     \u001b[38;5;28;01mreturn\u001b[39;00m [\n\u001b[0;32m    288\u001b[0m         cast(Server, \u001b[38;5;28mself\u001b[39m\u001b[38;5;241m.\u001b[39mget_server_by_address(sd\u001b[38;5;241m.\u001b[39maddress)) \u001b[38;5;28;01mfor\u001b[39;00m sd \u001b[38;5;129;01min\u001b[39;00m server_descriptions\n\u001b[0;32m    289\u001b[0m     ]\n",
      "File \u001b[1;32m~\\anaconda3\\Lib\\site-packages\\pymongo\\synchronous\\topology.py:333\u001b[0m, in \u001b[0;36mTopology._select_servers_loop\u001b[1;34m(self, selector, timeout, operation, operation_id, address)\u001b[0m\n\u001b[0;32m    322\u001b[0m     \u001b[38;5;28;01mif\u001b[39;00m _SERVER_SELECTION_LOGGER\u001b[38;5;241m.\u001b[39misEnabledFor(logging\u001b[38;5;241m.\u001b[39mDEBUG):\n\u001b[0;32m    323\u001b[0m         _debug_log(\n\u001b[0;32m    324\u001b[0m             _SERVER_SELECTION_LOGGER,\n\u001b[0;32m    325\u001b[0m             message\u001b[38;5;241m=\u001b[39m_ServerSelectionStatusMessage\u001b[38;5;241m.\u001b[39mFAILED,\n\u001b[1;32m   (...)\u001b[0m\n\u001b[0;32m    331\u001b[0m             failure\u001b[38;5;241m=\u001b[39m\u001b[38;5;28mself\u001b[39m\u001b[38;5;241m.\u001b[39m_error_message(selector),\n\u001b[0;32m    332\u001b[0m         )\n\u001b[1;32m--> 333\u001b[0m     \u001b[38;5;28;01mraise\u001b[39;00m ServerSelectionTimeoutError(\n\u001b[0;32m    334\u001b[0m         \u001b[38;5;124mf\u001b[39m\u001b[38;5;124m\"\u001b[39m\u001b[38;5;132;01m{\u001b[39;00m\u001b[38;5;28mself\u001b[39m\u001b[38;5;241m.\u001b[39m_error_message(selector)\u001b[38;5;132;01m}\u001b[39;00m\u001b[38;5;124m, Timeout: \u001b[39m\u001b[38;5;132;01m{\u001b[39;00mtimeout\u001b[38;5;132;01m}\u001b[39;00m\u001b[38;5;124ms, Topology Description: \u001b[39m\u001b[38;5;132;01m{\u001b[39;00m\u001b[38;5;28mself\u001b[39m\u001b[38;5;241m.\u001b[39mdescription\u001b[38;5;132;01m!r}\u001b[39;00m\u001b[38;5;124m\"\u001b[39m\n\u001b[0;32m    335\u001b[0m     )\n\u001b[0;32m    337\u001b[0m \u001b[38;5;28;01mif\u001b[39;00m \u001b[38;5;129;01mnot\u001b[39;00m logged_waiting:\n\u001b[0;32m    338\u001b[0m     _debug_log(\n\u001b[0;32m    339\u001b[0m         _SERVER_SELECTION_LOGGER,\n\u001b[0;32m    340\u001b[0m         message\u001b[38;5;241m=\u001b[39m_ServerSelectionStatusMessage\u001b[38;5;241m.\u001b[39mWAITING,\n\u001b[1;32m   (...)\u001b[0m\n\u001b[0;32m    346\u001b[0m         remainingTimeMS\u001b[38;5;241m=\u001b[39m\u001b[38;5;28mint\u001b[39m(end_time \u001b[38;5;241m-\u001b[39m time\u001b[38;5;241m.\u001b[39mmonotonic()),\n\u001b[0;32m    347\u001b[0m     )\n",
      "\u001b[1;31mServerSelectionTimeoutError\u001b[0m: localhost:27017: [WinError 10061] No connection could be made because the target machine actively refused it (configured timeouts: socketTimeoutMS: 20000.0ms, connectTimeoutMS: 20000.0ms), Timeout: 30s, Topology Description: <TopologyDescription id: 67165000c5400d1fc6822460, topology_type: Unknown, servers: [<ServerDescription ('localhost', 27017) server_type: Unknown, rtt: None, error=AutoReconnect('localhost:27017: [WinError 10061] No connection could be made because the target machine actively refused it (configured timeouts: socketTimeoutMS: 20000.0ms, connectTimeoutMS: 20000.0ms)')>]>"
     ]
    }
   ],
   "source": [
    "import pandas as pd\n",
    "from pymongo import MongoClient\n",
    "\n",
    "# Connect to MongoDB (make sure MongoDB is running locally on the default port 27017)\n",
    "client = MongoClient(\"mongodb://localhost:27017/\")\n",
    "\n",
    "# Define database and collections\n",
    "db = client['employee_db']\n",
    "\n",
    "# Load data from CSV file\n",
    "file_path = r\"C:\\Employee Sample Data 1.csv\"\n",
    "\n",
    "\n",
    "# Helper functions\n",
    "def createCollection(p_collection_name):\n",
    "    \"\"\"Create a new collection with the specified name.\"\"\"\n",
    "    if p_collection_name not in db.list_collection_names():\n",
    "        collection = db[p_collection_name]\n",
    "        print(f\"Collection '{p_collection_name}' created.\")\n",
    "    else:\n",
    "        print(f\"Collection '{p_collection_name}' already exists.\")\n",
    "    return db[p_collection_name]\n",
    "\n",
    "def indexData(p_collection_name, p_exclude_column):\n",
    "    \"\"\"Index data into collection, excluding the specified column.\"\"\"\n",
    "    collection = db[p_collection_name]\n",
    "    data_to_insert = df.drop(columns=[p_exclude_column]).to_dict('records')\n",
    "    collection.insert_many(data_to_insert)\n",
    "    print(f\"Data indexed into '{p_collection_name}', excluding '{p_exclude_column}'.\")\n",
    "\n",
    "def searchByColumn(p_collection_name, p_column_name, p_column_value):\n",
    "    \"\"\"Search the collection by the given column name and value.\"\"\"\n",
    "    collection = db[p_collection_name]\n",
    "    query = {p_column_name: p_column_value}\n",
    "    result = collection.find(query)\n",
    "    return list(result)\n",
    "\n",
    "def getEmpCount(p_collection_name):\n",
    "    \"\"\"Get the count of employees in the specified collection.\"\"\"\n",
    "    collection = db[p_collection_name]\n",
    "    return collection.count_documents({})\n",
    "\n",
    "def delEmpById(p_collection_name, p_employee_id):\n",
    "    \"\"\"Delete an employee by ID.\"\"\"\n",
    "    collection = db[p_collection_name]\n",
    "    result = collection.delete_one({'Employee ID': p_employee_id})\n",
    "    if result.deleted_count > 0:\n",
    "        print(f\"Employee with ID '{p_employee_id}' deleted from '{p_collection_name}'.\")\n",
    "    else:\n",
    "        print(f\"Employee with ID '{p_employee_id}' not found in '{p_collection_name}'.\")\n",
    "\n",
    "def getDepFacet(p_collection_name):\n",
    "    \"\"\"Get the count of employees grouped by department.\"\"\"\n",
    "    collection = db[p_collection_name]\n",
    "    pipeline = [\n",
    "        {\"$group\": {\"_id\": \"$Department\", \"count\": {\"$sum\": 1}}}\n",
    "    ]\n",
    "    result = collection.aggregate(pipeline)\n",
    "    return list(result)\n",
    "\n",
    "# Function executions\n",
    "v_nameCollection = 'Hash_YourName'\n",
    "v_phoneCollection = 'Hash_1234'  # Replace 1234 with the last 4 digits of your phone number\n",
    "\n",
    "# Create collections\n",
    "createCollection(v_nameCollection)\n",
    "createCollection(v_phoneCollection)\n",
    "\n",
    "# Get employee count\n",
    "print(f\"Employee count in {v_nameCollection}: {getEmpCount(v_nameCollection)}\")\n",
    "\n",
    "# Index data excluding the specified columns\n",
    "indexData(v_nameCollection, 'Department')\n",
    "indexData(v_phoneCollection, 'Gender')\n",
    "\n",
    "# Delete employee by ID\n",
    "delEmpById(v_nameCollection, 'E02003')\n",
    "\n",
    "# Get updated employee count\n",
    "print(f\"Updated employee count in {v_nameCollection}: {getEmpCount(v_nameCollection)}\")\n",
    "\n",
    "# Search by columns\n",
    "print(\"Search by Department 'IT':\", searchByColumn(v_nameCollection, 'Department', 'IT'))\n",
    "print(\"Search by Gender 'Male':\", searchByColumn(v_nameCollection, 'Gender', 'Male'))\n",
    "print(\"Search in phone collection by Department 'IT':\", searchByColumn(v_phoneCollection, 'Department', 'IT'))\n",
    "\n",
    "# Get department facet\n",
    "print(f\"Department facets in {v_nameCollection}:\", getDepFacet(v_nameCollection))\n",
    "print(f\"Department facets in {v_phoneCollection}:\", getDepFacet(v_phoneCollection))"
   ]
  },
  {
   "cell_type": "code",
   "execution_count": null,
   "id": "4d26bcc2-9792-4175-a2eb-5b42febe580f",
   "metadata": {},
   "outputs": [],
   "source": [
    "import pandas as pd\n",
    "from pymongo import MongoClient"
   ]
  },
  {
   "cell_type": "code",
   "execution_count": 98,
   "id": "becfb860-8784-4a06-9eee-a2d0416994ed",
   "metadata": {},
   "outputs": [],
   "source": [
    "client = MongoClient(\"mongodb://localhost:27017/\")"
   ]
  },
  {
   "cell_type": "code",
   "execution_count": null,
   "id": "33932ac0-3843-489f-b8e5-70bdec1aa93c",
   "metadata": {},
   "outputs": [],
   "source": [
    "db = client['employee_db']"
   ]
  },
  {
   "cell_type": "code",
   "execution_count": null,
   "id": "0303f676-e221-4c1c-b9d1-000bb50e5468",
   "metadata": {},
   "outputs": [],
   "source": [
    "file_path = r\"C:\\Employee Sample Data 1.csv\""
   ]
  },
  {
   "cell_type": "code",
   "execution_count": 120,
   "id": "e74620f1-e055-4b2e-81c2-e505130b0823",
   "metadata": {},
   "outputs": [],
   "source": [
    "def createCollection(p_collection_name):\n",
    "    collection = db[p_collection_name]\n",
    "    print(f\"Collection '{p_collection_name}' created or accessed.\")\n",
    "    return collection"
   ]
  },
  {
   "cell_type": "code",
   "execution_count": 132,
   "id": "a9981700-51ed-4928-a088-3b385c8e404c",
   "metadata": {},
   "outputs": [],
   "source": [
    "def indexData(p_collection_name, p_exclude_column):\n",
    "    collection = db[p_collection_name]\n",
    "    # Sample employee data\n",
    "    employees = [\n",
    "        {'_id': 'E02001', 'Name': 'Alice', 'Gender': 'Female', 'Department': 'HR'},\n",
    "        {'_id': 'E02002', 'Name': 'Bob', 'Gender': 'Male', 'Department': 'IT'},\n",
    "        {'_id': 'E02003', 'Name': 'Charlie', 'Gender': 'Male', 'Department': 'Finance'},\n",
    "        {'_id': 'E02004', 'Name': 'David', 'Gender': 'Male', 'Department': 'IT'}\n",
    "    ]"
   ]
  },
  {
   "cell_type": "code",
   "execution_count": 107,
   "id": "2e2514cf-fb61-4346-a914-43582ba56921",
   "metadata": {},
   "outputs": [],
   "source": [
    "def searchByColumn(p_collection_name, p_column_name, p_column_value):\n",
    "    \"\"\"Search the collection by the given column name and value.\"\"\"\n",
    "    collection = db[p_collection_name]\n",
    "    query = {p_column_name: p_column_value}\n",
    "    result = collection.find(query)\n",
    "    return list(result)"
   ]
  },
  {
   "cell_type": "code",
   "execution_count": 152,
   "id": "a7e2eaad-88c4-46af-8b93-7e02fa929c4c",
   "metadata": {},
   "outputs": [],
   "source": [
    "def getEmpCount(p_collection_name):\n",
    "    collection = db[p_collection_name]\n",
    "    count = collection.count_documents({})\n",
    "    print(f\"Employee count in '{p_collection_name}': {count}\")\n",
    "    return count"
   ]
  },
  {
   "cell_type": "code",
   "execution_count": 111,
   "id": "73579bf4-2c5a-4427-a0b3-9538471116a4",
   "metadata": {},
   "outputs": [],
   "source": [
    "def delEmpById(p_collection_name, p_employee_id):\n",
    "    \"\"\"Delete an employee by ID.\"\"\"\n",
    "    collection = db[p_collection_name]\n",
    "    result = collection.delete_one({'Employee ID': p_employee_id})\n",
    "    if result.deleted_count > 0:\n",
    "        print(f\"Employee with ID '{p_employee_id}' deleted from '{p_collection_name}'.\")\n",
    "    else:\n",
    "        print(f\"Employee with ID '{p_employee_id}' not found in '{p_collection_name}'.\")"
   ]
  },
  {
   "cell_type": "code",
   "execution_count": 113,
   "id": "6c89bb44-8cc7-48ae-97d5-60d00d1074a5",
   "metadata": {},
   "outputs": [],
   "source": [
    "def getDepFacet(p_collection_name):\n",
    "    \"\"\"Get the count of employees grouped by department.\"\"\"\n",
    "    collection = db[p_collection_name]\n",
    "    pipeline = [\n",
    "        {\"$group\": {\"_id\": \"$Department\", \"count\": {\"$sum\": 1}}}\n",
    "    ]\n",
    "    result = collection.aggregate(pipeline)\n",
    "    return list(result)"
   ]
  },
  {
   "cell_type": "code",
   "execution_count": 146,
   "id": "f83ed6c7-7d66-42ad-86c9-cac9e36142cf",
   "metadata": {},
   "outputs": [],
   "source": [
    "v_nameCollection = 'Robert Patel'\n",
    "v_phoneCollection = '1234'"
   ]
  },
  {
   "cell_type": "code",
   "execution_count": 148,
   "id": "300e343b-9476-4b81-a292-5083bb87068c",
   "metadata": {},
   "outputs": [
    {
     "name": "stdout",
     "output_type": "stream",
     "text": [
      "Collection 'Robert Patel' created or accessed.\n",
      "Collection '1234' created or accessed.\n"
     ]
    },
    {
     "data": {
      "text/plain": [
       "Collection(Database(MongoClient(host=['localhost:27017'], document_class=dict, tz_aware=False, connect=True), 'employee_db'), '1234')"
      ]
     },
     "execution_count": 148,
     "metadata": {},
     "output_type": "execute_result"
    }
   ],
   "source": [
    "createCollection(v_nameCollection)\n",
    "createCollection(v_phoneCollection)"
   ]
  },
  {
   "cell_type": "code",
   "execution_count": 163,
   "id": "bfe1dd3e-92a8-41ba-8f05-8ce6572e975f",
   "metadata": {},
   "outputs": [],
   "source": [
    "def indexData(p_collection_name, p_exclude_column):\n",
    "    \"\"\"Index the given employee data into the specified collection, excluding the specified column.\"\"\"\n",
    "    collection = db[p_collection_name]\n",
    "    # Assuming you have a DataFrame or data structure from which to index employees.\n",
    "    # Here we will mock this with a sample data structure.\n",
    "    sample_data = [\n",
    "        {\"EmployeeID\": \"E02001\", \"Name\": \"John Doe\", \"Department\": \"IT\", \"Gender\": \"Male\"},\n",
    "        {\"EmployeeID\": \"E02002\", \"Name\": \"Jane Smith\", \"Department\": \"HR\", \"Gender\": \"Female\"},\n",
    "        {\"EmployeeID\": \"E02003\", \"Name\": \"Mike Brown\", \"Department\": \"IT\", \"Gender\": \"Male\"},\n",
    "    ]\n",
    "    \n",
    "    # Exclude the specified column from being indexed\n",
    "    "
   ]
  },
  {
   "cell_type": "code",
   "execution_count": 174,
   "id": "0313575a-a6d9-4f5a-9a05-77b57778694c",
   "metadata": {},
   "outputs": [],
   "source": [
    "indexData(v_nameCollection, 'Gender')"
   ]
  },
  {
   "cell_type": "code",
   "execution_count": 169,
   "id": "32370ba2-6104-4b55-89e4-994e054a40fb",
   "metadata": {},
   "outputs": [],
   "source": [
    "def searchByColumn(p_collection_name, p_column_name, p_column_value):\n",
    "    \"\"\"Search within the specified collection for records where the column matches the given value.\"\"\"\n",
    "    collection = db[p_collection_name]\n",
    "    results = collection.find({p_column_name: p_column_value})\n",
    "    return list(results)  "
   ]
  },
  {
   "cell_type": "code",
   "execution_count": 171,
   "id": "7bbf3921-eb68-4a37-8335-b0bfa118eea5",
   "metadata": {},
   "outputs": [
    {
     "ename": "ServerSelectionTimeoutError",
     "evalue": "localhost:27017: [WinError 10061] No connection could be made because the target machine actively refused it (configured timeouts: socketTimeoutMS: 20000.0ms, connectTimeoutMS: 20000.0ms), Timeout: 30s, Topology Description: <TopologyDescription id: 67165000c5400d1fc6822460, topology_type: Unknown, servers: [<ServerDescription ('localhost', 27017) server_type: Unknown, rtt: None, error=AutoReconnect('localhost:27017: [WinError 10061] No connection could be made because the target machine actively refused it (configured timeouts: socketTimeoutMS: 20000.0ms, connectTimeoutMS: 20000.0ms)')>]>",
     "output_type": "error",
     "traceback": [
      "\u001b[1;31m---------------------------------------------------------------------------\u001b[0m",
      "\u001b[1;31mServerSelectionTimeoutError\u001b[0m               Traceback (most recent call last)",
      "Cell \u001b[1;32mIn[171], line 1\u001b[0m\n\u001b[1;32m----> 1\u001b[0m \u001b[38;5;28mprint\u001b[39m(\u001b[38;5;124m\"\u001b[39m\u001b[38;5;124mSearch by Department (IT):\u001b[39m\u001b[38;5;124m\"\u001b[39m, searchByColumn(v_nameCollection, \u001b[38;5;124m'\u001b[39m\u001b[38;5;124mDepartment\u001b[39m\u001b[38;5;124m'\u001b[39m, \u001b[38;5;124m'\u001b[39m\u001b[38;5;124mIT\u001b[39m\u001b[38;5;124m'\u001b[39m))\n",
      "Cell \u001b[1;32mIn[169], line 5\u001b[0m, in \u001b[0;36msearchByColumn\u001b[1;34m(p_collection_name, p_column_name, p_column_value)\u001b[0m\n\u001b[0;32m      3\u001b[0m collection \u001b[38;5;241m=\u001b[39m db[p_collection_name]\n\u001b[0;32m      4\u001b[0m results \u001b[38;5;241m=\u001b[39m collection\u001b[38;5;241m.\u001b[39mfind({p_column_name: p_column_value})\n\u001b[1;32m----> 5\u001b[0m \u001b[38;5;28;01mreturn\u001b[39;00m \u001b[38;5;28mlist\u001b[39m(results)\n",
      "File \u001b[1;32m~\\anaconda3\\Lib\\site-packages\\pymongo\\synchronous\\cursor.py:1281\u001b[0m, in \u001b[0;36mCursor.__next__\u001b[1;34m(self)\u001b[0m\n\u001b[0;32m   1280\u001b[0m \u001b[38;5;28;01mdef\u001b[39;00m \u001b[38;5;21m__next__\u001b[39m(\u001b[38;5;28mself\u001b[39m) \u001b[38;5;241m-\u001b[39m\u001b[38;5;241m>\u001b[39m _DocumentType:\n\u001b[1;32m-> 1281\u001b[0m     \u001b[38;5;28;01mreturn\u001b[39;00m \u001b[38;5;28mself\u001b[39m\u001b[38;5;241m.\u001b[39mnext()\n",
      "File \u001b[1;32m~\\anaconda3\\Lib\\site-packages\\pymongo\\synchronous\\cursor.py:1257\u001b[0m, in \u001b[0;36mCursor.next\u001b[1;34m(self)\u001b[0m\n\u001b[0;32m   1255\u001b[0m \u001b[38;5;28;01mif\u001b[39;00m \u001b[38;5;28mself\u001b[39m\u001b[38;5;241m.\u001b[39m_empty:\n\u001b[0;32m   1256\u001b[0m     \u001b[38;5;28;01mraise\u001b[39;00m \u001b[38;5;167;01mStopIteration\u001b[39;00m\n\u001b[1;32m-> 1257\u001b[0m \u001b[38;5;28;01mif\u001b[39;00m \u001b[38;5;28mlen\u001b[39m(\u001b[38;5;28mself\u001b[39m\u001b[38;5;241m.\u001b[39m_data) \u001b[38;5;129;01mor\u001b[39;00m \u001b[38;5;28mself\u001b[39m\u001b[38;5;241m.\u001b[39m_refresh():\n\u001b[0;32m   1258\u001b[0m     \u001b[38;5;28;01mreturn\u001b[39;00m \u001b[38;5;28mself\u001b[39m\u001b[38;5;241m.\u001b[39m_data\u001b[38;5;241m.\u001b[39mpopleft()\n\u001b[0;32m   1259\u001b[0m \u001b[38;5;28;01melse\u001b[39;00m:\n",
      "File \u001b[1;32m~\\anaconda3\\Lib\\site-packages\\pymongo\\synchronous\\cursor.py:1205\u001b[0m, in \u001b[0;36mCursor._refresh\u001b[1;34m(self)\u001b[0m\n\u001b[0;32m   1183\u001b[0m         \u001b[38;5;28;01mraise\u001b[39;00m InvalidOperation(\n\u001b[0;32m   1184\u001b[0m             \u001b[38;5;124m\"\u001b[39m\u001b[38;5;124mPassing a \u001b[39m\u001b[38;5;124m'\u001b[39m\u001b[38;5;124mhint\u001b[39m\u001b[38;5;124m'\u001b[39m\u001b[38;5;124m is required when using the min/max query\u001b[39m\u001b[38;5;124m\"\u001b[39m\n\u001b[0;32m   1185\u001b[0m             \u001b[38;5;124m\"\u001b[39m\u001b[38;5;124m option to ensure the query utilizes the correct index\u001b[39m\u001b[38;5;124m\"\u001b[39m\n\u001b[0;32m   1186\u001b[0m         )\n\u001b[0;32m   1187\u001b[0m     q \u001b[38;5;241m=\u001b[39m \u001b[38;5;28mself\u001b[39m\u001b[38;5;241m.\u001b[39m_query_class(\n\u001b[0;32m   1188\u001b[0m         \u001b[38;5;28mself\u001b[39m\u001b[38;5;241m.\u001b[39m_query_flags,\n\u001b[0;32m   1189\u001b[0m         \u001b[38;5;28mself\u001b[39m\u001b[38;5;241m.\u001b[39m_collection\u001b[38;5;241m.\u001b[39mdatabase\u001b[38;5;241m.\u001b[39mname,\n\u001b[1;32m   (...)\u001b[0m\n\u001b[0;32m   1203\u001b[0m         \u001b[38;5;28mself\u001b[39m\u001b[38;5;241m.\u001b[39m_exhaust,\n\u001b[0;32m   1204\u001b[0m     )\n\u001b[1;32m-> 1205\u001b[0m     \u001b[38;5;28mself\u001b[39m\u001b[38;5;241m.\u001b[39m_send_message(q)\n\u001b[0;32m   1206\u001b[0m \u001b[38;5;28;01melif\u001b[39;00m \u001b[38;5;28mself\u001b[39m\u001b[38;5;241m.\u001b[39m_id:  \u001b[38;5;66;03m# Get More\u001b[39;00m\n\u001b[0;32m   1207\u001b[0m     \u001b[38;5;28;01mif\u001b[39;00m \u001b[38;5;28mself\u001b[39m\u001b[38;5;241m.\u001b[39m_limit:\n",
      "File \u001b[1;32m~\\anaconda3\\Lib\\site-packages\\pymongo\\synchronous\\cursor.py:1100\u001b[0m, in \u001b[0;36mCursor._send_message\u001b[1;34m(self, operation)\u001b[0m\n\u001b[0;32m   1097\u001b[0m     \u001b[38;5;28;01mraise\u001b[39;00m InvalidOperation(\u001b[38;5;124m\"\u001b[39m\u001b[38;5;124mexhaust cursors do not support auto encryption\u001b[39m\u001b[38;5;124m\"\u001b[39m)\n\u001b[0;32m   1099\u001b[0m \u001b[38;5;28;01mtry\u001b[39;00m:\n\u001b[1;32m-> 1100\u001b[0m     response \u001b[38;5;241m=\u001b[39m client\u001b[38;5;241m.\u001b[39m_run_operation(\n\u001b[0;32m   1101\u001b[0m         operation, \u001b[38;5;28mself\u001b[39m\u001b[38;5;241m.\u001b[39m_unpack_response, address\u001b[38;5;241m=\u001b[39m\u001b[38;5;28mself\u001b[39m\u001b[38;5;241m.\u001b[39m_address\n\u001b[0;32m   1102\u001b[0m     )\n\u001b[0;32m   1103\u001b[0m \u001b[38;5;28;01mexcept\u001b[39;00m OperationFailure \u001b[38;5;28;01mas\u001b[39;00m exc:\n\u001b[0;32m   1104\u001b[0m     \u001b[38;5;28;01mif\u001b[39;00m exc\u001b[38;5;241m.\u001b[39mcode \u001b[38;5;129;01min\u001b[39;00m _CURSOR_CLOSED_ERRORS \u001b[38;5;129;01mor\u001b[39;00m \u001b[38;5;28mself\u001b[39m\u001b[38;5;241m.\u001b[39m_exhaust:\n\u001b[0;32m   1105\u001b[0m         \u001b[38;5;66;03m# Don't send killCursors because the cursor is already closed.\u001b[39;00m\n",
      "File \u001b[1;32m~\\anaconda3\\Lib\\site-packages\\pymongo\\_csot.py:119\u001b[0m, in \u001b[0;36mapply.<locals>.csot_wrapper\u001b[1;34m(self, *args, **kwargs)\u001b[0m\n\u001b[0;32m    117\u001b[0m         \u001b[38;5;28;01mwith\u001b[39;00m _TimeoutContext(timeout):\n\u001b[0;32m    118\u001b[0m             \u001b[38;5;28;01mreturn\u001b[39;00m func(\u001b[38;5;28mself\u001b[39m, \u001b[38;5;241m*\u001b[39margs, \u001b[38;5;241m*\u001b[39m\u001b[38;5;241m*\u001b[39mkwargs)\n\u001b[1;32m--> 119\u001b[0m \u001b[38;5;28;01mreturn\u001b[39;00m func(\u001b[38;5;28mself\u001b[39m, \u001b[38;5;241m*\u001b[39margs, \u001b[38;5;241m*\u001b[39m\u001b[38;5;241m*\u001b[39mkwargs)\n",
      "File \u001b[1;32m~\\anaconda3\\Lib\\site-packages\\pymongo\\synchronous\\mongo_client.py:1754\u001b[0m, in \u001b[0;36mMongoClient._run_operation\u001b[1;34m(self, operation, unpack_res, address)\u001b[0m\n\u001b[0;32m   1744\u001b[0m     operation\u001b[38;5;241m.\u001b[39mreset()  \u001b[38;5;66;03m# Reset op in case of retry.\u001b[39;00m\n\u001b[0;32m   1745\u001b[0m     \u001b[38;5;28;01mreturn\u001b[39;00m server\u001b[38;5;241m.\u001b[39mrun_operation(\n\u001b[0;32m   1746\u001b[0m         conn,\n\u001b[0;32m   1747\u001b[0m         operation,\n\u001b[1;32m   (...)\u001b[0m\n\u001b[0;32m   1751\u001b[0m         \u001b[38;5;28mself\u001b[39m,\n\u001b[0;32m   1752\u001b[0m     )\n\u001b[1;32m-> 1754\u001b[0m \u001b[38;5;28;01mreturn\u001b[39;00m \u001b[38;5;28mself\u001b[39m\u001b[38;5;241m.\u001b[39m_retryable_read(\n\u001b[0;32m   1755\u001b[0m     _cmd,\n\u001b[0;32m   1756\u001b[0m     operation\u001b[38;5;241m.\u001b[39mread_preference,\n\u001b[0;32m   1757\u001b[0m     operation\u001b[38;5;241m.\u001b[39msession,  \u001b[38;5;66;03m# type: ignore[arg-type]\u001b[39;00m\n\u001b[0;32m   1758\u001b[0m     address\u001b[38;5;241m=\u001b[39maddress,\n\u001b[0;32m   1759\u001b[0m     retryable\u001b[38;5;241m=\u001b[39m\u001b[38;5;28misinstance\u001b[39m(operation, _Query),\n\u001b[0;32m   1760\u001b[0m     operation\u001b[38;5;241m=\u001b[39moperation\u001b[38;5;241m.\u001b[39mname,\n\u001b[0;32m   1761\u001b[0m )\n",
      "File \u001b[1;32m~\\anaconda3\\Lib\\site-packages\\pymongo\\synchronous\\mongo_client.py:1863\u001b[0m, in \u001b[0;36mMongoClient._retryable_read\u001b[1;34m(self, func, read_pref, session, operation, address, retryable, operation_id)\u001b[0m\n\u001b[0;32m   1858\u001b[0m \u001b[38;5;66;03m# Ensure that the client supports retrying on reads and there is no session in\u001b[39;00m\n\u001b[0;32m   1859\u001b[0m \u001b[38;5;66;03m# transaction, otherwise, we will not support retry behavior for this call.\u001b[39;00m\n\u001b[0;32m   1860\u001b[0m retryable \u001b[38;5;241m=\u001b[39m \u001b[38;5;28mbool\u001b[39m(\n\u001b[0;32m   1861\u001b[0m     retryable \u001b[38;5;129;01mand\u001b[39;00m \u001b[38;5;28mself\u001b[39m\u001b[38;5;241m.\u001b[39moptions\u001b[38;5;241m.\u001b[39mretry_reads \u001b[38;5;129;01mand\u001b[39;00m \u001b[38;5;129;01mnot\u001b[39;00m (session \u001b[38;5;129;01mand\u001b[39;00m session\u001b[38;5;241m.\u001b[39min_transaction)\n\u001b[0;32m   1862\u001b[0m )\n\u001b[1;32m-> 1863\u001b[0m \u001b[38;5;28;01mreturn\u001b[39;00m \u001b[38;5;28mself\u001b[39m\u001b[38;5;241m.\u001b[39m_retry_internal(\n\u001b[0;32m   1864\u001b[0m     func,\n\u001b[0;32m   1865\u001b[0m     session,\n\u001b[0;32m   1866\u001b[0m     \u001b[38;5;28;01mNone\u001b[39;00m,\n\u001b[0;32m   1867\u001b[0m     operation,\n\u001b[0;32m   1868\u001b[0m     is_read\u001b[38;5;241m=\u001b[39m\u001b[38;5;28;01mTrue\u001b[39;00m,\n\u001b[0;32m   1869\u001b[0m     address\u001b[38;5;241m=\u001b[39maddress,\n\u001b[0;32m   1870\u001b[0m     read_pref\u001b[38;5;241m=\u001b[39mread_pref,\n\u001b[0;32m   1871\u001b[0m     retryable\u001b[38;5;241m=\u001b[39mretryable,\n\u001b[0;32m   1872\u001b[0m     operation_id\u001b[38;5;241m=\u001b[39moperation_id,\n\u001b[0;32m   1873\u001b[0m )\n",
      "File \u001b[1;32m~\\anaconda3\\Lib\\site-packages\\pymongo\\_csot.py:119\u001b[0m, in \u001b[0;36mapply.<locals>.csot_wrapper\u001b[1;34m(self, *args, **kwargs)\u001b[0m\n\u001b[0;32m    117\u001b[0m         \u001b[38;5;28;01mwith\u001b[39;00m _TimeoutContext(timeout):\n\u001b[0;32m    118\u001b[0m             \u001b[38;5;28;01mreturn\u001b[39;00m func(\u001b[38;5;28mself\u001b[39m, \u001b[38;5;241m*\u001b[39margs, \u001b[38;5;241m*\u001b[39m\u001b[38;5;241m*\u001b[39mkwargs)\n\u001b[1;32m--> 119\u001b[0m \u001b[38;5;28;01mreturn\u001b[39;00m func(\u001b[38;5;28mself\u001b[39m, \u001b[38;5;241m*\u001b[39margs, \u001b[38;5;241m*\u001b[39m\u001b[38;5;241m*\u001b[39mkwargs)\n",
      "File \u001b[1;32m~\\anaconda3\\Lib\\site-packages\\pymongo\\synchronous\\mongo_client.py:1830\u001b[0m, in \u001b[0;36mMongoClient._retry_internal\u001b[1;34m(self, func, session, bulk, operation, is_read, address, read_pref, retryable, operation_id)\u001b[0m\n\u001b[0;32m   1793\u001b[0m \u001b[38;5;129m@_csot\u001b[39m\u001b[38;5;241m.\u001b[39mapply\n\u001b[0;32m   1794\u001b[0m \u001b[38;5;28;01mdef\u001b[39;00m \u001b[38;5;21m_retry_internal\u001b[39m(\n\u001b[0;32m   1795\u001b[0m     \u001b[38;5;28mself\u001b[39m,\n\u001b[1;32m   (...)\u001b[0m\n\u001b[0;32m   1804\u001b[0m     operation_id: Optional[\u001b[38;5;28mint\u001b[39m] \u001b[38;5;241m=\u001b[39m \u001b[38;5;28;01mNone\u001b[39;00m,\n\u001b[0;32m   1805\u001b[0m ) \u001b[38;5;241m-\u001b[39m\u001b[38;5;241m>\u001b[39m T:\n\u001b[0;32m   1806\u001b[0m \u001b[38;5;250m    \u001b[39m\u001b[38;5;124;03m\"\"\"Internal retryable helper for all client transactions.\u001b[39;00m\n\u001b[0;32m   1807\u001b[0m \n\u001b[0;32m   1808\u001b[0m \u001b[38;5;124;03m    :param func: Callback function we want to retry\u001b[39;00m\n\u001b[1;32m   (...)\u001b[0m\n\u001b[0;32m   1817\u001b[0m \u001b[38;5;124;03m    :return: Output of the calling func()\u001b[39;00m\n\u001b[0;32m   1818\u001b[0m \u001b[38;5;124;03m    \"\"\"\u001b[39;00m\n\u001b[0;32m   1819\u001b[0m     \u001b[38;5;28;01mreturn\u001b[39;00m _ClientConnectionRetryable(\n\u001b[0;32m   1820\u001b[0m         mongo_client\u001b[38;5;241m=\u001b[39m\u001b[38;5;28mself\u001b[39m,\n\u001b[0;32m   1821\u001b[0m         func\u001b[38;5;241m=\u001b[39mfunc,\n\u001b[0;32m   1822\u001b[0m         bulk\u001b[38;5;241m=\u001b[39mbulk,\n\u001b[0;32m   1823\u001b[0m         operation\u001b[38;5;241m=\u001b[39moperation,\n\u001b[0;32m   1824\u001b[0m         is_read\u001b[38;5;241m=\u001b[39mis_read,\n\u001b[0;32m   1825\u001b[0m         session\u001b[38;5;241m=\u001b[39msession,\n\u001b[0;32m   1826\u001b[0m         read_pref\u001b[38;5;241m=\u001b[39mread_pref,\n\u001b[0;32m   1827\u001b[0m         address\u001b[38;5;241m=\u001b[39maddress,\n\u001b[0;32m   1828\u001b[0m         retryable\u001b[38;5;241m=\u001b[39mretryable,\n\u001b[0;32m   1829\u001b[0m         operation_id\u001b[38;5;241m=\u001b[39moperation_id,\n\u001b[1;32m-> 1830\u001b[0m     )\u001b[38;5;241m.\u001b[39mrun()\n",
      "File \u001b[1;32m~\\anaconda3\\Lib\\site-packages\\pymongo\\synchronous\\mongo_client.py:2554\u001b[0m, in \u001b[0;36m_ClientConnectionRetryable.run\u001b[1;34m(self)\u001b[0m\n\u001b[0;32m   2552\u001b[0m \u001b[38;5;28mself\u001b[39m\u001b[38;5;241m.\u001b[39m_check_last_error(check_csot\u001b[38;5;241m=\u001b[39m\u001b[38;5;28;01mTrue\u001b[39;00m)\n\u001b[0;32m   2553\u001b[0m \u001b[38;5;28;01mtry\u001b[39;00m:\n\u001b[1;32m-> 2554\u001b[0m     \u001b[38;5;28;01mreturn\u001b[39;00m \u001b[38;5;28mself\u001b[39m\u001b[38;5;241m.\u001b[39m_read() \u001b[38;5;28;01mif\u001b[39;00m \u001b[38;5;28mself\u001b[39m\u001b[38;5;241m.\u001b[39m_is_read \u001b[38;5;28;01melse\u001b[39;00m \u001b[38;5;28mself\u001b[39m\u001b[38;5;241m.\u001b[39m_write()\n\u001b[0;32m   2555\u001b[0m \u001b[38;5;28;01mexcept\u001b[39;00m ServerSelectionTimeoutError:\n\u001b[0;32m   2556\u001b[0m     \u001b[38;5;66;03m# The application may think the write was never attempted\u001b[39;00m\n\u001b[0;32m   2557\u001b[0m     \u001b[38;5;66;03m# if we raise ServerSelectionTimeoutError on the retry\u001b[39;00m\n\u001b[0;32m   2558\u001b[0m     \u001b[38;5;66;03m# attempt. Raise the original exception instead.\u001b[39;00m\n\u001b[0;32m   2559\u001b[0m     \u001b[38;5;28mself\u001b[39m\u001b[38;5;241m.\u001b[39m_check_last_error()\n",
      "File \u001b[1;32m~\\anaconda3\\Lib\\site-packages\\pymongo\\synchronous\\mongo_client.py:2689\u001b[0m, in \u001b[0;36m_ClientConnectionRetryable._read\u001b[1;34m(self)\u001b[0m\n\u001b[0;32m   2684\u001b[0m \u001b[38;5;28;01mdef\u001b[39;00m \u001b[38;5;21m_read\u001b[39m(\u001b[38;5;28mself\u001b[39m) \u001b[38;5;241m-\u001b[39m\u001b[38;5;241m>\u001b[39m T:\n\u001b[0;32m   2685\u001b[0m \u001b[38;5;250m    \u001b[39m\u001b[38;5;124;03m\"\"\"Wrapper method for read-type retryable client executions\u001b[39;00m\n\u001b[0;32m   2686\u001b[0m \n\u001b[0;32m   2687\u001b[0m \u001b[38;5;124;03m    :return: Output for func()'s call\u001b[39;00m\n\u001b[0;32m   2688\u001b[0m \u001b[38;5;124;03m    \"\"\"\u001b[39;00m\n\u001b[1;32m-> 2689\u001b[0m     \u001b[38;5;28mself\u001b[39m\u001b[38;5;241m.\u001b[39m_server \u001b[38;5;241m=\u001b[39m \u001b[38;5;28mself\u001b[39m\u001b[38;5;241m.\u001b[39m_get_server()\n\u001b[0;32m   2690\u001b[0m     \u001b[38;5;28;01massert\u001b[39;00m \u001b[38;5;28mself\u001b[39m\u001b[38;5;241m.\u001b[39m_read_pref \u001b[38;5;129;01mis\u001b[39;00m \u001b[38;5;129;01mnot\u001b[39;00m \u001b[38;5;28;01mNone\u001b[39;00m, \u001b[38;5;124m\"\u001b[39m\u001b[38;5;124mRead Preference required on read calls\u001b[39m\u001b[38;5;124m\"\u001b[39m\n\u001b[0;32m   2691\u001b[0m     \u001b[38;5;28;01mwith\u001b[39;00m \u001b[38;5;28mself\u001b[39m\u001b[38;5;241m.\u001b[39m_client\u001b[38;5;241m.\u001b[39m_conn_from_server(\u001b[38;5;28mself\u001b[39m\u001b[38;5;241m.\u001b[39m_read_pref, \u001b[38;5;28mself\u001b[39m\u001b[38;5;241m.\u001b[39m_server, \u001b[38;5;28mself\u001b[39m\u001b[38;5;241m.\u001b[39m_session) \u001b[38;5;28;01mas\u001b[39;00m (\n\u001b[0;32m   2692\u001b[0m         conn,\n\u001b[0;32m   2693\u001b[0m         read_pref,\n\u001b[0;32m   2694\u001b[0m     ):\n",
      "File \u001b[1;32m~\\anaconda3\\Lib\\site-packages\\pymongo\\synchronous\\mongo_client.py:2645\u001b[0m, in \u001b[0;36m_ClientConnectionRetryable._get_server\u001b[1;34m(self)\u001b[0m\n\u001b[0;32m   2640\u001b[0m \u001b[38;5;28;01mdef\u001b[39;00m \u001b[38;5;21m_get_server\u001b[39m(\u001b[38;5;28mself\u001b[39m) \u001b[38;5;241m-\u001b[39m\u001b[38;5;241m>\u001b[39m Server:\n\u001b[0;32m   2641\u001b[0m \u001b[38;5;250m    \u001b[39m\u001b[38;5;124;03m\"\"\"Retrieves a server object based on provided object context\u001b[39;00m\n\u001b[0;32m   2642\u001b[0m \n\u001b[0;32m   2643\u001b[0m \u001b[38;5;124;03m    :return: Abstraction to connect to server\u001b[39;00m\n\u001b[0;32m   2644\u001b[0m \u001b[38;5;124;03m    \"\"\"\u001b[39;00m\n\u001b[1;32m-> 2645\u001b[0m     \u001b[38;5;28;01mreturn\u001b[39;00m \u001b[38;5;28mself\u001b[39m\u001b[38;5;241m.\u001b[39m_client\u001b[38;5;241m.\u001b[39m_select_server(\n\u001b[0;32m   2646\u001b[0m         \u001b[38;5;28mself\u001b[39m\u001b[38;5;241m.\u001b[39m_server_selector,\n\u001b[0;32m   2647\u001b[0m         \u001b[38;5;28mself\u001b[39m\u001b[38;5;241m.\u001b[39m_session,\n\u001b[0;32m   2648\u001b[0m         \u001b[38;5;28mself\u001b[39m\u001b[38;5;241m.\u001b[39m_operation,\n\u001b[0;32m   2649\u001b[0m         address\u001b[38;5;241m=\u001b[39m\u001b[38;5;28mself\u001b[39m\u001b[38;5;241m.\u001b[39m_address,\n\u001b[0;32m   2650\u001b[0m         deprioritized_servers\u001b[38;5;241m=\u001b[39m\u001b[38;5;28mself\u001b[39m\u001b[38;5;241m.\u001b[39m_deprioritized_servers,\n\u001b[0;32m   2651\u001b[0m         operation_id\u001b[38;5;241m=\u001b[39m\u001b[38;5;28mself\u001b[39m\u001b[38;5;241m.\u001b[39m_operation_id,\n\u001b[0;32m   2652\u001b[0m     )\n",
      "File \u001b[1;32m~\\anaconda3\\Lib\\site-packages\\pymongo\\synchronous\\mongo_client.py:1649\u001b[0m, in \u001b[0;36mMongoClient._select_server\u001b[1;34m(self, server_selector, session, operation, address, deprioritized_servers, operation_id)\u001b[0m\n\u001b[0;32m   1647\u001b[0m             \u001b[38;5;28;01mraise\u001b[39;00m AutoReconnect(\u001b[38;5;124m\"\u001b[39m\u001b[38;5;124mserver \u001b[39m\u001b[38;5;132;01m%s\u001b[39;00m\u001b[38;5;124m:\u001b[39m\u001b[38;5;132;01m%s\u001b[39;00m\u001b[38;5;124m no longer available\u001b[39m\u001b[38;5;124m\"\u001b[39m \u001b[38;5;241m%\u001b[39m address)  \u001b[38;5;66;03m# noqa: UP031\u001b[39;00m\n\u001b[0;32m   1648\u001b[0m     \u001b[38;5;28;01melse\u001b[39;00m:\n\u001b[1;32m-> 1649\u001b[0m         server \u001b[38;5;241m=\u001b[39m topology\u001b[38;5;241m.\u001b[39mselect_server(\n\u001b[0;32m   1650\u001b[0m             server_selector,\n\u001b[0;32m   1651\u001b[0m             operation,\n\u001b[0;32m   1652\u001b[0m             deprioritized_servers\u001b[38;5;241m=\u001b[39mdeprioritized_servers,\n\u001b[0;32m   1653\u001b[0m             operation_id\u001b[38;5;241m=\u001b[39moperation_id,\n\u001b[0;32m   1654\u001b[0m         )\n\u001b[0;32m   1655\u001b[0m     \u001b[38;5;28;01mreturn\u001b[39;00m server\n\u001b[0;32m   1656\u001b[0m \u001b[38;5;28;01mexcept\u001b[39;00m PyMongoError \u001b[38;5;28;01mas\u001b[39;00m exc:\n\u001b[0;32m   1657\u001b[0m     \u001b[38;5;66;03m# Server selection errors in a transaction are transient.\u001b[39;00m\n",
      "File \u001b[1;32m~\\anaconda3\\Lib\\site-packages\\pymongo\\synchronous\\topology.py:398\u001b[0m, in \u001b[0;36mTopology.select_server\u001b[1;34m(self, selector, operation, server_selection_timeout, address, deprioritized_servers, operation_id)\u001b[0m\n\u001b[0;32m    388\u001b[0m \u001b[38;5;28;01mdef\u001b[39;00m \u001b[38;5;21mselect_server\u001b[39m(\n\u001b[0;32m    389\u001b[0m     \u001b[38;5;28mself\u001b[39m,\n\u001b[0;32m    390\u001b[0m     selector: Callable[[Selection], Selection],\n\u001b[1;32m   (...)\u001b[0m\n\u001b[0;32m    395\u001b[0m     operation_id: Optional[\u001b[38;5;28mint\u001b[39m] \u001b[38;5;241m=\u001b[39m \u001b[38;5;28;01mNone\u001b[39;00m,\n\u001b[0;32m    396\u001b[0m ) \u001b[38;5;241m-\u001b[39m\u001b[38;5;241m>\u001b[39m Server:\n\u001b[0;32m    397\u001b[0m \u001b[38;5;250m    \u001b[39m\u001b[38;5;124;03m\"\"\"Like select_servers, but choose a random server if several match.\"\"\"\u001b[39;00m\n\u001b[1;32m--> 398\u001b[0m     server \u001b[38;5;241m=\u001b[39m \u001b[38;5;28mself\u001b[39m\u001b[38;5;241m.\u001b[39m_select_server(\n\u001b[0;32m    399\u001b[0m         selector,\n\u001b[0;32m    400\u001b[0m         operation,\n\u001b[0;32m    401\u001b[0m         server_selection_timeout,\n\u001b[0;32m    402\u001b[0m         address,\n\u001b[0;32m    403\u001b[0m         deprioritized_servers,\n\u001b[0;32m    404\u001b[0m         operation_id\u001b[38;5;241m=\u001b[39moperation_id,\n\u001b[0;32m    405\u001b[0m     )\n\u001b[0;32m    406\u001b[0m     \u001b[38;5;28;01mif\u001b[39;00m _csot\u001b[38;5;241m.\u001b[39mget_timeout():\n\u001b[0;32m    407\u001b[0m         _csot\u001b[38;5;241m.\u001b[39mset_rtt(server\u001b[38;5;241m.\u001b[39mdescription\u001b[38;5;241m.\u001b[39mmin_round_trip_time)\n",
      "File \u001b[1;32m~\\anaconda3\\Lib\\site-packages\\pymongo\\synchronous\\topology.py:376\u001b[0m, in \u001b[0;36mTopology._select_server\u001b[1;34m(self, selector, operation, server_selection_timeout, address, deprioritized_servers, operation_id)\u001b[0m\n\u001b[0;32m    367\u001b[0m \u001b[38;5;28;01mdef\u001b[39;00m \u001b[38;5;21m_select_server\u001b[39m(\n\u001b[0;32m    368\u001b[0m     \u001b[38;5;28mself\u001b[39m,\n\u001b[0;32m    369\u001b[0m     selector: Callable[[Selection], Selection],\n\u001b[1;32m   (...)\u001b[0m\n\u001b[0;32m    374\u001b[0m     operation_id: Optional[\u001b[38;5;28mint\u001b[39m] \u001b[38;5;241m=\u001b[39m \u001b[38;5;28;01mNone\u001b[39;00m,\n\u001b[0;32m    375\u001b[0m ) \u001b[38;5;241m-\u001b[39m\u001b[38;5;241m>\u001b[39m Server:\n\u001b[1;32m--> 376\u001b[0m     servers \u001b[38;5;241m=\u001b[39m \u001b[38;5;28mself\u001b[39m\u001b[38;5;241m.\u001b[39mselect_servers(\n\u001b[0;32m    377\u001b[0m         selector, operation, server_selection_timeout, address, operation_id\n\u001b[0;32m    378\u001b[0m     )\n\u001b[0;32m    379\u001b[0m     servers \u001b[38;5;241m=\u001b[39m _filter_servers(servers, deprioritized_servers)\n\u001b[0;32m    380\u001b[0m     \u001b[38;5;28;01mif\u001b[39;00m \u001b[38;5;28mlen\u001b[39m(servers) \u001b[38;5;241m==\u001b[39m \u001b[38;5;241m1\u001b[39m:\n",
      "File \u001b[1;32m~\\anaconda3\\Lib\\site-packages\\pymongo\\synchronous\\topology.py:283\u001b[0m, in \u001b[0;36mTopology.select_servers\u001b[1;34m(self, selector, operation, server_selection_timeout, address, operation_id)\u001b[0m\n\u001b[0;32m    280\u001b[0m     server_timeout \u001b[38;5;241m=\u001b[39m server_selection_timeout\n\u001b[0;32m    282\u001b[0m \u001b[38;5;28;01mwith\u001b[39;00m \u001b[38;5;28mself\u001b[39m\u001b[38;5;241m.\u001b[39m_lock:\n\u001b[1;32m--> 283\u001b[0m     server_descriptions \u001b[38;5;241m=\u001b[39m \u001b[38;5;28mself\u001b[39m\u001b[38;5;241m.\u001b[39m_select_servers_loop(\n\u001b[0;32m    284\u001b[0m         selector, server_timeout, operation, operation_id, address\n\u001b[0;32m    285\u001b[0m     )\n\u001b[0;32m    287\u001b[0m     \u001b[38;5;28;01mreturn\u001b[39;00m [\n\u001b[0;32m    288\u001b[0m         cast(Server, \u001b[38;5;28mself\u001b[39m\u001b[38;5;241m.\u001b[39mget_server_by_address(sd\u001b[38;5;241m.\u001b[39maddress)) \u001b[38;5;28;01mfor\u001b[39;00m sd \u001b[38;5;129;01min\u001b[39;00m server_descriptions\n\u001b[0;32m    289\u001b[0m     ]\n",
      "File \u001b[1;32m~\\anaconda3\\Lib\\site-packages\\pymongo\\synchronous\\topology.py:333\u001b[0m, in \u001b[0;36mTopology._select_servers_loop\u001b[1;34m(self, selector, timeout, operation, operation_id, address)\u001b[0m\n\u001b[0;32m    322\u001b[0m     \u001b[38;5;28;01mif\u001b[39;00m _SERVER_SELECTION_LOGGER\u001b[38;5;241m.\u001b[39misEnabledFor(logging\u001b[38;5;241m.\u001b[39mDEBUG):\n\u001b[0;32m    323\u001b[0m         _debug_log(\n\u001b[0;32m    324\u001b[0m             _SERVER_SELECTION_LOGGER,\n\u001b[0;32m    325\u001b[0m             message\u001b[38;5;241m=\u001b[39m_ServerSelectionStatusMessage\u001b[38;5;241m.\u001b[39mFAILED,\n\u001b[1;32m   (...)\u001b[0m\n\u001b[0;32m    331\u001b[0m             failure\u001b[38;5;241m=\u001b[39m\u001b[38;5;28mself\u001b[39m\u001b[38;5;241m.\u001b[39m_error_message(selector),\n\u001b[0;32m    332\u001b[0m         )\n\u001b[1;32m--> 333\u001b[0m     \u001b[38;5;28;01mraise\u001b[39;00m ServerSelectionTimeoutError(\n\u001b[0;32m    334\u001b[0m         \u001b[38;5;124mf\u001b[39m\u001b[38;5;124m\"\u001b[39m\u001b[38;5;132;01m{\u001b[39;00m\u001b[38;5;28mself\u001b[39m\u001b[38;5;241m.\u001b[39m_error_message(selector)\u001b[38;5;132;01m}\u001b[39;00m\u001b[38;5;124m, Timeout: \u001b[39m\u001b[38;5;132;01m{\u001b[39;00mtimeout\u001b[38;5;132;01m}\u001b[39;00m\u001b[38;5;124ms, Topology Description: \u001b[39m\u001b[38;5;132;01m{\u001b[39;00m\u001b[38;5;28mself\u001b[39m\u001b[38;5;241m.\u001b[39mdescription\u001b[38;5;132;01m!r}\u001b[39;00m\u001b[38;5;124m\"\u001b[39m\n\u001b[0;32m    335\u001b[0m     )\n\u001b[0;32m    337\u001b[0m \u001b[38;5;28;01mif\u001b[39;00m \u001b[38;5;129;01mnot\u001b[39;00m logged_waiting:\n\u001b[0;32m    338\u001b[0m     _debug_log(\n\u001b[0;32m    339\u001b[0m         _SERVER_SELECTION_LOGGER,\n\u001b[0;32m    340\u001b[0m         message\u001b[38;5;241m=\u001b[39m_ServerSelectionStatusMessage\u001b[38;5;241m.\u001b[39mWAITING,\n\u001b[1;32m   (...)\u001b[0m\n\u001b[0;32m    346\u001b[0m         remainingTimeMS\u001b[38;5;241m=\u001b[39m\u001b[38;5;28mint\u001b[39m(end_time \u001b[38;5;241m-\u001b[39m time\u001b[38;5;241m.\u001b[39mmonotonic()),\n\u001b[0;32m    347\u001b[0m     )\n",
      "\u001b[1;31mServerSelectionTimeoutError\u001b[0m: localhost:27017: [WinError 10061] No connection could be made because the target machine actively refused it (configured timeouts: socketTimeoutMS: 20000.0ms, connectTimeoutMS: 20000.0ms), Timeout: 30s, Topology Description: <TopologyDescription id: 67165000c5400d1fc6822460, topology_type: Unknown, servers: [<ServerDescription ('localhost', 27017) server_type: Unknown, rtt: None, error=AutoReconnect('localhost:27017: [WinError 10061] No connection could be made because the target machine actively refused it (configured timeouts: socketTimeoutMS: 20000.0ms, connectTimeoutMS: 20000.0ms)')>]>"
     ]
    }
   ],
   "source": [
    "print(\"Search by Department (IT):\", searchByColumn(v_nameCollection, 'Department', 'IT'))\n"
   ]
  },
  {
   "cell_type": "code",
   "execution_count": null,
   "id": "74a54bd5-b496-4f85-8db1-57107e9ec39e",
   "metadata": {},
   "outputs": [],
   "source": [
    "def getEmpCount(p_collection_name):\n",
    "    \"\"\"Get the count of employees in the specified collection.\"\"\"\n",
    "    collection = db[p_collection_name]\n",
    "    return collection.count_documents({}) "
   ]
  },
  {
   "cell_type": "code",
   "execution_count": 176,
   "id": "4bbfdafa-57b5-44d7-8a1b-fa29c5327dd1",
   "metadata": {},
   "outputs": [
    {
     "ename": "ServerSelectionTimeoutError",
     "evalue": "localhost:27017: [WinError 10061] No connection could be made because the target machine actively refused it (configured timeouts: socketTimeoutMS: 20000.0ms, connectTimeoutMS: 20000.0ms), Timeout: 30s, Topology Description: <TopologyDescription id: 67165000c5400d1fc6822460, topology_type: Unknown, servers: [<ServerDescription ('localhost', 27017) server_type: Unknown, rtt: None, error=AutoReconnect('localhost:27017: [WinError 10061] No connection could be made because the target machine actively refused it (configured timeouts: socketTimeoutMS: 20000.0ms, connectTimeoutMS: 20000.0ms)')>]>",
     "output_type": "error",
     "traceback": [
      "\u001b[1;31m---------------------------------------------------------------------------\u001b[0m",
      "\u001b[1;31mServerSelectionTimeoutError\u001b[0m               Traceback (most recent call last)",
      "Cell \u001b[1;32mIn[176], line 1\u001b[0m\n\u001b[1;32m----> 1\u001b[0m \u001b[38;5;28mprint\u001b[39m(\u001b[38;5;124m\"\u001b[39m\u001b[38;5;124mEmployee count:\u001b[39m\u001b[38;5;124m\"\u001b[39m, getEmpCount(v_nameCollection))\n",
      "Cell \u001b[1;32mIn[152], line 3\u001b[0m, in \u001b[0;36mgetEmpCount\u001b[1;34m(p_collection_name)\u001b[0m\n\u001b[0;32m      1\u001b[0m \u001b[38;5;28;01mdef\u001b[39;00m \u001b[38;5;21mgetEmpCount\u001b[39m(p_collection_name):\n\u001b[0;32m      2\u001b[0m     collection \u001b[38;5;241m=\u001b[39m db[p_collection_name]\n\u001b[1;32m----> 3\u001b[0m     count \u001b[38;5;241m=\u001b[39m collection\u001b[38;5;241m.\u001b[39mcount_documents({})\n\u001b[0;32m      4\u001b[0m     \u001b[38;5;28mprint\u001b[39m(\u001b[38;5;124mf\u001b[39m\u001b[38;5;124m\"\u001b[39m\u001b[38;5;124mEmployee count in \u001b[39m\u001b[38;5;124m'\u001b[39m\u001b[38;5;132;01m{\u001b[39;00mp_collection_name\u001b[38;5;132;01m}\u001b[39;00m\u001b[38;5;124m'\u001b[39m\u001b[38;5;124m: \u001b[39m\u001b[38;5;132;01m{\u001b[39;00mcount\u001b[38;5;132;01m}\u001b[39;00m\u001b[38;5;124m\"\u001b[39m)\n\u001b[0;32m      5\u001b[0m     \u001b[38;5;28;01mreturn\u001b[39;00m count\n",
      "File \u001b[1;32m~\\anaconda3\\Lib\\site-packages\\pymongo\\synchronous\\collection.py:2134\u001b[0m, in \u001b[0;36mCollection.count_documents\u001b[1;34m(self, filter, session, comment, **kwargs)\u001b[0m\n\u001b[0;32m   2131\u001b[0m         \u001b[38;5;28;01mreturn\u001b[39;00m \u001b[38;5;241m0\u001b[39m\n\u001b[0;32m   2132\u001b[0m     \u001b[38;5;28;01mreturn\u001b[39;00m result[\u001b[38;5;124m\"\u001b[39m\u001b[38;5;124mn\u001b[39m\u001b[38;5;124m\"\u001b[39m]\n\u001b[1;32m-> 2134\u001b[0m \u001b[38;5;28;01mreturn\u001b[39;00m \u001b[38;5;28mself\u001b[39m\u001b[38;5;241m.\u001b[39m_retryable_non_cursor_read(_cmd, session, _Op\u001b[38;5;241m.\u001b[39mCOUNT)\n",
      "File \u001b[1;32m~\\anaconda3\\Lib\\site-packages\\pymongo\\synchronous\\collection.py:2148\u001b[0m, in \u001b[0;36mCollection._retryable_non_cursor_read\u001b[1;34m(self, func, session, operation)\u001b[0m\n\u001b[0;32m   2146\u001b[0m client \u001b[38;5;241m=\u001b[39m \u001b[38;5;28mself\u001b[39m\u001b[38;5;241m.\u001b[39m_database\u001b[38;5;241m.\u001b[39mclient\n\u001b[0;32m   2147\u001b[0m \u001b[38;5;28;01mwith\u001b[39;00m client\u001b[38;5;241m.\u001b[39m_tmp_session(session) \u001b[38;5;28;01mas\u001b[39;00m s:\n\u001b[1;32m-> 2148\u001b[0m     \u001b[38;5;28;01mreturn\u001b[39;00m client\u001b[38;5;241m.\u001b[39m_retryable_read(func, \u001b[38;5;28mself\u001b[39m\u001b[38;5;241m.\u001b[39m_read_preference_for(s), s, operation)\n",
      "File \u001b[1;32m~\\anaconda3\\Lib\\site-packages\\pymongo\\synchronous\\mongo_client.py:1863\u001b[0m, in \u001b[0;36mMongoClient._retryable_read\u001b[1;34m(self, func, read_pref, session, operation, address, retryable, operation_id)\u001b[0m\n\u001b[0;32m   1858\u001b[0m \u001b[38;5;66;03m# Ensure that the client supports retrying on reads and there is no session in\u001b[39;00m\n\u001b[0;32m   1859\u001b[0m \u001b[38;5;66;03m# transaction, otherwise, we will not support retry behavior for this call.\u001b[39;00m\n\u001b[0;32m   1860\u001b[0m retryable \u001b[38;5;241m=\u001b[39m \u001b[38;5;28mbool\u001b[39m(\n\u001b[0;32m   1861\u001b[0m     retryable \u001b[38;5;129;01mand\u001b[39;00m \u001b[38;5;28mself\u001b[39m\u001b[38;5;241m.\u001b[39moptions\u001b[38;5;241m.\u001b[39mretry_reads \u001b[38;5;129;01mand\u001b[39;00m \u001b[38;5;129;01mnot\u001b[39;00m (session \u001b[38;5;129;01mand\u001b[39;00m session\u001b[38;5;241m.\u001b[39min_transaction)\n\u001b[0;32m   1862\u001b[0m )\n\u001b[1;32m-> 1863\u001b[0m \u001b[38;5;28;01mreturn\u001b[39;00m \u001b[38;5;28mself\u001b[39m\u001b[38;5;241m.\u001b[39m_retry_internal(\n\u001b[0;32m   1864\u001b[0m     func,\n\u001b[0;32m   1865\u001b[0m     session,\n\u001b[0;32m   1866\u001b[0m     \u001b[38;5;28;01mNone\u001b[39;00m,\n\u001b[0;32m   1867\u001b[0m     operation,\n\u001b[0;32m   1868\u001b[0m     is_read\u001b[38;5;241m=\u001b[39m\u001b[38;5;28;01mTrue\u001b[39;00m,\n\u001b[0;32m   1869\u001b[0m     address\u001b[38;5;241m=\u001b[39maddress,\n\u001b[0;32m   1870\u001b[0m     read_pref\u001b[38;5;241m=\u001b[39mread_pref,\n\u001b[0;32m   1871\u001b[0m     retryable\u001b[38;5;241m=\u001b[39mretryable,\n\u001b[0;32m   1872\u001b[0m     operation_id\u001b[38;5;241m=\u001b[39moperation_id,\n\u001b[0;32m   1873\u001b[0m )\n",
      "File \u001b[1;32m~\\anaconda3\\Lib\\site-packages\\pymongo\\_csot.py:119\u001b[0m, in \u001b[0;36mapply.<locals>.csot_wrapper\u001b[1;34m(self, *args, **kwargs)\u001b[0m\n\u001b[0;32m    117\u001b[0m         \u001b[38;5;28;01mwith\u001b[39;00m _TimeoutContext(timeout):\n\u001b[0;32m    118\u001b[0m             \u001b[38;5;28;01mreturn\u001b[39;00m func(\u001b[38;5;28mself\u001b[39m, \u001b[38;5;241m*\u001b[39margs, \u001b[38;5;241m*\u001b[39m\u001b[38;5;241m*\u001b[39mkwargs)\n\u001b[1;32m--> 119\u001b[0m \u001b[38;5;28;01mreturn\u001b[39;00m func(\u001b[38;5;28mself\u001b[39m, \u001b[38;5;241m*\u001b[39margs, \u001b[38;5;241m*\u001b[39m\u001b[38;5;241m*\u001b[39mkwargs)\n",
      "File \u001b[1;32m~\\anaconda3\\Lib\\site-packages\\pymongo\\synchronous\\mongo_client.py:1830\u001b[0m, in \u001b[0;36mMongoClient._retry_internal\u001b[1;34m(self, func, session, bulk, operation, is_read, address, read_pref, retryable, operation_id)\u001b[0m\n\u001b[0;32m   1793\u001b[0m \u001b[38;5;129m@_csot\u001b[39m\u001b[38;5;241m.\u001b[39mapply\n\u001b[0;32m   1794\u001b[0m \u001b[38;5;28;01mdef\u001b[39;00m \u001b[38;5;21m_retry_internal\u001b[39m(\n\u001b[0;32m   1795\u001b[0m     \u001b[38;5;28mself\u001b[39m,\n\u001b[1;32m   (...)\u001b[0m\n\u001b[0;32m   1804\u001b[0m     operation_id: Optional[\u001b[38;5;28mint\u001b[39m] \u001b[38;5;241m=\u001b[39m \u001b[38;5;28;01mNone\u001b[39;00m,\n\u001b[0;32m   1805\u001b[0m ) \u001b[38;5;241m-\u001b[39m\u001b[38;5;241m>\u001b[39m T:\n\u001b[0;32m   1806\u001b[0m \u001b[38;5;250m    \u001b[39m\u001b[38;5;124;03m\"\"\"Internal retryable helper for all client transactions.\u001b[39;00m\n\u001b[0;32m   1807\u001b[0m \n\u001b[0;32m   1808\u001b[0m \u001b[38;5;124;03m    :param func: Callback function we want to retry\u001b[39;00m\n\u001b[1;32m   (...)\u001b[0m\n\u001b[0;32m   1817\u001b[0m \u001b[38;5;124;03m    :return: Output of the calling func()\u001b[39;00m\n\u001b[0;32m   1818\u001b[0m \u001b[38;5;124;03m    \"\"\"\u001b[39;00m\n\u001b[0;32m   1819\u001b[0m     \u001b[38;5;28;01mreturn\u001b[39;00m _ClientConnectionRetryable(\n\u001b[0;32m   1820\u001b[0m         mongo_client\u001b[38;5;241m=\u001b[39m\u001b[38;5;28mself\u001b[39m,\n\u001b[0;32m   1821\u001b[0m         func\u001b[38;5;241m=\u001b[39mfunc,\n\u001b[0;32m   1822\u001b[0m         bulk\u001b[38;5;241m=\u001b[39mbulk,\n\u001b[0;32m   1823\u001b[0m         operation\u001b[38;5;241m=\u001b[39moperation,\n\u001b[0;32m   1824\u001b[0m         is_read\u001b[38;5;241m=\u001b[39mis_read,\n\u001b[0;32m   1825\u001b[0m         session\u001b[38;5;241m=\u001b[39msession,\n\u001b[0;32m   1826\u001b[0m         read_pref\u001b[38;5;241m=\u001b[39mread_pref,\n\u001b[0;32m   1827\u001b[0m         address\u001b[38;5;241m=\u001b[39maddress,\n\u001b[0;32m   1828\u001b[0m         retryable\u001b[38;5;241m=\u001b[39mretryable,\n\u001b[0;32m   1829\u001b[0m         operation_id\u001b[38;5;241m=\u001b[39moperation_id,\n\u001b[1;32m-> 1830\u001b[0m     )\u001b[38;5;241m.\u001b[39mrun()\n",
      "File \u001b[1;32m~\\anaconda3\\Lib\\site-packages\\pymongo\\synchronous\\mongo_client.py:2554\u001b[0m, in \u001b[0;36m_ClientConnectionRetryable.run\u001b[1;34m(self)\u001b[0m\n\u001b[0;32m   2552\u001b[0m \u001b[38;5;28mself\u001b[39m\u001b[38;5;241m.\u001b[39m_check_last_error(check_csot\u001b[38;5;241m=\u001b[39m\u001b[38;5;28;01mTrue\u001b[39;00m)\n\u001b[0;32m   2553\u001b[0m \u001b[38;5;28;01mtry\u001b[39;00m:\n\u001b[1;32m-> 2554\u001b[0m     \u001b[38;5;28;01mreturn\u001b[39;00m \u001b[38;5;28mself\u001b[39m\u001b[38;5;241m.\u001b[39m_read() \u001b[38;5;28;01mif\u001b[39;00m \u001b[38;5;28mself\u001b[39m\u001b[38;5;241m.\u001b[39m_is_read \u001b[38;5;28;01melse\u001b[39;00m \u001b[38;5;28mself\u001b[39m\u001b[38;5;241m.\u001b[39m_write()\n\u001b[0;32m   2555\u001b[0m \u001b[38;5;28;01mexcept\u001b[39;00m ServerSelectionTimeoutError:\n\u001b[0;32m   2556\u001b[0m     \u001b[38;5;66;03m# The application may think the write was never attempted\u001b[39;00m\n\u001b[0;32m   2557\u001b[0m     \u001b[38;5;66;03m# if we raise ServerSelectionTimeoutError on the retry\u001b[39;00m\n\u001b[0;32m   2558\u001b[0m     \u001b[38;5;66;03m# attempt. Raise the original exception instead.\u001b[39;00m\n\u001b[0;32m   2559\u001b[0m     \u001b[38;5;28mself\u001b[39m\u001b[38;5;241m.\u001b[39m_check_last_error()\n",
      "File \u001b[1;32m~\\anaconda3\\Lib\\site-packages\\pymongo\\synchronous\\mongo_client.py:2689\u001b[0m, in \u001b[0;36m_ClientConnectionRetryable._read\u001b[1;34m(self)\u001b[0m\n\u001b[0;32m   2684\u001b[0m \u001b[38;5;28;01mdef\u001b[39;00m \u001b[38;5;21m_read\u001b[39m(\u001b[38;5;28mself\u001b[39m) \u001b[38;5;241m-\u001b[39m\u001b[38;5;241m>\u001b[39m T:\n\u001b[0;32m   2685\u001b[0m \u001b[38;5;250m    \u001b[39m\u001b[38;5;124;03m\"\"\"Wrapper method for read-type retryable client executions\u001b[39;00m\n\u001b[0;32m   2686\u001b[0m \n\u001b[0;32m   2687\u001b[0m \u001b[38;5;124;03m    :return: Output for func()'s call\u001b[39;00m\n\u001b[0;32m   2688\u001b[0m \u001b[38;5;124;03m    \"\"\"\u001b[39;00m\n\u001b[1;32m-> 2689\u001b[0m     \u001b[38;5;28mself\u001b[39m\u001b[38;5;241m.\u001b[39m_server \u001b[38;5;241m=\u001b[39m \u001b[38;5;28mself\u001b[39m\u001b[38;5;241m.\u001b[39m_get_server()\n\u001b[0;32m   2690\u001b[0m     \u001b[38;5;28;01massert\u001b[39;00m \u001b[38;5;28mself\u001b[39m\u001b[38;5;241m.\u001b[39m_read_pref \u001b[38;5;129;01mis\u001b[39;00m \u001b[38;5;129;01mnot\u001b[39;00m \u001b[38;5;28;01mNone\u001b[39;00m, \u001b[38;5;124m\"\u001b[39m\u001b[38;5;124mRead Preference required on read calls\u001b[39m\u001b[38;5;124m\"\u001b[39m\n\u001b[0;32m   2691\u001b[0m     \u001b[38;5;28;01mwith\u001b[39;00m \u001b[38;5;28mself\u001b[39m\u001b[38;5;241m.\u001b[39m_client\u001b[38;5;241m.\u001b[39m_conn_from_server(\u001b[38;5;28mself\u001b[39m\u001b[38;5;241m.\u001b[39m_read_pref, \u001b[38;5;28mself\u001b[39m\u001b[38;5;241m.\u001b[39m_server, \u001b[38;5;28mself\u001b[39m\u001b[38;5;241m.\u001b[39m_session) \u001b[38;5;28;01mas\u001b[39;00m (\n\u001b[0;32m   2692\u001b[0m         conn,\n\u001b[0;32m   2693\u001b[0m         read_pref,\n\u001b[0;32m   2694\u001b[0m     ):\n",
      "File \u001b[1;32m~\\anaconda3\\Lib\\site-packages\\pymongo\\synchronous\\mongo_client.py:2645\u001b[0m, in \u001b[0;36m_ClientConnectionRetryable._get_server\u001b[1;34m(self)\u001b[0m\n\u001b[0;32m   2640\u001b[0m \u001b[38;5;28;01mdef\u001b[39;00m \u001b[38;5;21m_get_server\u001b[39m(\u001b[38;5;28mself\u001b[39m) \u001b[38;5;241m-\u001b[39m\u001b[38;5;241m>\u001b[39m Server:\n\u001b[0;32m   2641\u001b[0m \u001b[38;5;250m    \u001b[39m\u001b[38;5;124;03m\"\"\"Retrieves a server object based on provided object context\u001b[39;00m\n\u001b[0;32m   2642\u001b[0m \n\u001b[0;32m   2643\u001b[0m \u001b[38;5;124;03m    :return: Abstraction to connect to server\u001b[39;00m\n\u001b[0;32m   2644\u001b[0m \u001b[38;5;124;03m    \"\"\"\u001b[39;00m\n\u001b[1;32m-> 2645\u001b[0m     \u001b[38;5;28;01mreturn\u001b[39;00m \u001b[38;5;28mself\u001b[39m\u001b[38;5;241m.\u001b[39m_client\u001b[38;5;241m.\u001b[39m_select_server(\n\u001b[0;32m   2646\u001b[0m         \u001b[38;5;28mself\u001b[39m\u001b[38;5;241m.\u001b[39m_server_selector,\n\u001b[0;32m   2647\u001b[0m         \u001b[38;5;28mself\u001b[39m\u001b[38;5;241m.\u001b[39m_session,\n\u001b[0;32m   2648\u001b[0m         \u001b[38;5;28mself\u001b[39m\u001b[38;5;241m.\u001b[39m_operation,\n\u001b[0;32m   2649\u001b[0m         address\u001b[38;5;241m=\u001b[39m\u001b[38;5;28mself\u001b[39m\u001b[38;5;241m.\u001b[39m_address,\n\u001b[0;32m   2650\u001b[0m         deprioritized_servers\u001b[38;5;241m=\u001b[39m\u001b[38;5;28mself\u001b[39m\u001b[38;5;241m.\u001b[39m_deprioritized_servers,\n\u001b[0;32m   2651\u001b[0m         operation_id\u001b[38;5;241m=\u001b[39m\u001b[38;5;28mself\u001b[39m\u001b[38;5;241m.\u001b[39m_operation_id,\n\u001b[0;32m   2652\u001b[0m     )\n",
      "File \u001b[1;32m~\\anaconda3\\Lib\\site-packages\\pymongo\\synchronous\\mongo_client.py:1649\u001b[0m, in \u001b[0;36mMongoClient._select_server\u001b[1;34m(self, server_selector, session, operation, address, deprioritized_servers, operation_id)\u001b[0m\n\u001b[0;32m   1647\u001b[0m             \u001b[38;5;28;01mraise\u001b[39;00m AutoReconnect(\u001b[38;5;124m\"\u001b[39m\u001b[38;5;124mserver \u001b[39m\u001b[38;5;132;01m%s\u001b[39;00m\u001b[38;5;124m:\u001b[39m\u001b[38;5;132;01m%s\u001b[39;00m\u001b[38;5;124m no longer available\u001b[39m\u001b[38;5;124m\"\u001b[39m \u001b[38;5;241m%\u001b[39m address)  \u001b[38;5;66;03m# noqa: UP031\u001b[39;00m\n\u001b[0;32m   1648\u001b[0m     \u001b[38;5;28;01melse\u001b[39;00m:\n\u001b[1;32m-> 1649\u001b[0m         server \u001b[38;5;241m=\u001b[39m topology\u001b[38;5;241m.\u001b[39mselect_server(\n\u001b[0;32m   1650\u001b[0m             server_selector,\n\u001b[0;32m   1651\u001b[0m             operation,\n\u001b[0;32m   1652\u001b[0m             deprioritized_servers\u001b[38;5;241m=\u001b[39mdeprioritized_servers,\n\u001b[0;32m   1653\u001b[0m             operation_id\u001b[38;5;241m=\u001b[39moperation_id,\n\u001b[0;32m   1654\u001b[0m         )\n\u001b[0;32m   1655\u001b[0m     \u001b[38;5;28;01mreturn\u001b[39;00m server\n\u001b[0;32m   1656\u001b[0m \u001b[38;5;28;01mexcept\u001b[39;00m PyMongoError \u001b[38;5;28;01mas\u001b[39;00m exc:\n\u001b[0;32m   1657\u001b[0m     \u001b[38;5;66;03m# Server selection errors in a transaction are transient.\u001b[39;00m\n",
      "File \u001b[1;32m~\\anaconda3\\Lib\\site-packages\\pymongo\\synchronous\\topology.py:398\u001b[0m, in \u001b[0;36mTopology.select_server\u001b[1;34m(self, selector, operation, server_selection_timeout, address, deprioritized_servers, operation_id)\u001b[0m\n\u001b[0;32m    388\u001b[0m \u001b[38;5;28;01mdef\u001b[39;00m \u001b[38;5;21mselect_server\u001b[39m(\n\u001b[0;32m    389\u001b[0m     \u001b[38;5;28mself\u001b[39m,\n\u001b[0;32m    390\u001b[0m     selector: Callable[[Selection], Selection],\n\u001b[1;32m   (...)\u001b[0m\n\u001b[0;32m    395\u001b[0m     operation_id: Optional[\u001b[38;5;28mint\u001b[39m] \u001b[38;5;241m=\u001b[39m \u001b[38;5;28;01mNone\u001b[39;00m,\n\u001b[0;32m    396\u001b[0m ) \u001b[38;5;241m-\u001b[39m\u001b[38;5;241m>\u001b[39m Server:\n\u001b[0;32m    397\u001b[0m \u001b[38;5;250m    \u001b[39m\u001b[38;5;124;03m\"\"\"Like select_servers, but choose a random server if several match.\"\"\"\u001b[39;00m\n\u001b[1;32m--> 398\u001b[0m     server \u001b[38;5;241m=\u001b[39m \u001b[38;5;28mself\u001b[39m\u001b[38;5;241m.\u001b[39m_select_server(\n\u001b[0;32m    399\u001b[0m         selector,\n\u001b[0;32m    400\u001b[0m         operation,\n\u001b[0;32m    401\u001b[0m         server_selection_timeout,\n\u001b[0;32m    402\u001b[0m         address,\n\u001b[0;32m    403\u001b[0m         deprioritized_servers,\n\u001b[0;32m    404\u001b[0m         operation_id\u001b[38;5;241m=\u001b[39moperation_id,\n\u001b[0;32m    405\u001b[0m     )\n\u001b[0;32m    406\u001b[0m     \u001b[38;5;28;01mif\u001b[39;00m _csot\u001b[38;5;241m.\u001b[39mget_timeout():\n\u001b[0;32m    407\u001b[0m         _csot\u001b[38;5;241m.\u001b[39mset_rtt(server\u001b[38;5;241m.\u001b[39mdescription\u001b[38;5;241m.\u001b[39mmin_round_trip_time)\n",
      "File \u001b[1;32m~\\anaconda3\\Lib\\site-packages\\pymongo\\synchronous\\topology.py:376\u001b[0m, in \u001b[0;36mTopology._select_server\u001b[1;34m(self, selector, operation, server_selection_timeout, address, deprioritized_servers, operation_id)\u001b[0m\n\u001b[0;32m    367\u001b[0m \u001b[38;5;28;01mdef\u001b[39;00m \u001b[38;5;21m_select_server\u001b[39m(\n\u001b[0;32m    368\u001b[0m     \u001b[38;5;28mself\u001b[39m,\n\u001b[0;32m    369\u001b[0m     selector: Callable[[Selection], Selection],\n\u001b[1;32m   (...)\u001b[0m\n\u001b[0;32m    374\u001b[0m     operation_id: Optional[\u001b[38;5;28mint\u001b[39m] \u001b[38;5;241m=\u001b[39m \u001b[38;5;28;01mNone\u001b[39;00m,\n\u001b[0;32m    375\u001b[0m ) \u001b[38;5;241m-\u001b[39m\u001b[38;5;241m>\u001b[39m Server:\n\u001b[1;32m--> 376\u001b[0m     servers \u001b[38;5;241m=\u001b[39m \u001b[38;5;28mself\u001b[39m\u001b[38;5;241m.\u001b[39mselect_servers(\n\u001b[0;32m    377\u001b[0m         selector, operation, server_selection_timeout, address, operation_id\n\u001b[0;32m    378\u001b[0m     )\n\u001b[0;32m    379\u001b[0m     servers \u001b[38;5;241m=\u001b[39m _filter_servers(servers, deprioritized_servers)\n\u001b[0;32m    380\u001b[0m     \u001b[38;5;28;01mif\u001b[39;00m \u001b[38;5;28mlen\u001b[39m(servers) \u001b[38;5;241m==\u001b[39m \u001b[38;5;241m1\u001b[39m:\n",
      "File \u001b[1;32m~\\anaconda3\\Lib\\site-packages\\pymongo\\synchronous\\topology.py:283\u001b[0m, in \u001b[0;36mTopology.select_servers\u001b[1;34m(self, selector, operation, server_selection_timeout, address, operation_id)\u001b[0m\n\u001b[0;32m    280\u001b[0m     server_timeout \u001b[38;5;241m=\u001b[39m server_selection_timeout\n\u001b[0;32m    282\u001b[0m \u001b[38;5;28;01mwith\u001b[39;00m \u001b[38;5;28mself\u001b[39m\u001b[38;5;241m.\u001b[39m_lock:\n\u001b[1;32m--> 283\u001b[0m     server_descriptions \u001b[38;5;241m=\u001b[39m \u001b[38;5;28mself\u001b[39m\u001b[38;5;241m.\u001b[39m_select_servers_loop(\n\u001b[0;32m    284\u001b[0m         selector, server_timeout, operation, operation_id, address\n\u001b[0;32m    285\u001b[0m     )\n\u001b[0;32m    287\u001b[0m     \u001b[38;5;28;01mreturn\u001b[39;00m [\n\u001b[0;32m    288\u001b[0m         cast(Server, \u001b[38;5;28mself\u001b[39m\u001b[38;5;241m.\u001b[39mget_server_by_address(sd\u001b[38;5;241m.\u001b[39maddress)) \u001b[38;5;28;01mfor\u001b[39;00m sd \u001b[38;5;129;01min\u001b[39;00m server_descriptions\n\u001b[0;32m    289\u001b[0m     ]\n",
      "File \u001b[1;32m~\\anaconda3\\Lib\\site-packages\\pymongo\\synchronous\\topology.py:333\u001b[0m, in \u001b[0;36mTopology._select_servers_loop\u001b[1;34m(self, selector, timeout, operation, operation_id, address)\u001b[0m\n\u001b[0;32m    322\u001b[0m     \u001b[38;5;28;01mif\u001b[39;00m _SERVER_SELECTION_LOGGER\u001b[38;5;241m.\u001b[39misEnabledFor(logging\u001b[38;5;241m.\u001b[39mDEBUG):\n\u001b[0;32m    323\u001b[0m         _debug_log(\n\u001b[0;32m    324\u001b[0m             _SERVER_SELECTION_LOGGER,\n\u001b[0;32m    325\u001b[0m             message\u001b[38;5;241m=\u001b[39m_ServerSelectionStatusMessage\u001b[38;5;241m.\u001b[39mFAILED,\n\u001b[1;32m   (...)\u001b[0m\n\u001b[0;32m    331\u001b[0m             failure\u001b[38;5;241m=\u001b[39m\u001b[38;5;28mself\u001b[39m\u001b[38;5;241m.\u001b[39m_error_message(selector),\n\u001b[0;32m    332\u001b[0m         )\n\u001b[1;32m--> 333\u001b[0m     \u001b[38;5;28;01mraise\u001b[39;00m ServerSelectionTimeoutError(\n\u001b[0;32m    334\u001b[0m         \u001b[38;5;124mf\u001b[39m\u001b[38;5;124m\"\u001b[39m\u001b[38;5;132;01m{\u001b[39;00m\u001b[38;5;28mself\u001b[39m\u001b[38;5;241m.\u001b[39m_error_message(selector)\u001b[38;5;132;01m}\u001b[39;00m\u001b[38;5;124m, Timeout: \u001b[39m\u001b[38;5;132;01m{\u001b[39;00mtimeout\u001b[38;5;132;01m}\u001b[39;00m\u001b[38;5;124ms, Topology Description: \u001b[39m\u001b[38;5;132;01m{\u001b[39;00m\u001b[38;5;28mself\u001b[39m\u001b[38;5;241m.\u001b[39mdescription\u001b[38;5;132;01m!r}\u001b[39;00m\u001b[38;5;124m\"\u001b[39m\n\u001b[0;32m    335\u001b[0m     )\n\u001b[0;32m    337\u001b[0m \u001b[38;5;28;01mif\u001b[39;00m \u001b[38;5;129;01mnot\u001b[39;00m logged_waiting:\n\u001b[0;32m    338\u001b[0m     _debug_log(\n\u001b[0;32m    339\u001b[0m         _SERVER_SELECTION_LOGGER,\n\u001b[0;32m    340\u001b[0m         message\u001b[38;5;241m=\u001b[39m_ServerSelectionStatusMessage\u001b[38;5;241m.\u001b[39mWAITING,\n\u001b[1;32m   (...)\u001b[0m\n\u001b[0;32m    346\u001b[0m         remainingTimeMS\u001b[38;5;241m=\u001b[39m\u001b[38;5;28mint\u001b[39m(end_time \u001b[38;5;241m-\u001b[39m time\u001b[38;5;241m.\u001b[39mmonotonic()),\n\u001b[0;32m    347\u001b[0m     )\n",
      "\u001b[1;31mServerSelectionTimeoutError\u001b[0m: localhost:27017: [WinError 10061] No connection could be made because the target machine actively refused it (configured timeouts: socketTimeoutMS: 20000.0ms, connectTimeoutMS: 20000.0ms), Timeout: 30s, Topology Description: <TopologyDescription id: 67165000c5400d1fc6822460, topology_type: Unknown, servers: [<ServerDescription ('localhost', 27017) server_type: Unknown, rtt: None, error=AutoReconnect('localhost:27017: [WinError 10061] No connection could be made because the target machine actively refused it (configured timeouts: socketTimeoutMS: 20000.0ms, connectTimeoutMS: 20000.0ms)')>]>"
     ]
    }
   ],
   "source": [
    "print(\"Employee count:\", getEmpCount(v_nameCollection))"
   ]
  },
  {
   "cell_type": "code",
   "execution_count": 182,
   "id": "b7bd9eed-32b4-4ca9-99a6-1fc82cfa3624",
   "metadata": {},
   "outputs": [
    {
     "name": "stdout",
     "output_type": "stream",
     "text": [
      "Employee count in Name Collection: 1259\n",
      "Search Department IT in Name Collection:      Employee ID        Full Name              Job Title Department  \\\n",
      "2         E02004       Cameron Lo  Network Administrator         IT   \n",
      "3         E02005  Harper Castillo   IT Systems Architect         IT   \n",
      "5         E02007          Ezra Vu  Network Administrator         IT   \n",
      "8         E02010    Gianna Holmes  System Administrator          IT   \n",
      "10        E02012     Jameson Pena        Systems Analyst         IT   \n",
      "...          ...              ...                    ...        ...   \n",
      "1253      E02246     Landon Reyes               Director         IT   \n",
      "1255      E02248  Lucas Alexander               Director         IT   \n",
      "1258      E02251  Genesis Herrera                Manager         IT   \n",
      "1259      E02252   Olivia Vazquez       Network Engineer         IT   \n",
      "1260      E02253       Leilani Ng        Systems Analyst         IT   \n",
      "\n",
      "               Business Unit  Gender  Ethnicity   Age   Hire Date  \\\n",
      "2     Research & Development    Male      Asian  34.0   3/24/2019   \n",
      "3                  Corporate  Female     Latino  39.0    4/7/2018   \n",
      "5              Manufacturing    Male      Asian  62.0   4/22/2004   \n",
      "8              Manufacturing  Female  Caucasian  38.0    9/9/2011   \n",
      "10             Manufacturing    Male     Latino  49.0  10/12/2003   \n",
      "...                      ...     ...        ...   ...         ...   \n",
      "1253  Research & Development    Male     Latino  44.0   8/23/2014   \n",
      "1255           Manufacturing    Male      Black  41.0   9/20/2013   \n",
      "1258  Research & Development  Female     Latino  34.0   10/3/2015   \n",
      "1259      Specialty Products  Female     Latino  53.0   4/13/2020   \n",
      "1260               Corporate  Female      Asian  48.0   9/19/2011   \n",
      "\n",
      "     Annual Salary Bonus %        Country       City   Exit Date  \n",
      "2         $83,576       0%          China   Shanghai         NaN  \n",
      "3         $98,062       0%  United States    Seattle         NaN  \n",
      "5         $66,227       0%  United States    Phoenix   2/14/2014  \n",
      "8         $97,630       0%  United States    Seattle         NaN  \n",
      "10        $40,499       0%  United States      Miami         NaN  \n",
      "...            ...     ...            ...        ...         ...  \n",
      "1253     $171,823      27%  United States   Columbus         NaN  \n",
      "1255     $192,944      22%  United States      Miami         NaN  \n",
      "1258     $126,898      10%         Brazil     Manaus         NaN  \n",
      "1259      $93,053       0%         Brazil  Sao Paulo         NaN  \n",
      "1260      $50,513       0%  United States    Seattle  10/30/2019  \n",
      "\n",
      "[347 rows x 14 columns]\n",
      "Search Gender Male in Name Collection:      Employee ID        Full Name              Job Title   Department  \\\n",
      "0         E02002           Kai Le      Controls Engineer  Engineering   \n",
      "1         E02003     Robert Patel                Analyst        Sales   \n",
      "2         E02004       Cameron Lo  Network Administrator           IT   \n",
      "5         E02007          Ezra Vu  Network Administrator           IT   \n",
      "7         E02009      Miles Chang             Analyst II      Finance   \n",
      "...          ...              ...                    ...          ...   \n",
      "1251      E02244    Connor Howard        Systems Analyst           IT   \n",
      "1253      E02246     Landon Reyes               Director           IT   \n",
      "1254      E02247          Noah Ma         Vice President   Accounting   \n",
      "1255      E02248  Lucas Alexander               Director           IT   \n",
      "1256      E02249         Henry Vo      Controls Engineer  Engineering   \n",
      "\n",
      "               Business Unit Gender  Ethnicity   Age   Hire Date  \\\n",
      "0              Manufacturing   Male      Asian  47.0    2/5/2022   \n",
      "1                  Corporate   Male      Asian  58.0  10/23/2013   \n",
      "2     Research & Development   Male      Asian  34.0   3/24/2019   \n",
      "5              Manufacturing   Male      Asian  62.0   4/22/2004   \n",
      "7                  Corporate   Male      Asian  62.0   2/19/1999   \n",
      "...                      ...    ...        ...   ...         ...   \n",
      "1251      Specialty Products   Male  Caucasian  42.0   3/15/2021   \n",
      "1253  Research & Development   Male     Latino  44.0   8/23/2014   \n",
      "1254           Manufacturing   Male      Asian  28.0   11/6/2018   \n",
      "1255           Manufacturing   Male      Black  41.0   9/20/2013   \n",
      "1256           Manufacturing   Male      Asian  60.0   9/13/1996   \n",
      "\n",
      "     Annual Salary Bonus %        Country      City  Exit Date  \n",
      "0         $92,368       0%  United States  Columbus        NaN  \n",
      "1         $45,703       0%  United States   Chicago        NaN  \n",
      "2         $83,576       0%          China  Shanghai        NaN  \n",
      "5         $66,227       0%  United States   Phoenix  2/14/2014  \n",
      "7         $69,674       0%          China   Chengdu        NaN  \n",
      "...            ...     ...            ...       ...        ...  \n",
      "1251      $44,265       0%  United States    Austin  6/27/2022  \n",
      "1253     $171,823      27%  United States  Columbus        NaN  \n",
      "1254     $201,013      31%  United States   Phoenix        NaN  \n",
      "1255     $192,944      22%  United States     Miami        NaN  \n",
      "1256      $81,699       0%          China   Beijing        NaN  \n",
      "\n",
      "[581 rows x 14 columns]\n",
      "Search Department IT in Phone Collection:      Employee ID        Full Name              Job Title Department  \\\n",
      "2         E02004       Cameron Lo  Network Administrator         IT   \n",
      "3         E02005  Harper Castillo   IT Systems Architect         IT   \n",
      "5         E02007          Ezra Vu  Network Administrator         IT   \n",
      "8         E02010    Gianna Holmes  System Administrator          IT   \n",
      "10        E02012     Jameson Pena        Systems Analyst         IT   \n",
      "...          ...              ...                    ...        ...   \n",
      "1253      E02246     Landon Reyes               Director         IT   \n",
      "1255      E02248  Lucas Alexander               Director         IT   \n",
      "1258      E02251  Genesis Herrera                Manager         IT   \n",
      "1259      E02252   Olivia Vazquez       Network Engineer         IT   \n",
      "1260      E02253       Leilani Ng        Systems Analyst         IT   \n",
      "\n",
      "               Business Unit  Gender  Ethnicity   Age   Hire Date  \\\n",
      "2     Research & Development    Male      Asian  34.0   3/24/2019   \n",
      "3                  Corporate  Female     Latino  39.0    4/7/2018   \n",
      "5              Manufacturing    Male      Asian  62.0   4/22/2004   \n",
      "8              Manufacturing  Female  Caucasian  38.0    9/9/2011   \n",
      "10             Manufacturing    Male     Latino  49.0  10/12/2003   \n",
      "...                      ...     ...        ...   ...         ...   \n",
      "1253  Research & Development    Male     Latino  44.0   8/23/2014   \n",
      "1255           Manufacturing    Male      Black  41.0   9/20/2013   \n",
      "1258  Research & Development  Female     Latino  34.0   10/3/2015   \n",
      "1259      Specialty Products  Female     Latino  53.0   4/13/2020   \n",
      "1260               Corporate  Female      Asian  48.0   9/19/2011   \n",
      "\n",
      "     Annual Salary Bonus %        Country       City   Exit Date  \n",
      "2         $83,576       0%          China   Shanghai         NaN  \n",
      "3         $98,062       0%  United States    Seattle         NaN  \n",
      "5         $66,227       0%  United States    Phoenix   2/14/2014  \n",
      "8         $97,630       0%  United States    Seattle         NaN  \n",
      "10        $40,499       0%  United States      Miami         NaN  \n",
      "...            ...     ...            ...        ...         ...  \n",
      "1253     $171,823      27%  United States   Columbus         NaN  \n",
      "1255     $192,944      22%  United States      Miami         NaN  \n",
      "1258     $126,898      10%         Brazil     Manaus         NaN  \n",
      "1259      $93,053       0%         Brazil  Sao Paulo         NaN  \n",
      "1260      $50,513       0%  United States    Seattle  10/30/2019  \n",
      "\n",
      "[347 rows x 14 columns]\n",
      "Department Facet in Name Collection: Department\n",
      "IT                 347\n",
      "Sales              188\n",
      "Engineering        159\n",
      "Marketing          136\n",
      "Accounting         132\n",
      "Finance            129\n",
      "Human Resources    124\n",
      "Name: count, dtype: int64\n",
      "Department Facet in Phone Collection: Department\n",
      "IT                 347\n",
      "Sales              188\n",
      "Engineering        159\n",
      "Marketing          136\n",
      "Accounting         132\n",
      "Finance            129\n",
      "Human Resources    124\n",
      "Name: count, dtype: int64\n"
     ]
    }
   ],
   "source": [
    "import pandas as pd\n",
    "\n",
    "# Load your employee data\n",
    "employee_data = pd.read_csv(\"C:\\\\Employee Sample Data 1.csv\", encoding='ISO-8859-1')\n",
    "\n",
    "# Create a class to handle employee collections\n",
    "class EmployeeCollection:\n",
    "    def __init__(self):\n",
    "        self.collections = {}\n",
    "        self.original_data = {}\n",
    "\n",
    "    def createCollection(self, p_collection_name):\n",
    "        # Initialize an empty collection\n",
    "        self.collections[p_collection_name] = pd.DataFrame()\n",
    "\n",
    "    def indexData(self, p_collection_name, p_exclude_column):\n",
    "        # Backup original data for future searches\n",
    "        if p_collection_name not in self.collections:\n",
    "            print(f\"Collection {p_collection_name} does not exist.\")\n",
    "            return\n",
    "        self.original_data[p_collection_name] = employee_data\n",
    "        # Exclude the specified column and index the rest\n",
    "        self.collections[p_collection_name] = employee_data.drop(columns=[p_exclude_column])\n",
    "\n",
    "    def searchByColumn(self, p_collection_name, p_column_name, p_column_value):\n",
    "        # Search in the backup data for the specified column and value\n",
    "        if p_collection_name in self.original_data:\n",
    "            collection = self.original_data[p_collection_name]\n",
    "            return collection[collection[p_column_name] == p_column_value]\n",
    "        else:\n",
    "            print(f\"Collection {p_collection_name} does not exist.\")\n",
    "            return pd.DataFrame()\n",
    "\n",
    "    def getEmpCount(self, p_collection_name):\n",
    "        # Return employee count in the collection\n",
    "        if p_collection_name in self.collections:\n",
    "            return len(self.collections[p_collection_name])\n",
    "        else:\n",
    "            print(f\"Collection {p_collection_name} does not exist.\")\n",
    "            return 0\n",
    "\n",
    "    def delEmpById(self, p_collection_name, p_employee_id):\n",
    "        # Delete employee with the given ID\n",
    "        if p_collection_name in self.collections:\n",
    "            self.collections[p_collection_name] = self.collections[p_collection_name][self.collections[p_collection_name]['Employee ID'] != p_employee_id]\n",
    "        else:\n",
    "            print(f\"Collection {p_collection_name} does not exist.\")\n",
    "\n",
    "    def getDepFacet(self, p_collection_name):\n",
    "        # Return department-wise employee count\n",
    "        if p_collection_name in self.original_data:\n",
    "            return self.original_data[p_collection_name]['Department'].value_counts()\n",
    "        else:\n",
    "            print(f\"Collection {p_collection_name} does not exist.\")\n",
    "            return pd.Series()\n",
    "\n",
    "# Instantiate the class\n",
    "employee_collection = EmployeeCollection()\n",
    "\n",
    "# Define collections as per the instruction\n",
    "v_nameCollection = 'mahila'\n",
    "v_phoneCollection = 'Hash_1234'\n",
    "\n",
    "# Execute the operations in the given order\n",
    "employee_collection.createCollection(v_nameCollection)\n",
    "employee_collection.createCollection(v_phoneCollection)\n",
    "\n",
    "# Index data, excluding certain columns\n",
    "employee_collection.indexData(v_nameCollection, 'Department')\n",
    "employee_collection.indexData(v_phoneCollection, 'Gender')\n",
    "\n",
    "# Delete employee by ID\n",
    "employee_collection.delEmpById(v_nameCollection, 'E02003')\n",
    "\n",
    "# Get employee count after deletion\n",
    "emp_count_name = employee_collection.getEmpCount(v_nameCollection)\n",
    "\n",
    "# Search in the collection\n",
    "search_dep_IT = employee_collection.searchByColumn(v_nameCollection, 'Department', 'IT')\n",
    "search_gender_Male = employee_collection.searchByColumn(v_nameCollection, 'Gender', 'Male')\n",
    "search_dep_IT_phone = employee_collection.searchByColumn(v_phoneCollection, 'Department', 'IT')\n",
    "\n",
    "# Get department facets\n",
    "dep_facet_name = employee_collection.getDepFacet(v_nameCollection)\n",
    "dep_facet_phone = employee_collection.getDepFacet(v_phoneCollection)\n",
    "\n",
    "# Display results\n",
    "print(\"Employee count in Name Collection:\", emp_count_name)\n",
    "print(\"Search Department IT in Name Collection:\", search_dep_IT)\n",
    "print(\"Search Gender Male in Name Collection:\", search_gender_Male)\n",
    "print(\"Search Department IT in Phone Collection:\", search_dep_IT_phone)\n",
    "print(\"Department Facet in Name Collection:\", dep_facet_name)\n",
    "print(\"Department Facet in Phone Collection:\", dep_facet_phone)\n"
   ]
  },
  {
   "cell_type": "code",
   "execution_count": 184,
   "id": "c63cafa1-a508-4332-9659-60241e66e08c",
   "metadata": {},
   "outputs": [],
   "source": [
    "v_nameCollection = 'Robert Patel'\n",
    "v_phoneCollection = 'Hash_1234'"
   ]
  },
  {
   "cell_type": "code",
   "execution_count": 186,
   "id": "2784e679-384b-4c38-a70d-47b82083a625",
   "metadata": {},
   "outputs": [],
   "source": [
    "employee_collection.createCollection(v_nameCollection)\n",
    "employee_collection.createCollection(v_phoneCollection)"
   ]
  },
  {
   "cell_type": "code",
   "execution_count": 188,
   "id": "0d4a4768-bdfd-4c90-804f-03776849d817",
   "metadata": {},
   "outputs": [],
   "source": [
    "employee_collection.indexData(v_nameCollection, 'Department')\n",
    "employee_collection.indexData(v_phoneCollection, 'Gender')"
   ]
  },
  {
   "cell_type": "code",
   "execution_count": 190,
   "id": "6e795623-ef9b-4323-b1d4-f42316fc7498",
   "metadata": {},
   "outputs": [
    {
     "name": "stdout",
     "output_type": "stream",
     "text": [
      "Employee count in Name Collection: 1259\n"
     ]
    }
   ],
   "source": [
    "print(\"Employee count in Name Collection:\", emp_count_name)"
   ]
  },
  {
   "cell_type": "code",
   "execution_count": 192,
   "id": "42605e83-6354-462a-9f94-989d67f04c3e",
   "metadata": {},
   "outputs": [],
   "source": [
    "employee_collection.delEmpById(v_nameCollection, 'E02003')\n",
    "\n",
    "# Get employee count after deletion\n",
    "emp_count_name = employee_collection.getEmpCount(v_nameCollection)\n"
   ]
  },
  {
   "cell_type": "code",
   "execution_count": 194,
   "id": "0e0472ee-74bd-46fb-a120-a45fb61a2823",
   "metadata": {},
   "outputs": [],
   "source": [
    "search_dep_IT = employee_collection.searchByColumn(v_nameCollection, 'Department', 'IT')\n",
    "search_gender_Male = employee_collection.searchByColumn(v_nameCollection, 'Gender', 'Male')\n",
    "search_dep_IT_phone = employee_collection.searchByColumn(v_phoneCollection, 'Department', 'IT')"
   ]
  },
  {
   "cell_type": "code",
   "execution_count": 196,
   "id": "88384395-4f23-4bae-aa68-12268285663d",
   "metadata": {},
   "outputs": [
    {
     "name": "stdout",
     "output_type": "stream",
     "text": [
      "Search Department IT in Name Collection:      Employee ID        Full Name              Job Title Department  \\\n",
      "2         E02004       Cameron Lo  Network Administrator         IT   \n",
      "3         E02005  Harper Castillo   IT Systems Architect         IT   \n",
      "5         E02007          Ezra Vu  Network Administrator         IT   \n",
      "8         E02010    Gianna Holmes  System Administrator          IT   \n",
      "10        E02012     Jameson Pena        Systems Analyst         IT   \n",
      "...          ...              ...                    ...        ...   \n",
      "1253      E02246     Landon Reyes               Director         IT   \n",
      "1255      E02248  Lucas Alexander               Director         IT   \n",
      "1258      E02251  Genesis Herrera                Manager         IT   \n",
      "1259      E02252   Olivia Vazquez       Network Engineer         IT   \n",
      "1260      E02253       Leilani Ng        Systems Analyst         IT   \n",
      "\n",
      "               Business Unit  Gender  Ethnicity   Age   Hire Date  \\\n",
      "2     Research & Development    Male      Asian  34.0   3/24/2019   \n",
      "3                  Corporate  Female     Latino  39.0    4/7/2018   \n",
      "5              Manufacturing    Male      Asian  62.0   4/22/2004   \n",
      "8              Manufacturing  Female  Caucasian  38.0    9/9/2011   \n",
      "10             Manufacturing    Male     Latino  49.0  10/12/2003   \n",
      "...                      ...     ...        ...   ...         ...   \n",
      "1253  Research & Development    Male     Latino  44.0   8/23/2014   \n",
      "1255           Manufacturing    Male      Black  41.0   9/20/2013   \n",
      "1258  Research & Development  Female     Latino  34.0   10/3/2015   \n",
      "1259      Specialty Products  Female     Latino  53.0   4/13/2020   \n",
      "1260               Corporate  Female      Asian  48.0   9/19/2011   \n",
      "\n",
      "     Annual Salary Bonus %        Country       City   Exit Date  \n",
      "2         $83,576       0%          China   Shanghai         NaN  \n",
      "3         $98,062       0%  United States    Seattle         NaN  \n",
      "5         $66,227       0%  United States    Phoenix   2/14/2014  \n",
      "8         $97,630       0%  United States    Seattle         NaN  \n",
      "10        $40,499       0%  United States      Miami         NaN  \n",
      "...            ...     ...            ...        ...         ...  \n",
      "1253     $171,823      27%  United States   Columbus         NaN  \n",
      "1255     $192,944      22%  United States      Miami         NaN  \n",
      "1258     $126,898      10%         Brazil     Manaus         NaN  \n",
      "1259      $93,053       0%         Brazil  Sao Paulo         NaN  \n",
      "1260      $50,513       0%  United States    Seattle  10/30/2019  \n",
      "\n",
      "[347 rows x 14 columns]\n",
      "Search Gender Male in Name Collection:      Employee ID        Full Name              Job Title   Department  \\\n",
      "0         E02002           Kai Le      Controls Engineer  Engineering   \n",
      "1         E02003     Robert Patel                Analyst        Sales   \n",
      "2         E02004       Cameron Lo  Network Administrator           IT   \n",
      "5         E02007          Ezra Vu  Network Administrator           IT   \n",
      "7         E02009      Miles Chang             Analyst II      Finance   \n",
      "...          ...              ...                    ...          ...   \n",
      "1251      E02244    Connor Howard        Systems Analyst           IT   \n",
      "1253      E02246     Landon Reyes               Director           IT   \n",
      "1254      E02247          Noah Ma         Vice President   Accounting   \n",
      "1255      E02248  Lucas Alexander               Director           IT   \n",
      "1256      E02249         Henry Vo      Controls Engineer  Engineering   \n",
      "\n",
      "               Business Unit Gender  Ethnicity   Age   Hire Date  \\\n",
      "0              Manufacturing   Male      Asian  47.0    2/5/2022   \n",
      "1                  Corporate   Male      Asian  58.0  10/23/2013   \n",
      "2     Research & Development   Male      Asian  34.0   3/24/2019   \n",
      "5              Manufacturing   Male      Asian  62.0   4/22/2004   \n",
      "7                  Corporate   Male      Asian  62.0   2/19/1999   \n",
      "...                      ...    ...        ...   ...         ...   \n",
      "1251      Specialty Products   Male  Caucasian  42.0   3/15/2021   \n",
      "1253  Research & Development   Male     Latino  44.0   8/23/2014   \n",
      "1254           Manufacturing   Male      Asian  28.0   11/6/2018   \n",
      "1255           Manufacturing   Male      Black  41.0   9/20/2013   \n",
      "1256           Manufacturing   Male      Asian  60.0   9/13/1996   \n",
      "\n",
      "     Annual Salary Bonus %        Country      City  Exit Date  \n",
      "0         $92,368       0%  United States  Columbus        NaN  \n",
      "1         $45,703       0%  United States   Chicago        NaN  \n",
      "2         $83,576       0%          China  Shanghai        NaN  \n",
      "5         $66,227       0%  United States   Phoenix  2/14/2014  \n",
      "7         $69,674       0%          China   Chengdu        NaN  \n",
      "...            ...     ...            ...       ...        ...  \n",
      "1251      $44,265       0%  United States    Austin  6/27/2022  \n",
      "1253     $171,823      27%  United States  Columbus        NaN  \n",
      "1254     $201,013      31%  United States   Phoenix        NaN  \n",
      "1255     $192,944      22%  United States     Miami        NaN  \n",
      "1256      $81,699       0%          China   Beijing        NaN  \n",
      "\n",
      "[581 rows x 14 columns]\n",
      "Search Department IT in Phone Collection:      Employee ID        Full Name              Job Title Department  \\\n",
      "2         E02004       Cameron Lo  Network Administrator         IT   \n",
      "3         E02005  Harper Castillo   IT Systems Architect         IT   \n",
      "5         E02007          Ezra Vu  Network Administrator         IT   \n",
      "8         E02010    Gianna Holmes  System Administrator          IT   \n",
      "10        E02012     Jameson Pena        Systems Analyst         IT   \n",
      "...          ...              ...                    ...        ...   \n",
      "1253      E02246     Landon Reyes               Director         IT   \n",
      "1255      E02248  Lucas Alexander               Director         IT   \n",
      "1258      E02251  Genesis Herrera                Manager         IT   \n",
      "1259      E02252   Olivia Vazquez       Network Engineer         IT   \n",
      "1260      E02253       Leilani Ng        Systems Analyst         IT   \n",
      "\n",
      "               Business Unit  Gender  Ethnicity   Age   Hire Date  \\\n",
      "2     Research & Development    Male      Asian  34.0   3/24/2019   \n",
      "3                  Corporate  Female     Latino  39.0    4/7/2018   \n",
      "5              Manufacturing    Male      Asian  62.0   4/22/2004   \n",
      "8              Manufacturing  Female  Caucasian  38.0    9/9/2011   \n",
      "10             Manufacturing    Male     Latino  49.0  10/12/2003   \n",
      "...                      ...     ...        ...   ...         ...   \n",
      "1253  Research & Development    Male     Latino  44.0   8/23/2014   \n",
      "1255           Manufacturing    Male      Black  41.0   9/20/2013   \n",
      "1258  Research & Development  Female     Latino  34.0   10/3/2015   \n",
      "1259      Specialty Products  Female     Latino  53.0   4/13/2020   \n",
      "1260               Corporate  Female      Asian  48.0   9/19/2011   \n",
      "\n",
      "     Annual Salary Bonus %        Country       City   Exit Date  \n",
      "2         $83,576       0%          China   Shanghai         NaN  \n",
      "3         $98,062       0%  United States    Seattle         NaN  \n",
      "5         $66,227       0%  United States    Phoenix   2/14/2014  \n",
      "8         $97,630       0%  United States    Seattle         NaN  \n",
      "10        $40,499       0%  United States      Miami         NaN  \n",
      "...            ...     ...            ...        ...         ...  \n",
      "1253     $171,823      27%  United States   Columbus         NaN  \n",
      "1255     $192,944      22%  United States      Miami         NaN  \n",
      "1258     $126,898      10%         Brazil     Manaus         NaN  \n",
      "1259      $93,053       0%         Brazil  Sao Paulo         NaN  \n",
      "1260      $50,513       0%  United States    Seattle  10/30/2019  \n",
      "\n",
      "[347 rows x 14 columns]\n"
     ]
    }
   ],
   "source": [
    "print(\"Search Department IT in Name Collection:\", search_dep_IT)\n",
    "print(\"Search Gender Male in Name Collection:\", search_gender_Male)\n",
    "print(\"Search Department IT in Phone Collection:\", search_dep_IT_phone)"
   ]
  },
  {
   "cell_type": "code",
   "execution_count": 198,
   "id": "7bc5a7bf-be6d-4047-a13c-42637f85243c",
   "metadata": {},
   "outputs": [],
   "source": [
    "dep_facet_name = employee_collection.getDepFacet(v_nameCollection)\n",
    "dep_facet_phone = employee_collection.getDepFacet(v_phoneCollection)"
   ]
  },
  {
   "cell_type": "code",
   "execution_count": 200,
   "id": "3ff8012d-fb2d-42ea-ab0f-7f6aa0c345cd",
   "metadata": {},
   "outputs": [
    {
     "name": "stdout",
     "output_type": "stream",
     "text": [
      "Department Facet in Name Collection: Department\n",
      "IT                 347\n",
      "Sales              188\n",
      "Engineering        159\n",
      "Marketing          136\n",
      "Accounting         132\n",
      "Finance            129\n",
      "Human Resources    124\n",
      "Name: count, dtype: int64\n",
      "Department Facet in Phone Collection: Department\n",
      "IT                 347\n",
      "Sales              188\n",
      "Engineering        159\n",
      "Marketing          136\n",
      "Accounting         132\n",
      "Finance            129\n",
      "Human Resources    124\n",
      "Name: count, dtype: int64\n"
     ]
    }
   ],
   "source": [
    "print(\"Department Facet in Name Collection:\", dep_facet_name)\n",
    "print(\"Department Facet in Phone Collection:\", dep_facet_phone)"
   ]
  },
  {
   "cell_type": "code",
   "execution_count": null,
   "id": "0ff5f799-57f5-45c4-aada-d637dea4e63b",
   "metadata": {},
   "outputs": [],
   "source": []
  }
 ],
 "metadata": {
  "kernelspec": {
   "display_name": "Python 3 (ipykernel)",
   "language": "python",
   "name": "python3"
  },
  "language_info": {
   "codemirror_mode": {
    "name": "ipython",
    "version": 3
   },
   "file_extension": ".py",
   "mimetype": "text/x-python",
   "name": "python",
   "nbconvert_exporter": "python",
   "pygments_lexer": "ipython3",
   "version": "3.12.4"
  }
 },
 "nbformat": 4,
 "nbformat_minor": 5
}
